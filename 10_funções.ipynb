{
  "nbformat": 4,
  "nbformat_minor": 0,
  "metadata": {
    "colab": {
      "provenance": [],
      "authorship_tag": "ABX9TyMd2SAFig2pWLFTauDUjEhe",
      "include_colab_link": true
    },
    "kernelspec": {
      "name": "python3",
      "display_name": "Python 3"
    },
    "language_info": {
      "name": "python"
    }
  },
  "cells": [
    {
      "cell_type": "markdown",
      "metadata": {
        "id": "view-in-github",
        "colab_type": "text"
      },
      "source": [
        "<a href=\"https://colab.research.google.com/github/DanielMoreira26/dfmnatal/blob/main/10_fun%C3%A7%C3%B5es.ipynb\" target=\"_parent\"><img src=\"https://colab.research.google.com/assets/colab-badge.svg\" alt=\"Open In Colab\"/></a>"
      ]
    },
    {
      "cell_type": "code",
      "execution_count": null,
      "metadata": {
        "colab": {
          "base_uri": "https://localhost:8080/"
        },
        "id": "TN3fcmxpfxhe",
        "outputId": "803424ce-458c-4c9c-8d05-312bddca90b4"
      },
      "outputs": [
        {
          "output_type": "stream",
          "name": "stdout",
          "text": [
            "True\n",
            "False\n"
          ]
        }
      ],
      "source": [
        "#função de retorno par\n",
        "def epar(num):\n",
        "    if num % 2 == 0:\n",
        "        return True\n",
        "    else:\n",
        "        return False\n",
        "\n",
        "print(epar(4))\n",
        "print(epar(3))\n"
      ]
    },
    {
      "cell_type": "code",
      "source": [
        "#funcção para verificar se um número é primo\n",
        "def primo(num):\n",
        "    for i in range(2, num):\n",
        "        if num % i == 0:\n",
        "            return False\n",
        "    return True\n",
        "\n",
        "print(primo(4))\n",
        "print(primo(5))"
      ],
      "metadata": {
        "colab": {
          "base_uri": "https://localhost:8080/"
        },
        "id": "_4jBKh9FgHAz",
        "outputId": "5235c15a-c19c-49a3-e18a-1edfa3555337"
      },
      "execution_count": null,
      "outputs": [
        {
          "output_type": "stream",
          "name": "stdout",
          "text": [
            "False\n",
            "True\n"
          ]
        }
      ]
    },
    {
      "cell_type": "code",
      "source": [
        "x = range(6)\n",
        "for n in x:\n",
        "  print(n)"
      ],
      "metadata": {
        "colab": {
          "base_uri": "https://localhost:8080/"
        },
        "id": "bc76HrkmSOss",
        "outputId": "8396f354-b10f-4c05-a782-006770643c45"
      },
      "execution_count": null,
      "outputs": [
        {
          "output_type": "stream",
          "name": "stdout",
          "text": [
            "0\n",
            "1\n",
            "2\n",
            "3\n",
            "4\n",
            "5\n"
          ]
        }
      ]
    },
    {
      "cell_type": "code",
      "source": [
        "def primo(num):\n",
        "    for i in range(2, num):\n",
        "        if num % i == 0:\n",
        "            return False\n",
        "    return True\n",
        "\n",
        "#print(primo(4))\n",
        "#print(primo(5))\n",
        "valor = int(input(\"Digite o número inteiro para verificar se é primo \"))\n",
        "if primo(valor):\n",
        "    print(\"O número é primo\")\n",
        "else:\n",
        "    print(\"O número não é primo\")\n",
        "\n"
      ],
      "metadata": {
        "id": "z8LatJPMVxqL",
        "outputId": "6954895a-1dcc-4991-e817-3fa99065932b",
        "colab": {
          "base_uri": "https://localhost:8080/"
        }
      },
      "execution_count": null,
      "outputs": [
        {
          "output_type": "stream",
          "name": "stdout",
          "text": [
            "Digite o número inteiro para verificar se é primo 137\n",
            "O número é primo\n"
          ]
        }
      ]
    },
    {
      "cell_type": "markdown",
      "source": [
        "Variáveis Globais e Locais"
      ],
      "metadata": {
        "id": "UeKBwx6-oVuZ"
      }
    },
    {
      "cell_type": "code",
      "source": [
        "a=5\n",
        "def muda_e_imprime():\n",
        "  a=10\n",
        "  print('a dentro da função: ', a) #a=10\n",
        "\n",
        "print('a antes de mudar: ', a) #a=5\n",
        "muda_e_imprime() #chamada da funcao, a=10\n",
        "print('a depois de mudar: ', a) #a=5"
      ],
      "metadata": {
        "id": "onhOtuPFny8D",
        "outputId": "ee02ab77-d160-489b-bd46-92792ab198fc",
        "colab": {
          "base_uri": "https://localhost:8080/"
        }
      },
      "execution_count": 1,
      "outputs": [
        {
          "output_type": "stream",
          "name": "stdout",
          "text": [
            "a antes de mudar:  5\n",
            "a dentro da função:  10\n",
            "a depois de mudar:  5\n"
          ]
        }
      ]
    },
    {
      "cell_type": "code",
      "source": [
        "a=5\n",
        "def muda_e_imprime():\n",
        "  global a #declara que a é uma variável global\n",
        "  a=10\n",
        "  print('a dentro da função: ', a) #a=10\n",
        "\n",
        "print('a antes de mudar: ', a) #a=5\n",
        "muda_e_imprime() #chamada da funcao, a=10\n",
        "print('a depois de mudar: ', a) #a=10\n",
        ""
      ],
      "metadata": {
        "id": "jpn3FBACoPxt",
        "outputId": "5698f2fa-f8a8-4871-d230-03391dbc7943",
        "colab": {
          "base_uri": "https://localhost:8080/"
        }
      },
      "execution_count": 2,
      "outputs": [
        {
          "output_type": "stream",
          "name": "stdout",
          "text": [
            "a antes de mudar:  5\n",
            "a dentro da função:  10\n",
            "a depois de mudar:  10\n"
          ]
        }
      ]
    },
    {
      "cell_type": "code",
      "source": [],
      "metadata": {
        "id": "JTu7H54voZ5c"
      },
      "execution_count": null,
      "outputs": []
    }
  ]
}