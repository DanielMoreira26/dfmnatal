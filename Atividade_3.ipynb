{
  "nbformat": 4,
  "nbformat_minor": 0,
  "metadata": {
    "colab": {
      "provenance": [],
      "authorship_tag": "ABX9TyNQ5BJdUr9Kw0gjjAk0wUH4",
      "include_colab_link": true
    },
    "kernelspec": {
      "name": "python3",
      "display_name": "Python 3"
    },
    "language_info": {
      "name": "python"
    }
  },
  "cells": [
    {
      "cell_type": "markdown",
      "metadata": {
        "id": "view-in-github",
        "colab_type": "text"
      },
      "source": [
        "<a href=\"https://colab.research.google.com/github/DanielMoreira26/dfmnatal/blob/main/Atividade_3.ipynb\" target=\"_parent\"><img src=\"https://colab.research.google.com/assets/colab-badge.svg\" alt=\"Open In Colab\"/></a>"
      ]
    },
    {
      "cell_type": "markdown",
      "source": [
        "1 - Calculadora de IMC"
      ],
      "metadata": {
        "id": "55qGuX_AHVMC"
      }
    },
    {
      "cell_type": "code",
      "source": [
        "peso = float(input(\"Informe seu peso? (Kg) \"))\n",
        "altura = float(input(\"Informe sua altura? (m) \"))\n",
        "imc = peso / (altura * altura)\n",
        "print(\"O IMC dessa pessoa é de {: .2f}\" .format(imc))\n",
        "if imc < 18.5:\n",
        "  print(\"Você está ABAIXO PESO\")\n",
        "elif 18.5 <= imc < 25:\n",
        "  print(\"Você está com PESO NORMAL\")\n",
        "elif 25 <= imc < 30:\n",
        "  print(\"Você está com SOBREPESO\")\n",
        "elif imc >= 30.0:\n",
        "  print(\"Você está em OBESIDADE\")\n"
      ],
      "metadata": {
        "colab": {
          "base_uri": "https://localhost:8080/"
        },
        "id": "LLnVQcw-Hj24",
        "outputId": "ded089e3-4332-4d11-bf80-4eea54b44317"
      },
      "execution_count": 3,
      "outputs": [
        {
          "output_type": "stream",
          "name": "stdout",
          "text": [
            "Informe seu peso? (Kg) 80\n",
            "Informe sua altura? (m) 1.75\n",
            "O IMC dessa pessoa é de  26.12\n",
            "Você está com SOBREPESO\n"
          ]
        }
      ]
    },
    {
      "cell_type": "markdown",
      "source": [
        "2 - Verificador de número par ou ímpar"
      ],
      "metadata": {
        "id": "R2zIx09LcZsZ"
      }
    },
    {
      "cell_type": "code",
      "source": [
        "número = int(input(\"Diga-me um número qualquer\"))\n",
        "resultado = número % 2\n",
        "print(\"O resultado foi {}\".format(resultado))\n",
        "if resultado == 0:\n",
        "  print(\"O número {} é PAR\".format(número))\n",
        "else:\n",
        "  print(\"O número {} é impar\".format(número))"
      ],
      "metadata": {
        "id": "TsVo1TDbcjEr",
        "outputId": "74cacee7-e409-48ee-884d-c28cf049316c",
        "colab": {
          "base_uri": "https://localhost:8080/"
        }
      },
      "execution_count": 13,
      "outputs": [
        {
          "output_type": "stream",
          "name": "stdout",
          "text": [
            "Diga-me um número qualquer26\n",
            "O resultado foi 0\n",
            "O número 26 é PAR\n"
          ]
        }
      ]
    }
  ]
}