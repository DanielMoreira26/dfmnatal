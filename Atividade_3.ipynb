{
  "nbformat": 4,
  "nbformat_minor": 0,
  "metadata": {
    "colab": {
      "provenance": [],
      "authorship_tag": "ABX9TyOseWW7uY57tXkggypzdToz",
      "include_colab_link": true
    },
    "kernelspec": {
      "name": "python3",
      "display_name": "Python 3"
    },
    "language_info": {
      "name": "python"
    }
  },
  "cells": [
    {
      "cell_type": "markdown",
      "metadata": {
        "id": "view-in-github",
        "colab_type": "text"
      },
      "source": [
        "<a href=\"https://colab.research.google.com/github/DanielMoreira26/dfmnatal/blob/main/Atividade_3.ipynb\" target=\"_parent\"><img src=\"https://colab.research.google.com/assets/colab-badge.svg\" alt=\"Open In Colab\"/></a>"
      ]
    },
    {
      "cell_type": "markdown",
      "source": [
        "1 - Calculadora de IMC"
      ],
      "metadata": {
        "id": "55qGuX_AHVMC"
      }
    },
    {
      "cell_type": "code",
      "source": [
        "peso = float(input(\"Informe seu peso? (Kg) \"))\n",
        "altura = float(input(\"Informe sua altura? (m) \"))\n",
        "imc = peso / (altura * altura)\n",
        "print(\"O IMC dessa pessoa é de {: .2f}\" .format(imc))\n",
        "if imc < 18.5:\n",
        "  print(\"Você está ABAIXO PESO\")\n",
        "elif 18.5 <= imc < 25:\n",
        "  print(\"Você está com PESO NORMAL\")\n",
        "elif 25 <= imc < 30:\n",
        "  print(\"Você está com SOBREPESO\")\n",
        "elif imc >= 30.0:\n",
        "  print(\"Você está em OBESIDADE\")\n"
      ],
      "metadata": {
        "colab": {
          "base_uri": "https://localhost:8080/"
        },
        "id": "LLnVQcw-Hj24",
        "outputId": "8d4c4b9e-3481-4846-a399-dbf526e973de"
      },
      "execution_count": null,
      "outputs": [
        {
          "output_type": "stream",
          "name": "stdout",
          "text": [
            "Informe seu peso? (Kg) 83\n",
            "Informe sua altura? (m) 1.75\n",
            "O IMC dessa pessoa é de  27.10\n",
            "Você está com SOBREPESO\n"
          ]
        }
      ]
    },
    {
      "cell_type": "markdown",
      "source": [
        "2 - Verificador de número par ou ímpar"
      ],
      "metadata": {
        "id": "R2zIx09LcZsZ"
      }
    },
    {
      "cell_type": "code",
      "source": [
        "número = int(input(\"Diga-me um número inteiro\"))\n",
        "resultado = número % 2\n",
        "print(\"O resultado foi {}\".format(resultado))\n",
        "if resultado == 0:\n",
        "  print(\"O número {} é PAR\".format(número))\n",
        "else:\n",
        "  print(\"O número {} é impar\".format(número))"
      ],
      "metadata": {
        "id": "TsVo1TDbcjEr",
        "outputId": "b1c2f424-52a6-467f-f3b7-ad0f3c1cc1f4",
        "colab": {
          "base_uri": "https://localhost:8080/"
        }
      },
      "execution_count": null,
      "outputs": [
        {
          "output_type": "stream",
          "name": "stdout",
          "text": [
            "Diga-me um número inteiro26\n",
            "O resultado foi 0\n",
            "O número 26 é PAR\n"
          ]
        }
      ]
    },
    {
      "cell_type": "markdown",
      "source": [
        "3 - Conversor de temperatura"
      ],
      "metadata": {
        "id": "eSA2DQSCKBxi"
      }
    },
    {
      "cell_type": "code",
      "source": [
        "c = float(input(\"Informe a temperatura em °C: \"))\n",
        "f = ((9 * c) / 5) + 32\n",
        "print(\"A temperatura de {}°C equivale à {}°F!\".format(c, f))\n"
      ],
      "metadata": {
        "colab": {
          "base_uri": "https://localhost:8080/"
        },
        "id": "EWB1S00eLMp8",
        "outputId": "4f3a70ca-c922-451e-ac42-30b5686bbf55"
      },
      "execution_count": null,
      "outputs": [
        {
          "output_type": "stream",
          "name": "stdout",
          "text": [
            "Informe a temperatura em °C: 32\n",
            "A temperatura de 32.0°C equivale à 89.6°F!\n"
          ]
        }
      ]
    },
    {
      "cell_type": "markdown",
      "source": [
        "4 - Tabuada de multiplicação"
      ],
      "metadata": {
        "id": "E2-yMmVQQvZm"
      }
    },
    {
      "cell_type": "code",
      "source": [
        "num = int(input(\"Digite um número para visualizar sua tabuada: \"))\n",
        "print(\"_\" * 11)\n",
        "print(\"{} * {:2} = {}\".format(num, 1, num*1))\n",
        "print(\"{} * {:2} = {}\".format(num, 2, num*2))\n",
        "print(\"{} * {:2} = {}\".format(num, 3, num*3))\n",
        "print(\"{} * {:2} = {}\".format(num, 4, num*4))\n",
        "print(\"{} * {:2} = {}\".format(num, 5, num*5))\n",
        "print(\"{} * {:2} = {}\".format(num, 6, num*6))\n",
        "print(\"{} * {:2} = {}\".format(num, 7, num*7))\n",
        "print(\"{} * {:2} = {}\".format(num, 8, num*8))\n",
        "print(\"{} * {:2} = {}\".format(num, 9, num*9))\n",
        "print(\"{} * {:2} = {}\".format(num, 10,num*10))\n",
        "print(\"_\" * 11)"
      ],
      "metadata": {
        "id": "mDn_UIVgQyoI",
        "colab": {
          "base_uri": "https://localhost:8080/"
        },
        "outputId": "a58efd2b-cd81-4524-c0b9-9e04527abc91"
      },
      "execution_count": null,
      "outputs": [
        {
          "output_type": "stream",
          "name": "stdout",
          "text": [
            "Digite um número para visualizar sua tabuada: 9\n",
            "___________\n",
            "9 *  1 = 9\n",
            "9 *  2 = 18\n",
            "9 *  3 = 27\n",
            "9 *  4 = 36\n",
            "9 *  5 = 45\n",
            "9 *  6 = 54\n",
            "9 *  7 = 63\n",
            "9 *  8 = 72\n",
            "9 *  9 = 81\n",
            "9 * 10 = 90\n",
            "___________\n"
          ]
        }
      ]
    },
    {
      "cell_type": "markdown",
      "source": [
        "5 - Cálculo de média ponderada"
      ],
      "metadata": {
        "id": "LtcItkzhu1Tf"
      }
    },
    {
      "cell_type": "code",
      "source": [
        "  #Float, tipagem explícita, para garantir número fracionário\n",
        "  n1 = float( input(\"Digite a nota 1(com peso 2): \") )\n",
        "  n2 = float( input(\"Digite a nota 2(com peso 3): \") )\n",
        "  n3 = float( input(\"Digite a nota 3(com peso 4): \") )\n",
        "\n",
        "\n",
        "  #calculo de media ponderada\n",
        "  media = (n1 * 2 + n2 * 3 + n3 * 4) / 9\n",
        "\n",
        "  #impressão da média\n",
        "  print(f\"A média ponderada das notas é: {media:.2f}\")\n"
      ],
      "metadata": {
        "colab": {
          "base_uri": "https://localhost:8080/"
        },
        "id": "u1JY-JnX50yd",
        "outputId": "d98044fc-c791-409a-b836-dafcd8aa32c0"
      },
      "execution_count": null,
      "outputs": [
        {
          "output_type": "stream",
          "name": "stdout",
          "text": [
            "Digite a nota 1(com peso 2): 7\n",
            "Digite a nota 2(com peso 3): 8\n",
            "Digite a nota 3(com peso 4): 9\n",
            "A média ponderada das notas é: 8.22\n"
          ]
        }
      ]
    },
    {
      "cell_type": "markdown",
      "source": [
        "6 - Verificador de Ano Bissexto"
      ],
      "metadata": {
        "id": "uTiGfLc6-RNH"
      }
    },
    {
      "cell_type": "code",
      "source": [
        "ano = int(input(\"digite o ano? \"))\n",
        "if ano % 4 == 0:\n",
        "  print(\"Este ano é Bissexto\")\n",
        "else:\n",
        "  print(\"Este ano não é Bissexto\")"
      ],
      "metadata": {
        "colab": {
          "base_uri": "https://localhost:8080/"
        },
        "id": "7234faFe-Xcn",
        "outputId": "c22d3dbf-0ae0-4601-ba44-ce4295ed1f28"
      },
      "execution_count": null,
      "outputs": [
        {
          "output_type": "stream",
          "name": "stdout",
          "text": [
            "digite o ano? 1006\n",
            "Este ano não é Bissexto\n"
          ]
        }
      ]
    },
    {
      "cell_type": "markdown",
      "source": [
        "7 - Contador de vogais em uma String"
      ],
      "metadata": {
        "id": "xH2bSV5oBTax"
      }
    },
    {
      "cell_type": "code",
      "source": [
        "def contar_vogais(string):\n",
        "    # Define uma lista de vogais\n",
        "    vogais = 'aeiouAEIOU'\n",
        "    # Inicializa o contador de vogais\n",
        "    contador = 0\n",
        "    # Percorre cada caractere na string\n",
        "    for char in string:\n",
        "        # Verifica se o caractere é uma vogal\n",
        "        if char in vogais:\n",
        "            contador += 1\n",
        "    return contador\n",
        "\n",
        "# Testando a função\n",
        "texto = input(\"Digite uma string: \")\n",
        "resultado = contar_vogais(texto)\n",
        "print(\"O número de vogais na string é:\", resultado)"
      ],
      "metadata": {
        "id": "sG-VTp5pBYP9",
        "colab": {
          "base_uri": "https://localhost:8080/"
        },
        "outputId": "08510fd8-95d9-450a-dcb6-f721318b4eb4"
      },
      "execution_count": 3,
      "outputs": [
        {
          "output_type": "stream",
          "name": "stdout",
          "text": [
            "Digite uma string: Todos têm direito ao meio ambiente ecologicamente equilibrado, bem de uso comum do povo e essencial à sadia qualidade de vida, impondo-se ao Poder Público e à coletividade o dever de defendê-lo e preservá- lo para as presentes e futuras gerações.\n",
            "O número de vogais na string é: 94\n"
          ]
        }
      ]
    },
    {
      "cell_type": "markdown",
      "source": [
        "8 - Calculadora de Fatorial"
      ],
      "metadata": {
        "id": "dmQkGU3yJxEZ"
      }
    },
    {
      "cell_type": "code",
      "source": [
        "from math import factorial\n",
        "n = int(input(\"Digite um número para calcular seu Fatorial: \"))\n",
        "f = factorial(n)\n",
        "print(\"O Fatorial de {} é {}.\".format(n, f))\n"
      ],
      "metadata": {
        "colab": {
          "base_uri": "https://localhost:8080/"
        },
        "id": "M33BrQYIJ46C",
        "outputId": "4cb7f167-9e61-40f6-e104-0af45c9c4206"
      },
      "execution_count": null,
      "outputs": [
        {
          "output_type": "stream",
          "name": "stdout",
          "text": [
            "Digite um número para calcular seu Fatorial: 26\n",
            "O Fatorial de 26 é 403291461126605635584000000.\n"
          ]
        }
      ]
    },
    {
      "cell_type": "markdown",
      "source": [
        "9 - Soma dos Números Pares em um Intervalo"
      ],
      "metadata": {
        "id": "jeIrOvakJ6Po"
      }
    },
    {
      "cell_type": "code",
      "source": [
        "def soma_numeros_pares(inicio, fim):\n",
        "    soma = 0\n",
        "    for num in range(inicio, fim + 1):\n",
        "        if num % 2 == 0:\n",
        "            soma += num\n",
        "    return soma\n",
        "\n",
        "# Testando a função\n",
        "inicio = int(input(\"Digite o número inicial do intervalo: \"))\n",
        "fim = int(input(\"Digite o número final do intervalo: \"))\n",
        "resultado = soma_numeros_pares(inicio, fim)\n",
        "print(\"A soma dos números pares no intervalo de\", inicio, \"a\", fim, \"é:\", resultado)"
      ],
      "metadata": {
        "id": "24_CMvdeJ_8N",
        "colab": {
          "base_uri": "https://localhost:8080/"
        },
        "outputId": "0b16967f-231a-45c3-b150-cf615c080292"
      },
      "execution_count": 2,
      "outputs": [
        {
          "output_type": "stream",
          "name": "stdout",
          "text": [
            "Digite o número inicial do intervalo: 101\n",
            "Digite o número final do intervalo: 1059\n",
            "A soma dos números pares no intervalo de 101 a 1059 é: 277820\n"
          ]
        }
      ]
    },
    {
      "cell_type": "markdown",
      "source": [
        "10 - Verificador de Número Primo"
      ],
      "metadata": {
        "id": "k84LhZznKBJa"
      }
    },
    {
      "cell_type": "code",
      "source": [
        "def is_prime(n):\n",
        "    if n <= 1:\n",
        "        return False\n",
        "    elif n <= 3:\n",
        "        return True\n",
        "    elif n % 2 == 0 or n % 3 == 0:\n",
        "        return False\n",
        "    i = 5\n",
        "    while i * i <= n:\n",
        "        if n % i == 0 or n % (i + 2) == 0:\n",
        "            return False\n",
        "        i += 6\n",
        "    return True\n",
        "\n",
        "# Testando a função\n",
        "num = int(input(\"Digite um número para verificar se é primo: \"))\n",
        "if is_prime(num):\n",
        "    print(num, \"é um número primo.\")\n",
        "else:\n",
        "    print(num, \"não é um número primo.\")"
      ],
      "metadata": {
        "colab": {
          "base_uri": "https://localhost:8080/"
        },
        "id": "C2N5xI_DKHLb",
        "outputId": "2f742896-b7e2-4eab-f87e-76fd1302fba3"
      },
      "execution_count": 1,
      "outputs": [
        {
          "output_type": "stream",
          "name": "stdout",
          "text": [
            "Digite um número para verificar se é primo: 79\n",
            "79 é um número primo.\n"
          ]
        }
      ]
    }
  ]
}