{
  "nbformat": 4,
  "nbformat_minor": 0,
  "metadata": {
    "colab": {
      "provenance": [],
      "authorship_tag": "ABX9TyPsK3s1OM4+diJKR1X19Srj",
      "include_colab_link": true
    },
    "kernelspec": {
      "name": "python3",
      "display_name": "Python 3"
    },
    "language_info": {
      "name": "python"
    }
  },
  "cells": [
    {
      "cell_type": "markdown",
      "metadata": {
        "id": "view-in-github",
        "colab_type": "text"
      },
      "source": [
        "<a href=\"https://colab.research.google.com/github/DanielMoreira26/dfmnatal/blob/main/Atividade_3.ipynb\" target=\"_parent\"><img src=\"https://colab.research.google.com/assets/colab-badge.svg\" alt=\"Open In Colab\"/></a>"
      ]
    },
    {
      "cell_type": "markdown",
      "source": [
        "1 - Calculadora de IMC"
      ],
      "metadata": {
        "id": "55qGuX_AHVMC"
      }
    },
    {
      "cell_type": "code",
      "source": [
        "peso = float(input(\"Informe seu peso? (Kg) \"))\n",
        "altura = float(input(\"Informe sua altura? (m) \"))\n",
        "imc = peso / (altura * altura)\n",
        "print(\"O IMC dessa pessoa é de {: .2f}\" .format(imc))\n",
        "if imc < 18.5:\n",
        "  print(\"Você está ABAIXO DO PESO\")\n",
        "elif 18.5 <= imc < 25:\n",
        "  print(\"Você está com PESO NORMAL\")\n",
        "elif 25 <= imc < 30:\n",
        "  print(\"Você está com SOBREPESO\")\n",
        "elif imc >= 30.0:\n",
        "  print(\"Você está em OBESIDADE\")\n"
      ],
      "metadata": {
        "colab": {
          "base_uri": "https://localhost:8080/"
        },
        "id": "LLnVQcw-Hj24",
        "outputId": "2ae29ea9-aa39-4b7d-f396-70fa30963dbe"
      },
      "execution_count": 1,
      "outputs": [
        {
          "output_type": "stream",
          "name": "stdout",
          "text": [
            "Informe seu peso? (Kg) 86\n",
            "Informe sua altura? (m) 1.75\n",
            "O IMC dessa pessoa é de  28.08\n",
            "Você está com SOBREPESO\n"
          ]
        }
      ]
    },
    {
      "cell_type": "markdown",
      "source": [
        "2 - Verificador de número par ou ímpar"
      ],
      "metadata": {
        "id": "R2zIx09LcZsZ"
      }
    },
    {
      "cell_type": "code",
      "source": [
        "número = int(input(\"Diga-me um número inteiro\"))\n",
        "resultado = número % 2\n",
        "print(\"O resultado foi {}\".format(resultado))\n",
        "if resultado == 0:\n",
        "  print(\"O número {} é PAR\".format(número))\n",
        "else:\n",
        "  print(\"O número {} é impar\".format(número))"
      ],
      "metadata": {
        "id": "TsVo1TDbcjEr",
        "outputId": "778d0829-a262-4473-aa69-adeccee3c914",
        "colab": {
          "base_uri": "https://localhost:8080/"
        }
      },
      "execution_count": 2,
      "outputs": [
        {
          "output_type": "stream",
          "name": "stdout",
          "text": [
            "Diga-me um número inteiro17\n",
            "O resultado foi 1\n",
            "O número 17 é impar\n"
          ]
        }
      ]
    },
    {
      "cell_type": "markdown",
      "source": [
        "3 - Conversor de temperatura"
      ],
      "metadata": {
        "id": "eSA2DQSCKBxi"
      }
    },
    {
      "cell_type": "code",
      "source": [
        "c = float(input(\"Informe a temperatura em °C: \"))\n",
        "f = ((9 * c) / 5) + 32\n",
        "print(\"A temperatura de {}°C equivale à {}°F!\".format(c, f))\n"
      ],
      "metadata": {
        "colab": {
          "base_uri": "https://localhost:8080/"
        },
        "id": "EWB1S00eLMp8",
        "outputId": "04d0001d-bb4e-4aa9-e2d1-78a88a34ad67"
      },
      "execution_count": 3,
      "outputs": [
        {
          "output_type": "stream",
          "name": "stdout",
          "text": [
            "Informe a temperatura em °C: 30\n",
            "A temperatura de 30.0°C equivale à 86.0°F!\n"
          ]
        }
      ]
    },
    {
      "cell_type": "markdown",
      "source": [
        "4 - Tabuada de multiplicação"
      ],
      "metadata": {
        "id": "E2-yMmVQQvZm"
      }
    },
    {
      "cell_type": "code",
      "source": [
        "num = int(input(\"Digite um número para visualizar sua tabuada: \"))\n",
        "print(\"_\" * 11)\n",
        "print(\"{} * {:2} = {}\".format(num, 1, num*1))\n",
        "print(\"{} * {:2} = {}\".format(num, 2, num*2))\n",
        "print(\"{} * {:2} = {}\".format(num, 3, num*3))\n",
        "print(\"{} * {:2} = {}\".format(num, 4, num*4))\n",
        "print(\"{} * {:2} = {}\".format(num, 5, num*5))\n",
        "print(\"{} * {:2} = {}\".format(num, 6, num*6))\n",
        "print(\"{} * {:2} = {}\".format(num, 7, num*7))\n",
        "print(\"{} * {:2} = {}\".format(num, 8, num*8))\n",
        "print(\"{} * {:2} = {}\".format(num, 9, num*9))\n",
        "print(\"{} * {:2} = {}\".format(num, 10,num*10))\n",
        "print(\"_\" * 11)"
      ],
      "metadata": {
        "id": "mDn_UIVgQyoI",
        "colab": {
          "base_uri": "https://localhost:8080/"
        },
        "outputId": "b96bd379-e5d2-4fdc-f5eb-8bd143a49cba"
      },
      "execution_count": 4,
      "outputs": [
        {
          "output_type": "stream",
          "name": "stdout",
          "text": [
            "Digite um número para visualizar sua tabuada: 26\n",
            "___________\n",
            "26 *  1 = 26\n",
            "26 *  2 = 52\n",
            "26 *  3 = 78\n",
            "26 *  4 = 104\n",
            "26 *  5 = 130\n",
            "26 *  6 = 156\n",
            "26 *  7 = 182\n",
            "26 *  8 = 208\n",
            "26 *  9 = 234\n",
            "26 * 10 = 260\n",
            "___________\n"
          ]
        }
      ]
    },
    {
      "cell_type": "markdown",
      "source": [
        "5 - Cálculo de média ponderada"
      ],
      "metadata": {
        "id": "LtcItkzhu1Tf"
      }
    },
    {
      "cell_type": "code",
      "source": [
        "peso_n1 = float( input(\"Digite o peso da nota 1: \"))\n",
        "n1 = float( input(\"Digite a nota 1: \") )\n",
        "peso_n2 = float( input(\"Digite o peso da nota 2: \"))\n",
        "n2 = float( input(\"Digite a nota 2: \") )\n",
        "peso_n3 = float( input(\"Digite o peso da nota 3: \"))\n",
        "n3 = float( input(\"Digite a nota 3: \") )\n",
        "  #calculo de media ponderada\n",
        "media = (n1 * peso_n1 + n2 * peso_n2 + n3 * peso_n3) / (peso_n1 + peso_n2 + peso_n3)\n",
        "\n",
        "  #impressão da média\n",
        "print(f\"A média ponderada das notas é: {media:.2f}\")"
      ],
      "metadata": {
        "colab": {
          "base_uri": "https://localhost:8080/"
        },
        "id": "u1JY-JnX50yd",
        "outputId": "44a6f309-22d6-4f36-f30a-3f7b91b1de0c"
      },
      "execution_count": 5,
      "outputs": [
        {
          "output_type": "stream",
          "name": "stdout",
          "text": [
            "Digite o peso da nota 1: 2\n",
            "Digite a nota 1: 6.7\n",
            "Digite o peso da nota 2: 3\n",
            "Digite a nota 2: 7.1\n",
            "Digite o peso da nota 3: 4\n",
            "Digite a nota 3: 6\n",
            "A média ponderada das notas é: 6.52\n"
          ]
        }
      ]
    },
    {
      "cell_type": "markdown",
      "source": [
        "6 - Verificador de Ano Bissexto"
      ],
      "metadata": {
        "id": "uTiGfLc6-RNH"
      }
    },
    {
      "cell_type": "code",
      "source": [
        "ano = int(input(\"digite o ano? \"))\n",
        "if ano % 4 == 0:\n",
        "  print(\"Este ano é Bissexto\")\n",
        "else:\n",
        "  print(\"Este ano não é Bissexto\")"
      ],
      "metadata": {
        "colab": {
          "base_uri": "https://localhost:8080/"
        },
        "id": "7234faFe-Xcn",
        "outputId": "3469e81d-9b24-404c-e133-88ff37a71c97"
      },
      "execution_count": 6,
      "outputs": [
        {
          "output_type": "stream",
          "name": "stdout",
          "text": [
            "digite o ano? 2016\n",
            "Este ano é Bissexto\n"
          ]
        }
      ]
    },
    {
      "cell_type": "markdown",
      "source": [
        "7 - Contador de vogais em uma String"
      ],
      "metadata": {
        "id": "xH2bSV5oBTax"
      }
    },
    {
      "cell_type": "code",
      "source": [
        "def contar_vogais(string):\n",
        "    # Define uma lista de vogais\n",
        "    vogais = 'aeiouAEIOU'\n",
        "    # Inicializa o contador de vogais\n",
        "    contador = 0\n",
        "    # Percorre cada caractere na string\n",
        "    for char in string:\n",
        "        # Verifica se o caractere é uma vogal\n",
        "        if char in vogais:\n",
        "            contador += 1\n",
        "    return contador\n",
        "\n",
        "# Testando a função\n",
        "texto = input(\"Digite uma string: \")\n",
        "resultado = contar_vogais(texto)\n",
        "print(\"O número de vogais na string é:\", resultado)"
      ],
      "metadata": {
        "id": "sG-VTp5pBYP9",
        "colab": {
          "base_uri": "https://localhost:8080/"
        },
        "outputId": "56286aed-2931-43c4-b034-930d532765ac"
      },
      "execution_count": 7,
      "outputs": [
        {
          "output_type": "stream",
          "name": "stdout",
          "text": [
            "Digite uma string: O abastecimento de água à população da Zona Norte de Natal/RN é realizado através da exploração de poços tubulares, aproximadamente 38% e pelo manancial  da lagoa de Extremoz, aproximadamente 62% pertencente à Bacia Hidrográfica Doce\n",
            "O número de vogais na string é: 83\n"
          ]
        }
      ]
    },
    {
      "cell_type": "markdown",
      "source": [
        "8 - Calculadora de Fatorial"
      ],
      "metadata": {
        "id": "dmQkGU3yJxEZ"
      }
    },
    {
      "cell_type": "code",
      "source": [
        "from math import factorial\n",
        "n = int(input(\"Digite um número para calcular seu Fatorial: \"))\n",
        "f = factorial(n)\n",
        "print(\"O Fatorial de {} é {}.\".format(n, f))\n"
      ],
      "metadata": {
        "colab": {
          "base_uri": "https://localhost:8080/"
        },
        "id": "M33BrQYIJ46C",
        "outputId": "1be07e4a-1b42-408d-8955-e6fb2df13059"
      },
      "execution_count": 8,
      "outputs": [
        {
          "output_type": "stream",
          "name": "stdout",
          "text": [
            "Digite um número para calcular seu Fatorial: 12\n",
            "O Fatorial de 12 é 479001600.\n"
          ]
        }
      ]
    },
    {
      "cell_type": "markdown",
      "source": [
        "9 - Soma dos Números Pares em um Intervalo"
      ],
      "metadata": {
        "id": "jeIrOvakJ6Po"
      }
    },
    {
      "cell_type": "code",
      "source": [
        "def soma_numeros_pares(inicio, fim):\n",
        "    soma = 0\n",
        "    for num in range(inicio, fim + 1):\n",
        "        if num % 2 == 0:\n",
        "            soma += num\n",
        "    return soma\n",
        "\n",
        "# Testando a função\n",
        "inicio = int(input(\"Digite o número inicial do intervalo: \"))\n",
        "fim = int(input(\"Digite o número final do intervalo: \"))\n",
        "resultado = soma_numeros_pares(inicio, fim)\n",
        "print(\"A soma dos números pares no intervalo de\", inicio, \"a\", fim, \"é:\", resultado)"
      ],
      "metadata": {
        "id": "24_CMvdeJ_8N",
        "colab": {
          "base_uri": "https://localhost:8080/"
        },
        "outputId": "c597e672-a093-4f99-ce64-8c31ac8dd1ec"
      },
      "execution_count": 9,
      "outputs": [
        {
          "output_type": "stream",
          "name": "stdout",
          "text": [
            "Digite o número inicial do intervalo: 01\n",
            "Digite o número final do intervalo: 100\n",
            "A soma dos números pares no intervalo de 1 a 100 é: 2550\n"
          ]
        }
      ]
    },
    {
      "cell_type": "markdown",
      "source": [
        "10 - Verificador de Número Primo"
      ],
      "metadata": {
        "id": "k84LhZznKBJa"
      }
    },
    {
      "cell_type": "code",
      "source": [
        "def is_prime(n):\n",
        "    if n <= 1:\n",
        "        return False\n",
        "    elif n <= 3:\n",
        "        return True\n",
        "    elif n % 2 == 0 or n % 3 == 0:\n",
        "        return False\n",
        "    i = 5\n",
        "    while i * i <= n:\n",
        "        if n % i == 0 or n % (i + 2) == 0:\n",
        "            return False\n",
        "        i += 6\n",
        "    return True\n",
        "\n",
        "# Testando a função\n",
        "num = int(input(\"Digite um número para verificar se é primo: \"))\n",
        "if is_prime(num):\n",
        "    print(num, \"é um número primo.\")\n",
        "else:\n",
        "    print(num, \"não é um número primo.\")"
      ],
      "metadata": {
        "colab": {
          "base_uri": "https://localhost:8080/"
        },
        "id": "C2N5xI_DKHLb",
        "outputId": "1af0eb94-6ffa-4509-baec-8dbd94112832"
      },
      "execution_count": 10,
      "outputs": [
        {
          "output_type": "stream",
          "name": "stdout",
          "text": [
            "Digite um número para verificar se é primo: 331\n",
            "331 é um número primo.\n"
          ]
        }
      ]
    }
  ]
}