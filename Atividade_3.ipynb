{
  "nbformat": 4,
  "nbformat_minor": 0,
  "metadata": {
    "colab": {
      "provenance": [],
      "authorship_tag": "ABX9TyMj9fxqksgfaJygBS2kqUWl",
      "include_colab_link": true
    },
    "kernelspec": {
      "name": "python3",
      "display_name": "Python 3"
    },
    "language_info": {
      "name": "python"
    }
  },
  "cells": [
    {
      "cell_type": "markdown",
      "metadata": {
        "id": "view-in-github",
        "colab_type": "text"
      },
      "source": [
        "<a href=\"https://colab.research.google.com/github/DanielMoreira26/dfmnatal/blob/main/Atividade_3.ipynb\" target=\"_parent\"><img src=\"https://colab.research.google.com/assets/colab-badge.svg\" alt=\"Open In Colab\"/></a>"
      ]
    },
    {
      "cell_type": "markdown",
      "source": [
        "Calculadora de IMC"
      ],
      "metadata": {
        "id": "55qGuX_AHVMC"
      }
    },
    {
      "cell_type": "code",
      "source": [
        "peso = float(input(\"Informe seu peso? (Kg) \"))\n",
        "altura = float(input(\"Informe sua altura? (m) \"))\n",
        "imc = peso / (altura * altura)\n",
        "print(\"O IMC dessa pessoa é de {: .2f}\" .format(imc))\n",
        "if imc < 18.5:\n",
        "  print(\"Você está com PESO ABAIXO NORMAL\")\n",
        "\n"
      ],
      "metadata": {
        "colab": {
          "base_uri": "https://localhost:8080/",
          "height": 106
        },
        "id": "LLnVQcw-Hj24",
        "outputId": "110044c6-be33-4317-ad27-f6610d17943e"
      },
      "execution_count": 12,
      "outputs": [
        {
          "output_type": "error",
          "ename": "SyntaxError",
          "evalue": "invalid syntax (<ipython-input-12-cc144eca4c2d>, line 7)",
          "traceback": [
            "\u001b[0;36m  File \u001b[0;32m\"<ipython-input-12-cc144eca4c2d>\"\u001b[0;36m, line \u001b[0;32m7\u001b[0m\n\u001b[0;31m    if <= 18.5 imc < 25:\u001b[0m\n\u001b[0m       ^\u001b[0m\n\u001b[0;31mSyntaxError\u001b[0m\u001b[0;31m:\u001b[0m invalid syntax\n"
          ]
        }
      ]
    }
  ]
}