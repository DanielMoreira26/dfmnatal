{
  "nbformat": 4,
  "nbformat_minor": 0,
  "metadata": {
    "colab": {
      "provenance": [],
      "authorship_tag": "ABX9TyMFcK4PGln+G1dCXky73MuO",
      "include_colab_link": true
    },
    "kernelspec": {
      "name": "python3",
      "display_name": "Python 3"
    },
    "language_info": {
      "name": "python"
    }
  },
  "cells": [
    {
      "cell_type": "markdown",
      "metadata": {
        "id": "view-in-github",
        "colab_type": "text"
      },
      "source": [
        "<a href=\"https://colab.research.google.com/github/DanielMoreira26/dfmnatal/blob/main/Atividade_3.ipynb\" target=\"_parent\"><img src=\"https://colab.research.google.com/assets/colab-badge.svg\" alt=\"Open In Colab\"/></a>"
      ]
    },
    {
      "cell_type": "markdown",
      "source": [
        "1 - Calculadora de IMC"
      ],
      "metadata": {
        "id": "55qGuX_AHVMC"
      }
    },
    {
      "cell_type": "code",
      "source": [
        "peso = float(input(\"Informe seu peso? (Kg) \"))\n",
        "altura = float(input(\"Informe sua altura? (m) \"))\n",
        "imc = peso / (altura * altura)\n",
        "print(\"O IMC dessa pessoa é de {: .2f}\" .format(imc))\n",
        "if imc < 18.5:\n",
        "  print(\"Você está ABAIXO PESO\")\n",
        "elif 18.5 <= imc < 25:\n",
        "  print(\"Você está com PESO NORMAL\")\n",
        "elif 25 <= imc < 30:\n",
        "  print(\"Você está com SOBREPESO\")\n",
        "elif imc >= 30.0:\n",
        "  print(\"Você está em OBESIDADE\")\n"
      ],
      "metadata": {
        "colab": {
          "base_uri": "https://localhost:8080/"
        },
        "id": "LLnVQcw-Hj24",
        "outputId": "ded089e3-4332-4d11-bf80-4eea54b44317"
      },
      "execution_count": null,
      "outputs": [
        {
          "output_type": "stream",
          "name": "stdout",
          "text": [
            "Informe seu peso? (Kg) 80\n",
            "Informe sua altura? (m) 1.75\n",
            "O IMC dessa pessoa é de  26.12\n",
            "Você está com SOBREPESO\n"
          ]
        }
      ]
    },
    {
      "cell_type": "markdown",
      "source": [
        "2 - Verificador de número par ou ímpar"
      ],
      "metadata": {
        "id": "R2zIx09LcZsZ"
      }
    },
    {
      "cell_type": "code",
      "source": [
        "número = int(input(\"Diga-me um número inteiro\"))\n",
        "resultado = número % 2\n",
        "print(\"O resultado foi {}\".format(resultado))\n",
        "if resultado == 0:\n",
        "  print(\"O número {} é PAR\".format(número))\n",
        "else:\n",
        "  print(\"O número {} é impar\".format(número))"
      ],
      "metadata": {
        "id": "TsVo1TDbcjEr",
        "outputId": "b1c2f424-52a6-467f-f3b7-ad0f3c1cc1f4",
        "colab": {
          "base_uri": "https://localhost:8080/"
        }
      },
      "execution_count": null,
      "outputs": [
        {
          "output_type": "stream",
          "name": "stdout",
          "text": [
            "Diga-me um número inteiro26\n",
            "O resultado foi 0\n",
            "O número 26 é PAR\n"
          ]
        }
      ]
    },
    {
      "cell_type": "markdown",
      "source": [
        "Conversor de temperatura"
      ],
      "metadata": {
        "id": "eSA2DQSCKBxi"
      }
    },
    {
      "cell_type": "code",
      "source": [
        "c = float(input(\"Informe a temperatura em °C: \"))\n",
        "f = ((9 * c) / 5) + 32\n",
        "print(\"A temperatura de {}°C equivale à {}°F!\".format(c, f))\n"
      ],
      "metadata": {
        "colab": {
          "base_uri": "https://localhost:8080/"
        },
        "id": "EWB1S00eLMp8",
        "outputId": "4f3a70ca-c922-451e-ac42-30b5686bbf55"
      },
      "execution_count": null,
      "outputs": [
        {
          "output_type": "stream",
          "name": "stdout",
          "text": [
            "Informe a temperatura em °C: 32\n",
            "A temperatura de 32.0°C equivale à 89.6°F!\n"
          ]
        }
      ]
    },
    {
      "cell_type": "markdown",
      "source": [
        "Tabuada de multiplicação"
      ],
      "metadata": {
        "id": "E2-yMmVQQvZm"
      }
    },
    {
      "cell_type": "code",
      "source": [
        "num = int(input(\"Digite um número para visualizar sua tabuada: \"))\n",
        "print(\"{} * {:2} = {}\".format(num, 1, num*1))\n",
        "print(\"{} * {:2} = {}\".format(num, 2, num*2))\n",
        "print(\"{} * {:2} = {}\".format(num, 3, num*3))\n",
        "print(\"{} * {:2} = {}\".format(num, 4, num*4))\n",
        "print(\"{} * {:2} = {}\".format(num, 5, num*5))\n",
        "print(\"{} * {:2} = {}\".format(num, 6, num*6))\n",
        "print(\"{} * {:2} = {}\".format(num, 7, num*7))\n",
        "print(\"{} * {:2} = {}\".format(num, 8, num*8))\n",
        "print(\"{} * {:2} = {}\".format(num, 9, num*9))\n",
        "print(\"{} * {:2} = {}\".format(num, 10,num*10))"
      ],
      "metadata": {
        "id": "mDn_UIVgQyoI",
        "outputId": "ebd28acd-d402-41f6-8497-5be319a2c740",
        "colab": {
          "base_uri": "https://localhost:8080/"
        }
      },
      "execution_count": 9,
      "outputs": [
        {
          "output_type": "stream",
          "name": "stdout",
          "text": [
            "Digite um número para visualizar sua tabuada: 8\n",
            "8 *  1 = 8\n",
            "8 *  2 = 16\n",
            "8 *  3 = 24\n",
            "8 *  4 = 32\n",
            "8 *  5 = 40\n",
            "8 *  6 = 48\n",
            "8 *  7 = 56\n",
            "8 *  8 = 64\n",
            "8 *  9 = 72\n",
            "8 * 10 = 80\n"
          ]
        }
      ]
    }
  ]
}