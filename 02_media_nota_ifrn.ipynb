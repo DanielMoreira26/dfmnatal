{
  "nbformat": 4,
  "nbformat_minor": 0,
  "metadata": {
    "colab": {
      "provenance": [],
      "authorship_tag": "ABX9TyM8TYVrAqCofKBM7nwx9MEt",
      "include_colab_link": true
    },
    "kernelspec": {
      "name": "python3",
      "display_name": "Python 3"
    },
    "language_info": {
      "name": "python"
    }
  },
  "cells": [
    {
      "cell_type": "markdown",
      "metadata": {
        "id": "view-in-github",
        "colab_type": "text"
      },
      "source": [
        "<a href=\"https://colab.research.google.com/github/DanielMoreira26/dfmnatal/blob/main/02_media_nota_ifrn.ipynb\" target=\"_parent\"><img src=\"https://colab.research.google.com/assets/colab-badge.svg\" alt=\"Open In Colab\"/></a>"
      ]
    },
    {
      "cell_type": "markdown",
      "source": [
        "Calculadora de média ponderada IFRN"
      ],
      "metadata": {
        "id": "ceg7FZ7qxVNW"
      }
    },
    {
      "cell_type": "code",
      "source": [
        "print(\"Calculadora de média ponderada do IFRN\")\n",
        "#Float, tipagem explícita, para garantir número fracionário\n",
        "n1 = float( input(\"digite a nota 1(com peso 2): \") )\n",
        "n2 = float( input(\"digite a nota 2(com peso 3): \") )\n",
        "\n",
        "#calculo de media ponderada\n",
        "media = (n1 * 2 + n2 * 3) / 5\n",
        "\n",
        "#impressão da média#\n",
        "print(f\"A média ponderada das notas é: {media:.2f}\")\n",
        "\n",
        "#apresentar se o aluno foi aprovado ou não\n",
        "if media >= 6:\n",
        "  print(\"aprovado\")\n",
        "else:\n",
        "  if n1 >= 4 and n2 >= 4:\n",
        "    print(\"Prova final\")\n",
        "  else:\n",
        "    print(\"Reprovado\")"
      ],
      "metadata": {
        "colab": {
          "base_uri": "https://localhost:8080/"
        },
        "id": "tklmcg8Nxdbr",
        "outputId": "f1987348-b5a5-4093-f61e-123e6325156b"
      },
      "execution_count": 2,
      "outputs": [
        {
          "output_type": "stream",
          "name": "stdout",
          "text": [
            "Calculadora de média ponderada do IFRN\n",
            "digite a nota 1(com peso 2): 96\n",
            "digite a nota 2(com peso 3): 84\n",
            "A média ponderada das notas é: 88.80\n",
            "aprovado\n"
          ]
        }
      ]
    },
    {
      "cell_type": "code",
      "source": [
        "print(\"Calculadora de Média Ponderada\")\n",
        "n1 = float(input('Digite a primeira nota:'))\n",
        "n2 = float(input('Digite a segunda nota:'))\n",
        "\n",
        "media = (n1 * 2 + n2 * 3) / 5\n",
        "print(f'Sua média é: {media:.2f}')\n",
        "\n",
        "if media >= 6:\n",
        "  print('Aprovado')\n",
        "else:\n",
        "  if n1 >= 4 and n2 >= 4:\n",
        "    print('Prova final')\n",
        "  else:\n",
        "    print('Reprovado')\n"
      ],
      "metadata": {
        "id": "ulTIj4gLb0U0",
        "outputId": "db786f07-07c9-4a97-8c3c-1c30040e95ad",
        "colab": {
          "base_uri": "https://localhost:8080/"
        }
      },
      "execution_count": 1,
      "outputs": [
        {
          "output_type": "stream",
          "name": "stdout",
          "text": [
            "Calculadora de Média Ponderada\n",
            "Digite a primeira nota:99\n",
            "Digite a segunda nota:74\n",
            "Sua média é: 84.00\n",
            "Aprovado\n"
          ]
        }
      ]
    }
  ]
}