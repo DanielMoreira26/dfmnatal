{
  "nbformat": 4,
  "nbformat_minor": 0,
  "metadata": {
    "colab": {
      "provenance": [],
      "authorship_tag": "ABX9TyOMd8wwOVG/eka/G943VKMW",
      "include_colab_link": true
    },
    "kernelspec": {
      "name": "python3",
      "display_name": "Python 3"
    },
    "language_info": {
      "name": "python"
    }
  },
  "cells": [
    {
      "cell_type": "markdown",
      "metadata": {
        "id": "view-in-github",
        "colab_type": "text"
      },
      "source": [
        "<a href=\"https://colab.research.google.com/github/DanielMoreira26/dfmnatal/blob/main/Atividade_05_converter.ipynb\" target=\"_parent\"><img src=\"https://colab.research.google.com/assets/colab-badge.svg\" alt=\"Open In Colab\"/></a>"
      ]
    },
    {
      "cell_type": "code",
      "execution_count": null,
      "metadata": {
        "id": "HyPpusHJqVQR"
      },
      "outputs": [],
      "source": [
        "def converter_para_maiusculas(arquivo_entrada, arquivo_saida):\n",
        "\"\"\"\n",
        "Converte o conteúdo do arquivo `arquivo_entrada` para maiúsculas\n",
        "e salva o resultado em `arquivo_saida`.\n",
        "\n",
        "Args:\n",
        "arquivo_entrada (str): O caminho do arquivo de entrada.\n",
        "arquivo_saida (str): O caminho do arquivo de saída onde o\n",
        "conteúdo em maiúsculas será salvo.\n",
        "\"\"\"\n",
        "Pass"
      ]
    }
  ]
}