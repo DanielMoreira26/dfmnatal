{
  "nbformat": 4,
  "nbformat_minor": 0,
  "metadata": {
    "colab": {
      "provenance": [],
      "authorship_tag": "ABX9TyOClUZwv+/4G7kmWtKwlunn",
      "include_colab_link": true
    },
    "kernelspec": {
      "name": "python3",
      "display_name": "Python 3"
    },
    "language_info": {
      "name": "python"
    }
  },
  "cells": [
    {
      "cell_type": "markdown",
      "metadata": {
        "id": "view-in-github",
        "colab_type": "text"
      },
      "source": [
        "<a href=\"https://colab.research.google.com/github/DanielMoreira26/dfmnatal/blob/main/V3_semin%C3%A1rio.ipynb\" target=\"_parent\"><img src=\"https://colab.research.google.com/assets/colab-badge.svg\" alt=\"Open In Colab\"/></a>"
      ]
    },
    {
      "cell_type": "markdown",
      "source": [
        "#Análise dos parâmetros da qualidade da água em Natal/RN - fevereiro de 2023."
      ],
      "metadata": {
        "id": "SjpnP6MZFaOt"
      }
    },
    {
      "cell_type": "code",
      "source": [
        "parametros = {\n",
        "    1: \"Cloro Residual (0.2, 2.0) mg/L\",\n",
        "    2: \"Turbidez (0.0, 5.0 NTU)\",\n",
        "    3: \"Cor Aparente (0.0, 15 UH)\",\n",
        "    4: \"Escherichia_Coli (0, 0), UFC/100mL\",\n",
        "    5: \"Coliformes Totais (0, 0), UFC/100mL\",\n",
        "    6: \"pH (6.5, 8.5)\"\n",
        "}\n",
        "\n",
        "total_amostras = 0\n",
        "total_reprovadas = 0\n",
        "\n",
        "while True:\n",
        "    codigo = int(input(\"Digite o código do parâmetro (ou 0 para sair): \"))\n",
        "    if codigo == 0:\n",
        "        print(\"Programa finalizado.\")\n",
        "        break\n",
        "    elif codigo in parametros:\n",
        "        print(\"Parâmetro selecionado:\", parametros[codigo])\n",
        "    else:\n",
        "        print(\"Código inválido. Por favor, tente novamente.\")\n",
        "        continue\n",
        "\n",
        "    amostras_aprovadas = int(input(\"Quantidade de amostras aprovadas: \"))\n",
        "    amostras_reprovadas = int(input(\"Quantidade de amostras reprovadas: \"))\n",
        "\n",
        "    total_amostras += amostras_aprovadas + amostras_reprovadas\n",
        "    total_reprovadas += amostras_reprovadas\n",
        "\n",
        "    percentual_reprovadas = (amostras_reprovadas / total_amostras) * 100\n",
        "\n",
        "    # Avaliação da qualidade da água\n",
        "    if percentual_reprovadas == 0:\n",
        "        qualidade_agua = \"Boa\"\n",
        "    elif percentual_reprovadas <= 5:\n",
        "        qualidade_agua = \"Regular\"\n",
        "    else:\n",
        "        qualidade_agua = \"Ruim\"\n",
        "\n",
        "    print(f\"Percentual de amostras reprovadas: {percentual_reprovadas:.2f}%\")\n",
        "    print(f\"A qualidade da água é considerada: {qualidade_agua}\\n\")\n"
      ],
      "metadata": {
        "id": "PG-GG1A5FeIB",
        "outputId": "2d981968-fd4a-46eb-85b5-2189cfc54955",
        "colab": {
          "base_uri": "https://localhost:8080/"
        }
      },
      "execution_count": 1,
      "outputs": [
        {
          "output_type": "stream",
          "name": "stdout",
          "text": [
            "Digite o código do parâmetro (ou 0 para sair): 1\n",
            "Parâmetro selecionado: Cloro Residual (0.2, 2.0) mg/L\n",
            "Quantidade de amostras aprovadas: 236\n",
            "Quantidade de amostras reprovadas: 64\n",
            "Percentual de amostras reprovadas: 21.33%\n",
            "A qualidade da água é considerada: Ruim\n",
            "\n",
            "Digite o código do parâmetro (ou 0 para sair): 2\n",
            "Parâmetro selecionado: Turbidez (0.0, 5.0 NTU)\n",
            "Quantidade de amostras aprovadas: 236\n",
            "Quantidade de amostras reprovadas: 34\n",
            "Percentual de amostras reprovadas: 5.96%\n",
            "A qualidade da água é considerada: Ruim\n",
            "\n",
            "Digite o código do parâmetro (ou 0 para sair): 3\n",
            "Parâmetro selecionado: Cor Aparente (0.0, 15 UH)\n",
            "Quantidade de amostras aprovadas: 236\n",
            "Quantidade de amostras reprovadas: 21\n",
            "Percentual de amostras reprovadas: 2.54%\n",
            "A qualidade da água é considerada: Regular\n",
            "\n",
            "Digite o código do parâmetro (ou 0 para sair): 4\n",
            "Parâmetro selecionado: Escherichia_Coli (0, 0), UFC/100mL\n",
            "Quantidade de amostras aprovadas: 236\n",
            "Quantidade de amostras reprovadas: 1\n",
            "Percentual de amostras reprovadas: 0.09%\n",
            "A qualidade da água é considerada: Regular\n",
            "\n",
            "Digite o código do parâmetro (ou 0 para sair): 5\n",
            "Parâmetro selecionado: Coliformes Totais (0, 0), UFC/100mL\n",
            "Quantidade de amostras aprovadas: 236\n",
            "Quantidade de amostras reprovadas: 32\n",
            "Percentual de amostras reprovadas: 2.40%\n",
            "A qualidade da água é considerada: Regular\n",
            "\n",
            "Digite o código do parâmetro (ou 0 para sair): 6\n",
            "Parâmetro selecionado: pH (6.5, 8.5)\n",
            "Quantidade de amostras aprovadas: 236\n",
            "Quantidade de amostras reprovadas: 99\n",
            "Percentual de amostras reprovadas: 5.94%\n",
            "A qualidade da água é considerada: Ruim\n",
            "\n",
            "Digite o código do parâmetro (ou 0 para sair): 0\n",
            "Programa finalizado.\n"
          ]
        }
      ]
    }
  ]
}