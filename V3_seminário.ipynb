{
  "nbformat": 4,
  "nbformat_minor": 0,
  "metadata": {
    "colab": {
      "provenance": [],
      "authorship_tag": "ABX9TyPsaG+UfTuO0OsagW0JeiIx",
      "include_colab_link": true
    },
    "kernelspec": {
      "name": "python3",
      "display_name": "Python 3"
    },
    "language_info": {
      "name": "python"
    }
  },
  "cells": [
    {
      "cell_type": "markdown",
      "metadata": {
        "id": "view-in-github",
        "colab_type": "text"
      },
      "source": [
        "<a href=\"https://colab.research.google.com/github/DanielMoreira26/dfmnatal/blob/main/V3_semin%C3%A1rio.ipynb\" target=\"_parent\"><img src=\"https://colab.research.google.com/assets/colab-badge.svg\" alt=\"Open In Colab\"/></a>"
      ]
    },
    {
      "cell_type": "code",
      "execution_count": null,
      "metadata": {
        "id": "K31CwEOPR4DZ"
      },
      "outputs": [],
      "source": [
        "parametros = {\n",
        "    1: \"Cloro Residual (0.2, 2.0) mg/L\",\n",
        "    2: \"Turbidez (0.0, 5.0 NTU)\",\n",
        "    3: \"Cor Aparente (0.0, 15 UH)\",\n",
        "    4: \"Escherichia_Coli (0, 0), UFC/100mL\",\n",
        "    5: \"Coliformes Totais (0, 0), UFC/100mL\",\n",
        "    6: \"pH (6.5, 8.5)\"\n",
        "}\n",
        "\n",
        "amostras = {}\n",
        "while True:\n",
        "    codigo = int(input(\"Digite o código do parâmetro (ou 0 para sair): \"))\n",
        "\n",
        "    if codigo == 0:\n",
        "        print(\"Programa finalizado.\")\n",
        "        break\n",
        "    elif codigo in parametros:\n",
        "        print(\"Parâmetro selecionado:\", parametros[codigo])\n",
        "\n",
        "        # Solicitar número de amostras aprovadas e reprovadas\n",
        "        while True:\n",
        "            try:\n",
        "                aprovadas = int(input(\"Número de amostras aprovadas: \"))\n",
        "                reprovadas = int(input(\"Número de amostras reprovadas: \"))\n",
        "                break\n",
        "            except ValueError:\n",
        "                print(\"Por favor, digite um número válido.\")\n",
        "\n",
        "        # Armazenar os resultados das amostras no dicionário\n",
        "        amostras[parametros[codigo]] = {\n",
        "            'aprovadas': aprovadas,\n",
        "            'reprovadas': reprovadas\n",
        "        }\n",
        "        if codigo == 1:\n",
        "            if aprovadas > 0:\n",
        "                print(\"Condição para Cloro Residual atendida.\")\n",
        "            else:\n",
        "                print(\"Condição para Cloro Residual não atendida.\")\n",
        "        elif codigo == 2:\n",
        "            if aprovadas > 0:\n",
        "                print(\"Condição para Turbidez atendida.\")\n",
        "            else:\n",
        "                print(\"Condição para Turbidez não atendida.\")\n",
        "        elif codigo == 3:\n",
        "            if aprovadas > 0:\n",
        "                print(\"Condição para Cor Aparente atendida.\")\n",
        "            else:\n",
        "                print(\"Condição para Cor Aparente não atendida.\")\n",
        "        elif codigo == 4:\n",
        "            if reprovadas == 0:\n",
        "                print(\"Condição para Escherichia Coli atendida.\")\n",
        "            else:\n",
        "                print(\"Condição para Escherichia Coli não atendida.\")\n",
        "        elif codigo == 5:\n",
        "            if reprovadas == 0:\n",
        "                print(\"Condição para Coliformes Totais atendida.\")\n",
        "            else:\n",
        "                print(\"Condição para Coliformes Totais não atendida.\")\n",
        "        elif codigo == 6:\n",
        "            print(\"pH deve estar entre 6.5 e 8.5 para atender às condições.\")\n",
        "\n",
        "    else:\n",
        "        print(\"Código inválido. Por favor, tente novamente.\")\n",
        "        continue\n",
        "\n",
        "    continuar = input(\"Deseja continuar? (S/N): \")\n",
        "    if continuar.lower() != \"s\":\n",
        "        print(\"Programa finalizado.\")\n",
        "        break\n",
        "\n",
        "print(\"\\nResultados das amostras:\")\n",
        "for parametro, resultados in amostras.items():\n",
        "    print(f\"{parametro}: Amostras aprovadas = {resultados['aprovadas']}, Amostras reprovadas = {resultados['reprovadas']}\")"
      ]
    }
  ]
}