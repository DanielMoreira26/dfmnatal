{
  "nbformat": 4,
  "nbformat_minor": 0,
  "metadata": {
    "colab": {
      "provenance": [],
      "authorship_tag": "ABX9TyMrs6nETYRyUEupp5365avs",
      "include_colab_link": true
    },
    "kernelspec": {
      "name": "python3",
      "display_name": "Python 3"
    },
    "language_info": {
      "name": "python"
    }
  },
  "cells": [
    {
      "cell_type": "markdown",
      "metadata": {
        "id": "view-in-github",
        "colab_type": "text"
      },
      "source": [
        "<a href=\"https://colab.research.google.com/github/DanielMoreira26/dfmnatal/blob/main/Exerc%C3%ADcios_Extras.ipynb\" target=\"_parent\"><img src=\"https://colab.research.google.com/assets/colab-badge.svg\" alt=\"Open In Colab\"/></a>"
      ]
    },
    {
      "cell_type": "markdown",
      "source": [
        "Uso do FOR e do WHILE."
      ],
      "metadata": {
        "id": "7niVYHDEGptc"
      }
    },
    {
      "cell_type": "code",
      "source": [
        "nomes = ['PH', 'José', 'Letícia']\n",
        "for n in nomes:\n",
        "    print(n)"
      ],
      "metadata": {
        "colab": {
          "base_uri": "https://localhost:8080/"
        },
        "id": "p6XVd23MGwmj",
        "outputId": "6207e602-cf64-473f-f1f3-a4f1400040a1"
      },
      "execution_count": 2,
      "outputs": [
        {
          "output_type": "stream",
          "name": "stdout",
          "text": [
            "PH\n",
            "José\n",
            "Letícia\n"
          ]
        }
      ]
    },
    {
      "cell_type": "code",
      "source": [
        "  contador = 0\n",
        "  while contador < 5:\n",
        "    print(contador)\n",
        "    contador = contador + 1"
      ],
      "metadata": {
        "colab": {
          "base_uri": "https://localhost:8080/"
        },
        "id": "uaClHn4PICuM",
        "outputId": "515349fb-8944-498b-a275-cacdbcbc1b73"
      },
      "execution_count": 14,
      "outputs": [
        {
          "output_type": "stream",
          "name": "stdout",
          "text": [
            "0\n",
            "1\n",
            "2\n",
            "3\n",
            "4\n"
          ]
        }
      ]
    },
    {
      "cell_type": "markdown",
      "source": [
        "Operadores aritméticos"
      ],
      "metadata": {
        "id": "kr4-x3OdKFY-"
      }
    },
    {
      "cell_type": "code",
      "source": [
        "numero_1 = 5\n",
        "numero_2 = 2\n",
        "\n",
        "soma = numero_1 + numero_2\n",
        "subtracao = numero_1 - numero_2\n",
        "multiplicacao = numero_1 * numero_2\n",
        "divisao = numero_1 / numero_2\n",
        "divisao_inteira = numero_1 // numero_2\n",
        "modulo = numero_1 % numero_2\n",
        "exponenciacao = numero_1 ** numero_2\n",
        "\n",
        "print(soma) # 7\n",
        "print(subtracao) # 3\n",
        "print(multiplicacao)  # 10\n",
        "print(divisao) # 2.5\n",
        "print(divisao_inteira) # 2\n",
        "print(modulo)  # 1\n",
        "print(exponenciacao) # 25"
      ],
      "metadata": {
        "colab": {
          "base_uri": "https://localhost:8080/"
        },
        "id": "DgFvMkyVKISj",
        "outputId": "fc85639e-5209-4eb5-8958-d0b1c7ccf91d"
      },
      "execution_count": 4,
      "outputs": [
        {
          "output_type": "stream",
          "name": "stdout",
          "text": [
            "7\n",
            "3\n",
            "10\n",
            "2.5\n",
            "2\n",
            "1\n",
            "25\n"
          ]
        }
      ]
    },
    {
      "cell_type": "code",
      "source": [
        "numero_1 = 5\n",
        "\n",
        "numero_1 += 5\n",
        "\n",
        "print(numero_1) # O resultado será 10"
      ],
      "metadata": {
        "colab": {
          "base_uri": "https://localhost:8080/"
        },
        "id": "Ry4SnyX7KoQE",
        "outputId": "9744d5ed-0651-4c43-c819-c74dcf841646"
      },
      "execution_count": 6,
      "outputs": [
        {
          "output_type": "stream",
          "name": "stdout",
          "text": [
            "10\n"
          ]
        }
      ]
    },
    {
      "cell_type": "code",
      "source": [
        "soma_1 = 7 + 8\n",
        "soma_2 = 10 + 5\n",
        "\n",
        "if soma_1 == soma_2:\n",
        "    print(\"Os resultados são iguais\")\n",
        "else:\n",
        "    print(\"Os resultados são diferentes\")"
      ],
      "metadata": {
        "colab": {
          "base_uri": "https://localhost:8080/"
        },
        "id": "4OCtQ8BFK1Dl",
        "outputId": "eef7c65d-f948-419c-eb46-71098ccead5b"
      },
      "execution_count": 10,
      "outputs": [
        {
          "output_type": "stream",
          "name": "stdout",
          "text": [
            "Os resultados são iguais\n"
          ]
        }
      ]
    },
    {
      "cell_type": "markdown",
      "source": [
        "Operadores lógicos"
      ],
      "metadata": {
        "id": "CX7xOHBSL0J_"
      }
    },
    {
      "cell_type": "code",
      "source": [
        "idade_lucas = 18\n",
        "idade_carolina = 17\n",
        "\n",
        "# OPERADOR OR\n",
        "if idade_lucas >= 18 or idade_carolina >= 18:\n",
        "    print(\"Pelo menos um dos dois é maior de idade\")\n",
        "else:\n",
        "    print(\"Lucas e Carolina não são maiores de idade\")\n",
        "\n",
        "# OPERADOR AND\n",
        "if idade_lucas >= 18 and idade_carolina >= 18:\n",
        "    print(\"Lucas e Carolina são maiores de idade\")\n",
        "else:\n",
        "    print(\"Pelo menos um dos dois não é maior de idade\")"
      ],
      "metadata": {
        "colab": {
          "base_uri": "https://localhost:8080/"
        },
        "id": "blU3YFWbL44n",
        "outputId": "46c14944-5add-49f7-8104-27474eec7df8"
      },
      "execution_count": 11,
      "outputs": [
        {
          "output_type": "stream",
          "name": "stdout",
          "text": [
            "Pelo menos um dos dois é maior de idade\n",
            "Pelo menos um dos dois não é maior de idade\n"
          ]
        }
      ]
    },
    {
      "cell_type": "code",
      "source": [
        "time_carlos = 'Botafogo'\n",
        "time_luciano = 'Flamengo'\n",
        "time_fabricia = 'Botafogo'\n",
        "\n",
        "if time_carlos is time_luciano:\n",
        "    print(\"time_carlos - time_luciano = mesmo objeto\")\n",
        "else:\n",
        "    print(\"time_carlos - time_luciano = objetos diferentes\")\n",
        "\n",
        "if time_carlos is time_fabricia:\n",
        "    print(\"time_carlos - time_fabricia = mesmo objeto\")\n",
        "else:\n",
        "    print(\"time_carlos - time_fabricia = objetos diferentes\")"
      ],
      "metadata": {
        "colab": {
          "base_uri": "https://localhost:8080/"
        },
        "id": "N32j7f4DMN8b",
        "outputId": "3dd1a189-e082-45f9-e197-b32b1a828bbc"
      },
      "execution_count": 12,
      "outputs": [
        {
          "output_type": "stream",
          "name": "stdout",
          "text": [
            "time_carlos - time_luciano = objetos diferentes\n",
            "time_carlos - time_fabricia = mesmo objeto\n"
          ]
        }
      ]
    },
    {
      "cell_type": "code",
      "source": [
        "frutas = [\"banana\",\"laranja\",\"uva\",\"ameixa\"]\n",
        "\n",
        "fruta_1 = \"ameixa\"\n",
        "fruta_2 = \"melancia\"\n",
        "\n",
        "print(fruta_1 in frutas) # True\n",
        "print(fruta_2 in frutas) # False"
      ],
      "metadata": {
        "colab": {
          "base_uri": "https://localhost:8080/"
        },
        "id": "lI2qvDRjMW7t",
        "outputId": "5d7809e5-e59a-47a5-ff61-b82debed679f"
      },
      "execution_count": 13,
      "outputs": [
        {
          "output_type": "stream",
          "name": "stdout",
          "text": [
            "True\n",
            "False\n"
          ]
        }
      ]
    }
  ]
}