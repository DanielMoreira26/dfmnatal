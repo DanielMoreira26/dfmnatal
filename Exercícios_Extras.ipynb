{
  "nbformat": 4,
  "nbformat_minor": 0,
  "metadata": {
    "colab": {
      "provenance": [],
      "authorship_tag": "ABX9TyMoau5XFpJR0+nBHdWq+bnw",
      "include_colab_link": true
    },
    "kernelspec": {
      "name": "python3",
      "display_name": "Python 3"
    },
    "language_info": {
      "name": "python"
    }
  },
  "cells": [
    {
      "cell_type": "markdown",
      "metadata": {
        "id": "view-in-github",
        "colab_type": "text"
      },
      "source": [
        "<a href=\"https://colab.research.google.com/github/DanielMoreira26/dfmnatal/blob/main/Exerc%C3%ADcios_Extras.ipynb\" target=\"_parent\"><img src=\"https://colab.research.google.com/assets/colab-badge.svg\" alt=\"Open In Colab\"/></a>"
      ]
    },
    {
      "cell_type": "code",
      "source": [
        "print('Hello, World!')\n"
      ],
      "metadata": {
        "id": "aw1NQbHXnVEY",
        "outputId": "17180fcb-24eb-45b3-ff9b-e5410d863de4",
        "colab": {
          "base_uri": "https://localhost:8080/"
        }
      },
      "execution_count": null,
      "outputs": [
        {
          "output_type": "stream",
          "name": "stdout",
          "text": [
            "Hello, World!\n"
          ]
        }
      ]
    },
    {
      "cell_type": "code",
      "source": [
        "print('Lucilli Marry')\n"
      ],
      "metadata": {
        "id": "6N9W0fwuni7I",
        "outputId": "d5e198fe-03e0-4ff8-a5bb-985dde6db957",
        "colab": {
          "base_uri": "https://localhost:8080/"
        }
      },
      "execution_count": null,
      "outputs": [
        {
          "output_type": "stream",
          "name": "stdout",
          "text": [
            "Lucilli Marry\n"
          ]
        }
      ]
    },
    {
      "cell_type": "code",
      "source": [
        "print(\"Dandara Maria\")\n"
      ],
      "metadata": {
        "id": "eR3ISJhanpTQ",
        "outputId": "471316e1-096c-4c70-91f4-210ec2a23943",
        "colab": {
          "base_uri": "https://localhost:8080/"
        }
      },
      "execution_count": null,
      "outputs": [
        {
          "output_type": "stream",
          "name": "stdout",
          "text": [
            "Dandara Maria\n"
          ]
        }
      ]
    },
    {
      "cell_type": "code",
      "source": [
        "5 * 3 + 10\n"
      ],
      "metadata": {
        "id": "wF3kWMBunzkk",
        "outputId": "5baee1d3-eb6f-4df1-de04-14e366b6ee24",
        "colab": {
          "base_uri": "https://localhost:8080/"
        }
      },
      "execution_count": null,
      "outputs": [
        {
          "output_type": "execute_result",
          "data": {
            "text/plain": [
              "25"
            ]
          },
          "metadata": {},
          "execution_count": 5
        }
      ]
    },
    {
      "cell_type": "code",
      "source": [
        "10 + 2 / 3\n"
      ],
      "metadata": {
        "id": "zDC8sswYn_AA",
        "outputId": "d4534e46-3611-4835-973c-6ff51a8c2bb5",
        "colab": {
          "base_uri": "https://localhost:8080/"
        }
      },
      "execution_count": null,
      "outputs": [
        {
          "output_type": "execute_result",
          "data": {
            "text/plain": [
              "10.666666666666666"
            ]
          },
          "metadata": {},
          "execution_count": 6
        }
      ]
    },
    {
      "cell_type": "code",
      "source": [
        "12 + 4 - (10/2)\n"
      ],
      "metadata": {
        "id": "lnkGGkeRoHLK",
        "outputId": "a0fce392-16e6-4c70-f40f-b8a9d4156984",
        "colab": {
          "base_uri": "https://localhost:8080/"
        }
      },
      "execution_count": null,
      "outputs": [
        {
          "output_type": "execute_result",
          "data": {
            "text/plain": [
              "11.0"
            ]
          },
          "metadata": {},
          "execution_count": 7
        }
      ]
    },
    {
      "cell_type": "code",
      "source": [
        "nome = \"Campeão\"\n",
        "var_nome = type(nome)\n",
        "print(nome)\n",
        "print(var_nome)\n"
      ],
      "metadata": {
        "id": "ldXs0f_jJSDE",
        "outputId": "7c1b33ce-bc00-416b-b128-e409bafc7df0",
        "colab": {
          "base_uri": "https://localhost:8080/"
        }
      },
      "execution_count": 4,
      "outputs": [
        {
          "output_type": "stream",
          "name": "stdout",
          "text": [
            "Campeão\n",
            "<class 'str'>\n"
          ]
        }
      ]
    }
  ]
}