{
  "nbformat": 4,
  "nbformat_minor": 0,
  "metadata": {
    "colab": {
      "provenance": [],
      "authorship_tag": "ABX9TyOMcXsFo4KCXap5DS5pNGIA",
      "include_colab_link": true
    },
    "kernelspec": {
      "name": "python3",
      "display_name": "Python 3"
    },
    "language_info": {
      "name": "python"
    }
  },
  "cells": [
    {
      "cell_type": "markdown",
      "metadata": {
        "id": "view-in-github",
        "colab_type": "text"
      },
      "source": [
        "<a href=\"https://colab.research.google.com/github/DanielMoreira26/dfmnatal/blob/main/Exerc%C3%ADcios_Extras.ipynb\" target=\"_parent\"><img src=\"https://colab.research.google.com/assets/colab-badge.svg\" alt=\"Open In Colab\"/></a>"
      ]
    },
    {
      "cell_type": "markdown",
      "source": [
        "Uso do FOR e do WHILE."
      ],
      "metadata": {
        "id": "7niVYHDEGptc"
      }
    },
    {
      "cell_type": "code",
      "source": [
        "nomes = ['PH', 'José', 'Letícia']\n",
        "for n in nomes:\n",
        "    print(n)"
      ],
      "metadata": {
        "colab": {
          "base_uri": "https://localhost:8080/"
        },
        "id": "p6XVd23MGwmj",
        "outputId": "6207e602-cf64-473f-f1f3-a4f1400040a1"
      },
      "execution_count": 2,
      "outputs": [
        {
          "output_type": "stream",
          "name": "stdout",
          "text": [
            "PH\n",
            "José\n",
            "Letícia\n"
          ]
        }
      ]
    },
    {
      "cell_type": "code",
      "source": [
        "  contador = 0\n",
        "  while contador < 5:\n",
        "    print(contador)\n",
        "    contador = contador + 1"
      ],
      "metadata": {
        "colab": {
          "base_uri": "https://localhost:8080/"
        },
        "id": "uaClHn4PICuM",
        "outputId": "11d0d543-379b-4b41-815d-fc6f09d661e3"
      },
      "execution_count": 3,
      "outputs": [
        {
          "output_type": "stream",
          "name": "stdout",
          "text": [
            "0\n",
            "1\n",
            "2\n",
            "3\n",
            "4\n"
          ]
        }
      ]
    },
    {
      "cell_type": "code",
      "source": [],
      "metadata": {
        "id": "yR5h9v0RIqNs"
      },
      "execution_count": null,
      "outputs": []
    }
  ]
}