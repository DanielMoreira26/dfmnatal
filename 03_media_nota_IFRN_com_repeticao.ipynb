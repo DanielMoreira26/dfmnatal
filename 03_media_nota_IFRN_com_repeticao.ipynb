{
  "nbformat": 4,
  "nbformat_minor": 0,
  "metadata": {
    "colab": {
      "provenance": [],
      "authorship_tag": "ABX9TyMYyuRA/ATeVQpNiZVW8bRs",
      "include_colab_link": true
    },
    "kernelspec": {
      "name": "python3",
      "display_name": "Python 3"
    },
    "language_info": {
      "name": "python"
    }
  },
  "cells": [
    {
      "cell_type": "markdown",
      "metadata": {
        "id": "view-in-github",
        "colab_type": "text"
      },
      "source": [
        "<a href=\"https://colab.research.google.com/github/DanielMoreira26/dfmnatal/blob/main/03_media_nota_IFRN_com_repeticao.ipynb\" target=\"_parent\"><img src=\"https://colab.research.google.com/assets/colab-badge.svg\" alt=\"Open In Colab\"/></a>"
      ]
    },
    {
      "cell_type": "code",
      "execution_count": 7,
      "metadata": {
        "colab": {
          "base_uri": "https://localhost:8080/"
        },
        "id": "48Ajr_30hc6m",
        "outputId": "a57ee0a9-7df2-4fd5-da67-a9bfdada2ba0"
      },
      "outputs": [
        {
          "output_type": "stream",
          "name": "stdout",
          "text": [
            "Calculadora de média ponderada do IFRN\n",
            "Digite o número de alunos: 3\n",
            "\n",
            "Aluno 1:\n",
            "digite a nota 1(com peso 2): 5.0\n",
            "digite a nota 2(com peso 3): 6.5\n",
            "A média ponderada das notas é: 5.90\n",
            "Prova final\n",
            "\n",
            "Aluno 2:\n",
            "digite a nota 1(com peso 2): 7.1\n",
            "digite a nota 2(com peso 3): 6.8\n",
            "A média ponderada das notas é: 6.92\n",
            "aprovado\n",
            "\n",
            "Aluno 3:\n",
            "digite a nota 1(com peso 2): 5.3\n",
            "digite a nota 2(com peso 3): 3.9\n",
            "A média ponderada das notas é: 4.46\n",
            "Reprovado\n"
          ]
        }
      ],
      "source": [
        "print(\"Calculadora de média ponderada do IFRN\")\n",
        "\n",
        "#Perguntando, para quantos alunos, desejo calcular média\n",
        "num_alunos = int(input(\"Digite o número de alunos: \"))\n",
        "\n",
        "for aluno in range(1, num_alunos+1):\n",
        "  #imprima o numero do aluno da vez\n",
        "  print(f\"\\nAluno {aluno}:\")\n",
        "  #Float, tipagem explícita, para garantir número fracionário\n",
        "  n1 = float( input(\"digite a nota 1(com peso 2): \") )\n",
        "  n2 = float( input(\"digite a nota 2(com peso 3): \") )\n",
        "\n",
        "\n",
        "\n",
        "  #calculo de media ponderada\n",
        "  media = (n1 * 2 + n2 * 3) / 5\n",
        "\n",
        "  #impressão da média#\n",
        "  print(f\"A média ponderada das notas é: {media:.2f}\")\n",
        "\n",
        "  #apresentar se o aluno foi aprovado ou não\n",
        "  if media >= 6:\n",
        "    print(\"aprovado\")\n",
        "  else:\n",
        "    if n1 >= 4 and n2 >= 4:\n",
        "      print(\"Prova final\")\n",
        "    else:\n",
        "      print(\"Reprovado\")"
      ]
    }
  ]
}