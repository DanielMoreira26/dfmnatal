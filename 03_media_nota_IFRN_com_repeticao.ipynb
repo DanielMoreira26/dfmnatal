{
  "nbformat": 4,
  "nbformat_minor": 0,
  "metadata": {
    "colab": {
      "provenance": [],
      "authorship_tag": "ABX9TyPnP/EAJQLgMmq0XW4RWAtb",
      "include_colab_link": true
    },
    "kernelspec": {
      "name": "python3",
      "display_name": "Python 3"
    },
    "language_info": {
      "name": "python"
    }
  },
  "cells": [
    {
      "cell_type": "markdown",
      "metadata": {
        "id": "view-in-github",
        "colab_type": "text"
      },
      "source": [
        "<a href=\"https://colab.research.google.com/github/DanielMoreira26/dfmnatal/blob/main/03_media_nota_IFRN_com_repeticao.ipynb\" target=\"_parent\"><img src=\"https://colab.research.google.com/assets/colab-badge.svg\" alt=\"Open In Colab\"/></a>"
      ]
    },
    {
      "cell_type": "code",
      "execution_count": null,
      "metadata": {
        "colab": {
          "base_uri": "https://localhost:8080/"
        },
        "id": "48Ajr_30hc6m",
        "outputId": "00920375-7dbe-437d-e929-441eeaef362a"
      },
      "outputs": [
        {
          "output_type": "stream",
          "name": "stdout",
          "text": [
            "Calculadora de média ponderada do IFRN\n",
            "Digite o número de alunos: 5\n",
            "\n",
            "Aluno 1:\n",
            "digite a nota 1(com peso 2): 6\n",
            "digite a nota 2(com peso 3): 6.1\n",
            "A média ponderada das notas é: 6.06\n",
            "aprovado\n",
            "\n",
            "Aluno 2:\n",
            "digite a nota 1(com peso 2): 5\n",
            "digite a nota 2(com peso 3): 6.7\n",
            "A média ponderada das notas é: 6.02\n",
            "aprovado\n",
            "\n",
            "Aluno 3:\n",
            "digite a nota 1(com peso 2): 5\n",
            "digite a nota 2(com peso 3): 4.5\n",
            "A média ponderada das notas é: 4.70\n",
            "Prova final\n",
            "\n",
            "Aluno 4:\n",
            "digite a nota 1(com peso 2): 4.9\n",
            "digite a nota 2(com peso 3): 5.8\n",
            "A média ponderada das notas é: 5.44\n",
            "Prova final\n",
            "\n",
            "Aluno 5:\n",
            "digite a nota 1(com peso 2): 6\n",
            "digite a nota 2(com peso 3): 3.5\n",
            "A média ponderada das notas é: 4.50\n",
            "Reprovado\n"
          ]
        }
      ],
      "source": [
        "print(\"Calculadora de média ponderada do IFRN\")\n",
        "\n",
        "#Perguntando, para quantos alunos, desejo calcular média\n",
        "num_alunos = int(input(\"Digite o número de alunos: \"))\n",
        "\n",
        "for aluno in range(1, num_alunos+1):\n",
        "  #imprima o numero do aluno da vez\n",
        "  print(f\"\\nAluno {aluno}:\")\n",
        "  #Float, tipagem explícita, para garantir número fracionário\n",
        "  n1 = float( input(\"digite a nota 1(com peso 2): \") )\n",
        "  n2 = float( input(\"digite a nota 2(com peso 3): \") )\n",
        "\n",
        "\n",
        "\n",
        "  #calculo de media ponderada\n",
        "  media = (n1 * 2 + n2 * 3) / 5\n",
        "\n",
        "  #impressão da média#\n",
        "  print(f\"A média ponderada das notas é: {media:.2f}\")\n",
        "\n",
        "  #apresentar se o aluno foi aprovado ou não\n",
        "  if media >= 6:\n",
        "    print(\"aprovado\")\n",
        "  else:\n",
        "    if n1 >= 4 and n2 >= 4:\n",
        "      print(\"Prova final\")\n",
        "    else:\n",
        "      print(\"Reprovado\")"
      ]
    },
    {
      "cell_type": "code",
      "source": [
        "print(\"CMP_IFRN\")\n",
        "\n",
        "num_alunos = int(input(\"Digite o número de alunos: \"))\n",
        "\n",
        "for aluno in range(1, num_alunos+1):\n",
        "\n",
        "  print(f\"\\nAluno {aluno}:\")\n",
        "\n",
        "  n1 = float( input(\"digite a nota 1(com peso 2): \") )\n",
        "  n2 = float( input(\"digite a nota 2(com peso 3): \") )\n",
        "\n",
        "  media = (n1 * 2 + n2 * 3) / 5\n",
        "\n",
        "  print(f\"A média ponderada das notas é: {media:.2f}\")\n",
        "\n",
        "  if media >= 6:\n",
        "    print(\"aprovado\")\n",
        "  else:\n",
        "    if n1 >= 4 and n2 >= 4:\n",
        "      print(\"Prova final\")\n",
        "    else:\n",
        "      print(\"Reprovado\")"
      ],
      "metadata": {
        "id": "WcUBh_XTgHo6",
        "outputId": "151f98a2-d951-4644-960b-82f5038136a2",
        "colab": {
          "base_uri": "https://localhost:8080/"
        }
      },
      "execution_count": 3,
      "outputs": [
        {
          "output_type": "stream",
          "name": "stdout",
          "text": [
            "CMP_IFRN\n",
            "Digite o número de alunos: 2\n",
            "\n",
            "Aluno 1:\n",
            "digite a nota 1(com peso 2): 5.6\n",
            "digite a nota 2(com peso 3): 6.5\n",
            "A média ponderada das notas é: 6.14\n",
            "aprovado\n",
            "\n",
            "Aluno 2:\n",
            "digite a nota 1(com peso 2): 4.8\n",
            "digite a nota 2(com peso 3): 8.4\n",
            "A média ponderada das notas é: 6.96\n",
            "aprovado\n"
          ]
        }
      ]
    }
  ]
}