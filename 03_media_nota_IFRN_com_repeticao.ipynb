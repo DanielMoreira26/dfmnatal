{
  "nbformat": 4,
  "nbformat_minor": 0,
  "metadata": {
    "colab": {
      "provenance": [],
      "authorship_tag": "ABX9TyPnP/EAJQLgMmq0XW4RWAtb",
      "include_colab_link": true
    },
    "kernelspec": {
      "name": "python3",
      "display_name": "Python 3"
    },
    "language_info": {
      "name": "python"
    }
  },
  "cells": [
    {
      "cell_type": "markdown",
      "metadata": {
        "id": "view-in-github",
        "colab_type": "text"
      },
      "source": [
        "<a href=\"https://colab.research.google.com/github/DanielMoreira26/dfmnatal/blob/main/03_media_nota_IFRN_com_repeticao.ipynb\" target=\"_parent\"><img src=\"https://colab.research.google.com/assets/colab-badge.svg\" alt=\"Open In Colab\"/></a>"
      ]
    },
    {
      "cell_type": "code",
      "execution_count": 1,
      "metadata": {
        "colab": {
          "base_uri": "https://localhost:8080/"
        },
        "id": "48Ajr_30hc6m",
        "outputId": "cb0ceb10-94ca-4887-ee7f-ef5824e0fa51"
      },
      "outputs": [
        {
          "output_type": "stream",
          "name": "stdout",
          "text": [
            "Calculadora de média ponderada do IFRN\n",
            "Digite o número de alunos: 3\n",
            "\n",
            "Aluno 1:\n",
            "digite a nota 1(com peso 2): 99\n",
            "digite a nota 2(com peso 3): 65\n",
            "A média ponderada das notas é: 78.60\n",
            "aprovado\n",
            "\n",
            "Aluno 2:\n",
            "digite a nota 1(com peso 2): 75\n",
            "digite a nota 2(com peso 3): 60\n",
            "A média ponderada das notas é: 66.00\n",
            "aprovado\n",
            "\n",
            "Aluno 3:\n",
            "digite a nota 1(com peso 2): 55\n",
            "digite a nota 2(com peso 3): 85\n",
            "A média ponderada das notas é: 73.00\n",
            "aprovado\n"
          ]
        }
      ],
      "source": [
        "print(\"Calculadora de média ponderada do IFRN\")\n",
        "\n",
        "#Perguntando, para quantos alunos, desejo calcular média\n",
        "num_alunos = int(input(\"Digite o número de alunos: \"))\n",
        "\n",
        "for aluno in range(1, num_alunos+1):\n",
        "  #imprima o numero do aluno da vez\n",
        "  print(f\"\\nAluno {aluno}:\")\n",
        "  #Float, tipagem explícita, para garantir número fracionário\n",
        "  n1 = float( input(\"digite a nota 1(com peso 2): \") )\n",
        "  n2 = float( input(\"digite a nota 2(com peso 3): \") )\n",
        "\n",
        "\n",
        "\n",
        "  #calculo de media ponderada\n",
        "  media = (n1 * 2 + n2 * 3) / 5\n",
        "\n",
        "  #impressão da média#\n",
        "  print(f\"A média ponderada das notas é: {media:.2f}\")\n",
        "\n",
        "  #apresentar se o aluno foi aprovado ou não\n",
        "  if media >= 6:\n",
        "    print(\"aprovado\")\n",
        "  else:\n",
        "    if n1 >= 4 and n2 >= 4:\n",
        "      print(\"Prova final\")\n",
        "    else:\n",
        "      print(\"Reprovado\")"
      ]
    },
    {
      "cell_type": "code",
      "source": [
        "print(\"CMP_IFRN\")\n",
        "\n",
        "num_alunos = int(input(\"Digite o número de alunos: \"))\n",
        "\n",
        "for aluno in range(1, num_alunos+1):\n",
        "\n",
        "  print(f\"\\nAluno {aluno}:\")\n",
        "\n",
        "  n1 = float( input(\"digite a nota 1(com peso 2): \") )\n",
        "  n2 = float( input(\"digite a nota 2(com peso 3): \") )\n",
        "\n",
        "  media = (n1 * 2 + n2 * 3) / 5\n",
        "\n",
        "  print(f\"A média ponderada das notas é: {media:.2f}\")\n",
        "\n",
        "  if media >= 6:\n",
        "    print(\"aprovado\")\n",
        "  else:\n",
        "    if n1 >= 4 and n2 >= 4:\n",
        "      print(\"Prova final\")\n",
        "    else:\n",
        "      print(\"Reprovado\")"
      ],
      "metadata": {
        "id": "WcUBh_XTgHo6",
        "outputId": "e5f39005-f67c-4b8e-ad18-71db6f76016a",
        "colab": {
          "base_uri": "https://localhost:8080/"
        }
      },
      "execution_count": 2,
      "outputs": [
        {
          "output_type": "stream",
          "name": "stdout",
          "text": [
            "CMP_IFRN\n",
            "Digite o número de alunos: 2\n",
            "\n",
            "Aluno 1:\n",
            "digite a nota 1(com peso 2): 86\n",
            "digite a nota 2(com peso 3): 54\n",
            "A média ponderada das notas é: 66.80\n",
            "aprovado\n",
            "\n",
            "Aluno 2:\n",
            "digite a nota 1(com peso 2): 65\n",
            "digite a nota 2(com peso 3): 55\n",
            "A média ponderada das notas é: 59.00\n",
            "aprovado\n"
          ]
        }
      ]
    }
  ]
}