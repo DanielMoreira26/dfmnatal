{
  "nbformat": 4,
  "nbformat_minor": 0,
  "metadata": {
    "colab": {
      "provenance": [],
      "authorship_tag": "ABX9TyOAa99dzHjrcxbpHwGHvo70",
      "include_colab_link": true
    },
    "kernelspec": {
      "name": "python3",
      "display_name": "Python 3"
    },
    "language_info": {
      "name": "python"
    }
  },
  "cells": [
    {
      "cell_type": "markdown",
      "metadata": {
        "id": "view-in-github",
        "colab_type": "text"
      },
      "source": [
        "<a href=\"https://colab.research.google.com/github/DanielMoreira26/dfmnatal/blob/main/Atividade_05_palindromo.ipynb\" target=\"_parent\"><img src=\"https://colab.research.google.com/assets/colab-badge.svg\" alt=\"Open In Colab\"/></a>"
      ]
    },
    {
      "cell_type": "code",
      "execution_count": 2,
      "metadata": {
        "id": "ovWJVdJGn5Ly",
        "colab": {
          "base_uri": "https://localhost:8080/"
        },
        "outputId": "34733a67-8b94-41eb-f833-af7cb0d151c7"
      },
      "outputs": [
        {
          "output_type": "stream",
          "name": "stdout",
          "text": [
            "False\n"
          ]
        }
      ],
      "source": [
        "def eh_palindromo(palavra):\n",
        "    #pass\n",
        "    palavra = palavra.replace(\" \", \"\").lower()\n",
        "    return palavra == palavra[::-1]\n",
        "\n",
        "print(eh_palindromo(\"algoritmo\"))"
      ]
    }
  ]
}