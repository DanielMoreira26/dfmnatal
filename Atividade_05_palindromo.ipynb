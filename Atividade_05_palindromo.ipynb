{
  "nbformat": 4,
  "nbformat_minor": 0,
  "metadata": {
    "colab": {
      "provenance": [],
      "authorship_tag": "ABX9TyNbIH0Sca4DCrLgiDMF+51G",
      "include_colab_link": true
    },
    "kernelspec": {
      "name": "python3",
      "display_name": "Python 3"
    },
    "language_info": {
      "name": "python"
    }
  },
  "cells": [
    {
      "cell_type": "markdown",
      "metadata": {
        "id": "view-in-github",
        "colab_type": "text"
      },
      "source": [
        "<a href=\"https://colab.research.google.com/github/DanielMoreira26/dfmnatal/blob/main/Atividade_05_palindromo.ipynb\" target=\"_parent\"><img src=\"https://colab.research.google.com/assets/colab-badge.svg\" alt=\"Open In Colab\"/></a>"
      ]
    },
    {
      "cell_type": "code",
      "execution_count": null,
      "metadata": {
        "id": "ovWJVdJGn5Ly"
      },
      "outputs": [],
      "source": [
        "def eh_palindromo(s):\n",
        "  \"\"\"\n",
        "Verifica se a string `s` é um palíndromo, ignorando espaços e\n",
        "considerando letras maiúsculas e minúsculas como iguais.\n",
        "\n",
        "Args:\n",
        "s (str): A string a ser verificada.\n",
        "\n",
        "Returns:\n",
        "bool: True se `s` for um palíndromo, False caso contrário.\n",
        "\"\"\"\n",
        "Pass"
      ]
    }
  ]
}