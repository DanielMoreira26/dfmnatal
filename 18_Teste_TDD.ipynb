{
  "nbformat": 4,
  "nbformat_minor": 0,
  "metadata": {
    "colab": {
      "provenance": [],
      "authorship_tag": "ABX9TyP3B9q5zE2WZoF/fuGrKzRD",
      "include_colab_link": true
    },
    "kernelspec": {
      "name": "python3",
      "display_name": "Python 3"
    },
    "language_info": {
      "name": "python"
    }
  },
  "cells": [
    {
      "cell_type": "markdown",
      "metadata": {
        "id": "view-in-github",
        "colab_type": "text"
      },
      "source": [
        "<a href=\"https://colab.research.google.com/github/DanielMoreira26/dfmnatal/blob/main/18_Teste_TDD.ipynb\" target=\"_parent\"><img src=\"https://colab.research.google.com/assets/colab-badge.svg\" alt=\"Open In Colab\"/></a>"
      ]
    },
    {
      "cell_type": "code",
      "execution_count": 1,
      "metadata": {
        "colab": {
          "base_uri": "https://localhost:8080/"
        },
        "id": "nCA70cbhmyEP",
        "outputId": "4baae3fd-58f8-41aa-8f07-e24ef80ceff5"
      },
      "outputs": [
        {
          "output_type": "stream",
          "name": "stdout",
          "text": [
            "Mounted at /content/drive\n",
            "O caminho fornecido foi: /content/drive/MyDrive/Colab Notebooks/2024_1_Algoritmo/Teste/18_TDD.ipynb\n",
            "[NbConvertApp] Converting notebook /content/drive/MyDrive/Colab Notebooks/2024_1_Algoritmo/Teste/18_TDD.ipynb to script\n",
            "[NbConvertApp] Writing 635 bytes to /content/drive/MyDrive/Colab Notebooks/2024_1_Algoritmo/Teste/18_TDD.txt\n"
          ]
        }
      ],
      "source": [
        "from google.colab import drive #Tratar google drive\n",
        "import os                      #\n",
        "import importlib.util          #Importação do arquivo\n",
        "import unittest                #Realizar dos testes unitários\n",
        "\n",
        "drive.mount('/content/drive')  #Montando a pasta do google drive\n",
        "\n",
        "#navegar pro diretorio de destino\n",
        "os.chdir('/content/drive/MyDrive/Colab Notebooks/2024_1_Algoritmo/Teste')\n",
        "\n",
        "# Perguntar ao usuário o caminho do arquivo no Google Drive\n",
        "caminho = \"/content/drive/MyDrive/Colab Notebooks/2024_1_Algoritmo/Teste/18_TDD.ipynb\"\n",
        "# Google Drive (ex: '/content/drive/MyDrive/Colab Notebooks/20241_alg_est/18_tdd.ipynb'):\n",
        "\n",
        "# Exibir o caminho fornecido pelo usuário\n",
        "print(f\"O caminho fornecido foi: {caminho}\")\n",
        "\n",
        "# Converter o notebook para um script Python\n",
        "!jupyter nbconvert --to script \"{caminho}\"\n",
        "\n",
        "# Substituir a extensão '.ipynb' por '.py' para localizar o arquivo convertido\n",
        "caminho_py = caminho.replace('.ipynb', '.py')\n",
        "\n",
        "# Caso o arquivo tenha sido gerado como '.txt', renomeie para '.py'\n",
        "if os.path.exists(caminho_py.replace('.py', '.txt')):\n",
        "    os.rename(caminho_py.replace('.py', '.txt'), caminho_py)\n",
        "\n",
        "# Importar o script Python gerado\n",
        "spec = importlib.util.spec_from_file_location(\"tdd_module\", caminho_py)\n",
        "tdd_module = importlib.util.module_from_spec(spec)\n",
        "spec.loader.exec_module(tdd_module)"
      ]
    },
    {
      "cell_type": "code",
      "source": [
        "import unittest\n",
        "\n",
        "class TestFuncoesAleatorias(unittest.TestCase):\n",
        "\n",
        "    def test_gerar_lista_aleatoria(self):\n",
        "        lista = tdd_module.gerar_lista_aleatoria()\n",
        "        self.assertEqual(len(lista), 28)\n",
        "        for num in lista:\n",
        "            self.assertTrue(1 <= num <= 100)\n",
        "\n",
        "    #def test_gerar_lista_aleatoria_distintos(self):\n",
        "        #lista = tdd_module.gerar_lista_aleatoria_distintos()\n",
        "        #self.assertEqual(len(lista), 28)\n",
        "        #self.assertEqual(len(set(lista)), 28)  # Verifica se todos os elementos são únicos\n",
        "        #for num in lista:\n",
        "            #self.assertTrue(1 <= num <= 100)\n",
        "\n",
        "    #def test_embaralhar_lista(self):\n",
        "        #lista_original = [i for i in range(1, 29)]\n",
        "        #lista_embaralhada = tdd_module.embaralhar_lista(lista_original.copy())\n",
        "\n",
        "        #self.assertEqual(len(lista_embaralhada), 28)\n",
        "        #self.assertCountEqual(lista_original, lista_embaralhada)  # Verifica se contém os mesmos elementos\n",
        "        #self.assertNotEqual(lista_original, lista_embaralhada)  # Verifica se a ordem é diferente\n",
        "\n",
        "#if __name__ == '__main__':\n",
        "    #unittest.main(argv=[''], verbosity=2, exit=False)"
      ],
      "metadata": {
        "id": "5UI7AarKtR6v"
      },
      "execution_count": 2,
      "outputs": []
    }
  ]
}