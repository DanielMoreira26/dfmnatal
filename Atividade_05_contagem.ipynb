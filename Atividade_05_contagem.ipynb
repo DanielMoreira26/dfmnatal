{
  "nbformat": 4,
  "nbformat_minor": 0,
  "metadata": {
    "colab": {
      "provenance": [],
      "authorship_tag": "ABX9TyPMi+8WdWIIgPWsN61atWRo",
      "include_colab_link": true
    },
    "kernelspec": {
      "name": "python3",
      "display_name": "Python 3"
    },
    "language_info": {
      "name": "python"
    }
  },
  "cells": [
    {
      "cell_type": "markdown",
      "metadata": {
        "id": "view-in-github",
        "colab_type": "text"
      },
      "source": [
        "<a href=\"https://colab.research.google.com/github/DanielMoreira26/dfmnatal/blob/main/Atividade_05_contagem.ipynb\" target=\"_parent\"><img src=\"https://colab.research.google.com/assets/colab-badge.svg\" alt=\"Open In Colab\"/></a>"
      ]
    },
    {
      "cell_type": "code",
      "execution_count": null,
      "metadata": {
        "id": "IQANLIubpqTk"
      },
      "outputs": [],
      "source": [
        "def contar_palavra(arquivo, palavra):\n",
        "&quot;&quot;&quot;\n",
        "Conta quantas vezes a palavra `palavra` aparece no arquivo `arquivo`.\n",
        "\n",
        "Args:\n",
        "arquivo (str): O caminho para o arquivo de texto.\n",
        "palavra (str): A palavra a ser contada.\n",
        "\n",
        "Returns:\n",
        "int: O número de vezes que `palavra` aparece no arquivo.\n",
        "&quot;&quot;&quot;\n",
        "pass"
      ]
    }
  ]
}