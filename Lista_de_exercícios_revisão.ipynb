{
  "nbformat": 4,
  "nbformat_minor": 0,
  "metadata": {
    "colab": {
      "provenance": [],
      "authorship_tag": "ABX9TyPxXrVfCX/tGgpxHa7jK64V",
      "include_colab_link": true
    },
    "kernelspec": {
      "name": "python3",
      "display_name": "Python 3"
    },
    "language_info": {
      "name": "python"
    }
  },
  "cells": [
    {
      "cell_type": "markdown",
      "metadata": {
        "id": "view-in-github",
        "colab_type": "text"
      },
      "source": [
        "<a href=\"https://colab.research.google.com/github/DanielMoreira26/dfmnatal/blob/main/Lista_de_exerc%C3%ADcios_revis%C3%A3o.ipynb\" target=\"_parent\"><img src=\"https://colab.research.google.com/assets/colab-badge.svg\" alt=\"Open In Colab\"/></a>"
      ]
    },
    {
      "cell_type": "markdown",
      "source": [
        "1 - Escreva um programa que imprima \"Olá, Mundo!\" na tela."
      ],
      "metadata": {
        "id": "v44nsDe9bX8r"
      }
    },
    {
      "cell_type": "code",
      "source": [
        "print('Hello, world!')"
      ],
      "metadata": {
        "colab": {
          "base_uri": "https://localhost:8080/"
        },
        "id": "OBFaOiGDbgDe",
        "outputId": "44ecb49f-95aa-4ce4-854d-6aa3a16e46cd"
      },
      "execution_count": null,
      "outputs": [
        {
          "output_type": "stream",
          "name": "stdout",
          "text": [
            "Hello, world!\n"
          ]
        }
      ]
    },
    {
      "cell_type": "markdown",
      "source": [
        "2 - Crie um programa que leia três notas de um aluno e calcule a média final."
      ],
      "metadata": {
        "id": "_P-lkNOhcQqU"
      }
    },
    {
      "cell_type": "code",
      "source": [
        "nota_1 = 85\n",
        "nota_2 = 75\n",
        "nota_3 = 95\n",
        "\n",
        "media = (nota_1 + nota_2 + nota_3)/3\n",
        "print(f\"A média das notas é: {media:.2f}\")\n"
      ],
      "metadata": {
        "colab": {
          "base_uri": "https://localhost:8080/"
        },
        "id": "ZoniL3VIht0J",
        "outputId": "274a56a8-f3e8-42cc-dfbb-bd5a23306fff"
      },
      "execution_count": null,
      "outputs": [
        {
          "output_type": "stream",
          "name": "stdout",
          "text": [
            "A média das notas é: 85.00\n"
          ]
        }
      ]
    },
    {
      "cell_type": "markdown",
      "source": [
        "3 - Escreva um programa que calcule a média de notas, permitindo a entrada repetida de notas até que o usuário indique que não deseja mais inserir.\n"
      ],
      "metadata": {
        "id": "KIg0PWweiwtY"
      }
    },
    {
      "cell_type": "code",
      "source": [],
      "metadata": {
        "id": "j2_VMB1Li7rH"
      },
      "execution_count": null,
      "outputs": []
    },
    {
      "cell_type": "markdown",
      "source": [
        "4 - Crie um programa que leia três números e determine o maior deles"
      ],
      "metadata": {
        "id": "Y-RnhCV5wZYM"
      }
    },
    {
      "cell_type": "code",
      "source": [],
      "metadata": {
        "id": "_n0ltuBBwfKz"
      },
      "execution_count": null,
      "outputs": []
    },
    {
      "cell_type": "markdown",
      "source": [
        "5 - Desenvolva um programa que monitore a qualidade da água de um reservatório usando um loop while"
      ],
      "metadata": {
        "id": "4ekbozdawgRs"
      }
    },
    {
      "cell_type": "code",
      "source": [],
      "metadata": {
        "id": "eYPojkkkwlSh"
      },
      "execution_count": null,
      "outputs": []
    },
    {
      "cell_type": "markdown",
      "source": [
        "6 - Implemente um programa que utilize um loop while para calcular a soma dos números de 1 a 100"
      ],
      "metadata": {
        "id": "RD2unPk6w2SM"
      }
    },
    {
      "cell_type": "code",
      "source": [],
      "metadata": {
        "id": "LDVOge5qw6yk"
      },
      "execution_count": null,
      "outputs": []
    },
    {
      "cell_type": "markdown",
      "source": [
        "7 - Escreva um programa que imprima todos os números ímpares de 1 a 50 usando um loop for"
      ],
      "metadata": {
        "id": "3FTt2vzuxcjx"
      }
    },
    {
      "cell_type": "code",
      "source": [],
      "metadata": {
        "id": "ClrXgdhTxgp4"
      },
      "execution_count": null,
      "outputs": []
    },
    {
      "cell_type": "markdown",
      "source": [
        "8 - Desenvolva um programa que utilize os objetos built-in do Python para realizar operações com listas e dicionários"
      ],
      "metadata": {
        "id": "UsIqUFDKxqO-"
      }
    },
    {
      "cell_type": "code",
      "source": [],
      "metadata": {
        "id": "4P5qxddtxuFF"
      },
      "execution_count": null,
      "outputs": []
    }
  ]
}