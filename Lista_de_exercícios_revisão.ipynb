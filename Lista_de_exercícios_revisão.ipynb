{
  "nbformat": 4,
  "nbformat_minor": 0,
  "metadata": {
    "colab": {
      "provenance": [],
      "authorship_tag": "ABX9TyOWCAh+DEmObAqiVkUuA8Zd",
      "include_colab_link": true
    },
    "kernelspec": {
      "name": "python3",
      "display_name": "Python 3"
    },
    "language_info": {
      "name": "python"
    }
  },
  "cells": [
    {
      "cell_type": "markdown",
      "metadata": {
        "id": "view-in-github",
        "colab_type": "text"
      },
      "source": [
        "<a href=\"https://colab.research.google.com/github/DanielMoreira26/dfmnatal/blob/main/Lista_de_exerc%C3%ADcios_revis%C3%A3o.ipynb\" target=\"_parent\"><img src=\"https://colab.research.google.com/assets/colab-badge.svg\" alt=\"Open In Colab\"/></a>"
      ]
    },
    {
      "cell_type": "markdown",
      "source": [
        "1 - Escreva um programa que imprima \"Olá, Mundo!\" na tela."
      ],
      "metadata": {
        "id": "v44nsDe9bX8r"
      }
    },
    {
      "cell_type": "code",
      "source": [
        "print('Hello, world!')"
      ],
      "metadata": {
        "colab": {
          "base_uri": "https://localhost:8080/"
        },
        "id": "OBFaOiGDbgDe",
        "outputId": "44ecb49f-95aa-4ce4-854d-6aa3a16e46cd"
      },
      "execution_count": 1,
      "outputs": [
        {
          "output_type": "stream",
          "name": "stdout",
          "text": [
            "Hello, world!\n"
          ]
        }
      ]
    },
    {
      "cell_type": "markdown",
      "source": [
        "2 - Crie um programa que leia três notas de um aluno e calcule a média final."
      ],
      "metadata": {
        "id": "_P-lkNOhcQqU"
      }
    },
    {
      "cell_type": "code",
      "source": [
        "nota_1 = 85\n",
        "nota_2 = 75\n",
        "nota_3 = 95\n",
        "\n",
        "media = (nota_1 + nota_2 + nota_3)/3\n",
        "print(f\"A média das notas é: {media:.2f}\")\n"
      ],
      "metadata": {
        "colab": {
          "base_uri": "https://localhost:8080/"
        },
        "id": "ZoniL3VIht0J",
        "outputId": "274a56a8-f3e8-42cc-dfbb-bd5a23306fff"
      },
      "execution_count": 8,
      "outputs": [
        {
          "output_type": "stream",
          "name": "stdout",
          "text": [
            "A média das notas é: 85.00\n"
          ]
        }
      ]
    },
    {
      "cell_type": "markdown",
      "source": [
        "3 - Escreva um programa que calcule a média de notas, permitindo a entrada repetida de notas até que o usuário indique que não deseja mais inserir.\n"
      ],
      "metadata": {
        "id": "KIg0PWweiwtY"
      }
    },
    {
      "cell_type": "code",
      "source": [],
      "metadata": {
        "id": "j2_VMB1Li7rH"
      },
      "execution_count": null,
      "outputs": []
    }
  ]
}