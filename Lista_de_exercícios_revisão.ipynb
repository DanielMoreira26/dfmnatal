{
  "nbformat": 4,
  "nbformat_minor": 0,
  "metadata": {
    "colab": {
      "provenance": [],
      "authorship_tag": "ABX9TyOqsGApFGkFi9d5fhJEzgn7",
      "include_colab_link": true
    },
    "kernelspec": {
      "name": "python3",
      "display_name": "Python 3"
    },
    "language_info": {
      "name": "python"
    }
  },
  "cells": [
    {
      "cell_type": "markdown",
      "metadata": {
        "id": "view-in-github",
        "colab_type": "text"
      },
      "source": [
        "<a href=\"https://colab.research.google.com/github/DanielMoreira26/dfmnatal/blob/main/Lista_de_exerc%C3%ADcios_revis%C3%A3o.ipynb\" target=\"_parent\"><img src=\"https://colab.research.google.com/assets/colab-badge.svg\" alt=\"Open In Colab\"/></a>"
      ]
    },
    {
      "cell_type": "markdown",
      "source": [
        "1 - Escreva um programa que imprima \"Olá, Mundo!\" na tela."
      ],
      "metadata": {
        "id": "v44nsDe9bX8r"
      }
    },
    {
      "cell_type": "code",
      "source": [
        "print('Hello, world!')"
      ],
      "metadata": {
        "colab": {
          "base_uri": "https://localhost:8080/"
        },
        "id": "OBFaOiGDbgDe",
        "outputId": "44ecb49f-95aa-4ce4-854d-6aa3a16e46cd"
      },
      "execution_count": null,
      "outputs": [
        {
          "output_type": "stream",
          "name": "stdout",
          "text": [
            "Hello, world!\n"
          ]
        }
      ]
    },
    {
      "cell_type": "markdown",
      "source": [
        "2 - Crie um programa que leia três notas de um aluno e calcule a média final."
      ],
      "metadata": {
        "id": "_P-lkNOhcQqU"
      }
    },
    {
      "cell_type": "code",
      "source": [
        "nota_1 = 85\n",
        "nota_2 = 75\n",
        "nota_3 = 95\n",
        "\n",
        "media = (nota_1 + nota_2 + nota_3)/3\n",
        "print(f\"A média das notas é: {media:.2f}\")\n"
      ],
      "metadata": {
        "colab": {
          "base_uri": "https://localhost:8080/"
        },
        "id": "ZoniL3VIht0J",
        "outputId": "274a56a8-f3e8-42cc-dfbb-bd5a23306fff"
      },
      "execution_count": null,
      "outputs": [
        {
          "output_type": "stream",
          "name": "stdout",
          "text": [
            "A média das notas é: 85.00\n"
          ]
        }
      ]
    },
    {
      "cell_type": "markdown",
      "source": [
        "3 - Escreva um programa que calcule a média de notas, permitindo a entrada repetida de notas até que o usuário indique que não deseja mais inserir.\n"
      ],
      "metadata": {
        "id": "KIg0PWweiwtY"
      }
    },
    {
      "cell_type": "code",
      "source": [
        "def calcular_media_notas():\n",
        "    notas = []\n",
        "\n",
        "    while True:\n",
        "        nota_str = input(\"Digite uma nota (ou digite 'fim' para encerrar): \")\n",
        "\n",
        "        if nota_str.lower() == 'fim':\n",
        "            break\n",
        "\n",
        "        try:\n",
        "            nota = float(nota_str)\n",
        "            notas.append(nota)\n",
        "        except ValueError:\n",
        "            print(\"Por favor, digite um número válido ou 'fim' para encerrar.\")\n",
        "\n",
        "    if len(notas) > 0:\n",
        "        media = sum(notas) / len(notas)\n",
        "        print(f\"A média das notas inseridas é: {media:.2f}\")\n",
        "    else:\n",
        "        print(\"Nenhuma nota foi inserida.\")\n",
        "\n",
        "calcular_media_notas()"
      ],
      "metadata": {
        "id": "8e4N6jrk3FZP",
        "outputId": "605b2c69-d64b-4abd-d7e6-bc7ad10e5b7b",
        "colab": {
          "base_uri": "https://localhost:8080/"
        }
      },
      "execution_count": 3,
      "outputs": [
        {
          "output_type": "stream",
          "name": "stdout",
          "text": [
            "Digite uma nota (ou digite 'fim' para encerrar): 87\n",
            "Digite uma nota (ou digite 'fim' para encerrar): 96\n",
            "Digite uma nota (ou digite 'fim' para encerrar): 45\n",
            "Digite uma nota (ou digite 'fim' para encerrar): 84\n",
            "Digite uma nota (ou digite 'fim' para encerrar): fim\n",
            "A média das notas inseridas é: 78.00\n"
          ]
        }
      ]
    },
    {
      "cell_type": "markdown",
      "source": [
        "4 - Crie um programa que leia três números e determine o maior deles"
      ],
      "metadata": {
        "id": "Y-RnhCV5wZYM"
      }
    },
    {
      "cell_type": "code",
      "source": [
        "a = 38\n",
        "b = 44\n",
        "c = 40\n",
        "\n",
        "print(max(a,b,c))\n"
      ],
      "metadata": {
        "colab": {
          "base_uri": "https://localhost:8080/"
        },
        "id": "9_8KxDPv148o",
        "outputId": "7df62df0-b436-454b-fdd5-60ad44c1d11c"
      },
      "execution_count": 1,
      "outputs": [
        {
          "output_type": "stream",
          "name": "stdout",
          "text": [
            "44\n"
          ]
        }
      ]
    },
    {
      "cell_type": "markdown",
      "source": [
        "5 - Desenvolva um programa que monitore a qualidade da água de um reservatório usando um loop while"
      ],
      "metadata": {
        "id": "4ekbozdawgRs"
      }
    },
    {
      "cell_type": "code",
      "source": [],
      "metadata": {
        "id": "rWtguRN97Pp2"
      },
      "execution_count": null,
      "outputs": []
    },
    {
      "cell_type": "markdown",
      "source": [
        "6 - Implemente um programa que utilize um loop while para calcular a soma dos números de 1 a 100"
      ],
      "metadata": {
        "id": "RD2unPk6w2SM"
      }
    },
    {
      "cell_type": "code",
      "source": [
        "def calcular_soma():\n",
        "    soma = 0\n",
        "    numero = 1\n",
        "\n",
        "    while numero <= 100:\n",
        "        soma += numero\n",
        "        numero += 1\n",
        "\n",
        "    return soma\n",
        "\n",
        "resultado = calcular_soma()\n",
        "print(\"A soma dos números de 1 a 100 é:\", resultado)"
      ],
      "metadata": {
        "id": "A1C4nXLR8ayh",
        "outputId": "bbcb1315-fcbc-4737-ac1e-932a8fa480a0",
        "colab": {
          "base_uri": "https://localhost:8080/"
        }
      },
      "execution_count": 6,
      "outputs": [
        {
          "output_type": "stream",
          "name": "stdout",
          "text": [
            "A soma dos números de 1 a 100 é: 5050\n"
          ]
        }
      ]
    },
    {
      "cell_type": "markdown",
      "source": [
        "7 - Escreva um programa que imprima todos os números ímpares de 1 a 50 usando um loop for"
      ],
      "metadata": {
        "id": "3FTt2vzuxcjx"
      }
    },
    {
      "cell_type": "code",
      "source": [
        "def imprimir_impares():\n",
        "    for num in range(1, 51, 2):\n",
        "        print(num)\n",
        "\n",
        "imprimir_impares()"
      ],
      "metadata": {
        "id": "ClrXgdhTxgp4",
        "colab": {
          "base_uri": "https://localhost:8080/"
        },
        "outputId": "1328533c-3fbe-4357-a62c-b8b71e53796b"
      },
      "execution_count": 7,
      "outputs": [
        {
          "output_type": "stream",
          "name": "stdout",
          "text": [
            "1\n",
            "3\n",
            "5\n",
            "7\n",
            "9\n",
            "11\n",
            "13\n",
            "15\n",
            "17\n",
            "19\n",
            "21\n",
            "23\n",
            "25\n",
            "27\n",
            "29\n",
            "31\n",
            "33\n",
            "35\n",
            "37\n",
            "39\n",
            "41\n",
            "43\n",
            "45\n",
            "47\n",
            "49\n"
          ]
        }
      ]
    },
    {
      "cell_type": "markdown",
      "source": [
        "8 - Desenvolva um programa que utilize os objetos built-in do Python para realizar operações com listas e dicionários"
      ],
      "metadata": {
        "id": "UsIqUFDKxqO-"
      }
    },
    {
      "cell_type": "code",
      "source": [
        "lista = list(range(1, 11))\n",
        "\n",
        "print(lista)\n",
        "\n",
        "dicionario = {'AC': 'Rio Branco', 'AL': 'Maceió', 'AP': 'Macapá'}\n",
        "\n",
        "print(dicionario)\n",
        "\n",
        "print(dicionario.keys())\n",
        "\n",
        "print(dicionario.values())\n",
        "\n",
        "print(dicionario.items())\n",
        "\n",
        "del dicionario['AP']\n",
        "\n",
        "print(dicionario)\n"
      ],
      "metadata": {
        "id": "4P5qxddtxuFF",
        "colab": {
          "base_uri": "https://localhost:8080/"
        },
        "outputId": "c135f374-78d8-4bad-ac9e-5efcd7c60b03"
      },
      "execution_count": 13,
      "outputs": [
        {
          "output_type": "stream",
          "name": "stdout",
          "text": [
            "[1, 2, 3, 4, 5, 6, 7, 8, 9, 10]\n",
            "{'AC': 'Rio Branco', 'AL': 'Maceió', 'AP': 'Macapá'}\n",
            "dict_keys(['AC', 'AL', 'AP'])\n",
            "dict_values(['Rio Branco', 'Maceió', 'Macapá'])\n",
            "dict_items([('AC', 'Rio Branco'), ('AL', 'Maceió'), ('AP', 'Macapá')])\n",
            "{'AC': 'Rio Branco', 'AL': 'Maceió'}\n"
          ]
        }
      ]
    }
  ]
}