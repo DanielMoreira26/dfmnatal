{
  "nbformat": 4,
  "nbformat_minor": 0,
  "metadata": {
    "colab": {
      "provenance": [],
      "authorship_tag": "ABX9TyNRwbdgMN0oOrlXMWNmemwV",
      "include_colab_link": true
    },
    "kernelspec": {
      "name": "python3",
      "display_name": "Python 3"
    },
    "language_info": {
      "name": "python"
    }
  },
  "cells": [
    {
      "cell_type": "markdown",
      "metadata": {
        "id": "view-in-github",
        "colab_type": "text"
      },
      "source": [
        "<a href=\"https://colab.research.google.com/github/DanielMoreira26/dfmnatal/blob/main/13_Vetores_Introdu%C3%A7%C3%A3o.ipynb\" target=\"_parent\"><img src=\"https://colab.research.google.com/assets/colab-badge.svg\" alt=\"Open In Colab\"/></a>"
      ]
    },
    {
      "cell_type": "code",
      "execution_count": 2,
      "metadata": {
        "colab": {
          "base_uri": "https://localhost:8080/"
        },
        "id": "Tr7lOr7efTFk",
        "outputId": "4a8a1a67-5e26-41bb-d118-87a611a0787e"
      },
      "outputs": [
        {
          "output_type": "stream",
          "name": "stdout",
          "text": [
            "Família Revoredo\n",
            "Família Menezes\n"
          ]
        }
      ],
      "source": [
        "#Considere um edifício com diversas famílias e/ou moradores por\n",
        "edificio_terreo = \"Família Revoredo\"\n",
        "edificio_1o_andar = \"Família Menezes\"\n",
        "edificio_2o_andar = \"Familia Silva\"\n",
        "edifio_3o_andar = \"Familia Pereira\"\n",
        "\n",
        "edificio = [\n",
        "    edificio_terreo,\n",
        "    edificio_1o_andar,\n",
        "    edificio_2o_andar,\n",
        "    edifio_3o_andar\n",
        "]\n",
        "\n",
        "print(edificio[0])\n",
        "print(edificio[1])"
      ]
    },
    {
      "cell_type": "code",
      "source": [],
      "metadata": {
        "id": "-OcENJuagkeV"
      },
      "execution_count": null,
      "outputs": []
    },
    {
      "cell_type": "markdown",
      "source": [
        "Versão professor"
      ],
      "metadata": {
        "id": "0UmDGg6QgibF"
      }
    },
    {
      "cell_type": "code",
      "source": [
        "#Considere um edificio com diversas familias e/ou moradores por andar\n",
        "edificio_terreo = \"Familia Revoredo\"\n",
        "edificio_1o_andar = \"Familia Menezes\"\n",
        "edificio_2o_andar = \"Familia Martins\"\n",
        "edificio_3o_andar = \"Familia Pinheiro\"\n",
        "\n",
        "#Como atribuir em localizacoes do vetor, abstraindo o andar\n",
        "edificio = [\n",
        "    edificio_terreo,\n",
        "    edificio_1o_andar,\n",
        "    edificio_2o_andar,\n",
        "    edificio_3o_andar\n",
        "]\n",
        "\n",
        "print(edificio[0])\n",
        "print(edificio[1])"
      ],
      "metadata": {
        "colab": {
          "base_uri": "https://localhost:8080/"
        },
        "id": "Wwfi7yIugtu1",
        "outputId": "5a2166ef-77f3-49cb-dddb-f51aae5726f9"
      },
      "execution_count": 1,
      "outputs": [
        {
          "output_type": "stream",
          "name": "stdout",
          "text": [
            "Familia Revoredo\n",
            "Familia Menezes\n"
          ]
        }
      ]
    },
    {
      "cell_type": "markdown",
      "source": [
        "Versão professor"
      ],
      "metadata": {
        "id": "43a3Ei7YnG6N"
      }
    },
    {
      "cell_type": "code",
      "source": [
        "my_array = [7,24,\"Fish\",\"hat stand\"]\n",
        "print(my_array[2])"
      ],
      "metadata": {
        "colab": {
          "base_uri": "https://localhost:8080/"
        },
        "id": "OhJnHWTQhQ8f",
        "outputId": "0ee3f41c-8500-471d-ee50-9d23d2bd214e"
      },
      "execution_count": 3,
      "outputs": [
        {
          "output_type": "stream",
          "name": "stdout",
          "text": [
            "Fish\n"
          ]
        }
      ]
    },
    {
      "cell_type": "code",
      "source": [
        "my_words = [\"Dudes\", \"and\"]\n",
        "print(my_words[0])\n",
        "print(my_words[1])\n",
        "my_words.append(\"Bettys\")\n",
        "print(my_words[2])"
      ],
      "metadata": {
        "colab": {
          "base_uri": "https://localhost:8080/"
        },
        "id": "tgqnWBlNnZPN",
        "outputId": "c7556d1a-5578-4b5b-8198-a029086332d2"
      },
      "execution_count": 4,
      "outputs": [
        {
          "output_type": "stream",
          "name": "stdout",
          "text": [
            "Dudes\n",
            "and\n",
            "Bettys\n"
          ]
        }
      ]
    },
    {
      "cell_type": "code",
      "source": [
        "#lista vazia\n",
        "lista = []\n",
        "\n",
        "#uma lista com três notas\n",
        "notas = [7.5,9,8.3]\n",
        "\n",
        "#Acessar uma nota\n",
        "print(notas[0])\n",
        "\n",
        "#modificar a primeira nota\n",
        "notas[0] = 8.7\n",
        "print(notas[0])"
      ],
      "metadata": {
        "colab": {
          "base_uri": "https://localhost:8080/"
        },
        "id": "DTb5cQSOncsd",
        "outputId": "5bcd76f3-11f4-45eb-9e13-7956941f9bcb"
      },
      "execution_count": 5,
      "outputs": [
        {
          "output_type": "stream",
          "name": "stdout",
          "text": [
            "7.5\n",
            "8.7\n"
          ]
        }
      ]
    },
    {
      "cell_type": "code",
      "source": [
        "#Calcule a média de 5 notas\n",
        "notas = [6,7,5,8,9]\n",
        "soma = 0 #somador\n",
        "x = 0 #iteração\n",
        "while(x<5):\n",
        "  #somador\n",
        "  #soma = soma + notas[x]\n",
        "  #simplificando em python\n",
        "  soma += notas[x]\n",
        "\n",
        "  #Impressão para depuração\n",
        "  #print(x)\n",
        "  #print(soma)\n",
        "\n",
        "  #controle da iteração\n",
        "  #x = x + 1 é equiavalente a x +=1\n",
        "  x += 1\n",
        "print(\"Média: %5.2f\" % (soma/x))"
      ],
      "metadata": {
        "colab": {
          "base_uri": "https://localhost:8080/"
        },
        "id": "OHJx90pznjAG",
        "outputId": "ade2836a-995e-452d-ea30-5462ddb7dc1c"
      },
      "execution_count": 6,
      "outputs": [
        {
          "output_type": "stream",
          "name": "stdout",
          "text": [
            "Média:  7.00\n"
          ]
        }
      ]
    }
  ]
}