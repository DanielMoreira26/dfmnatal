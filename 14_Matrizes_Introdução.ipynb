{
  "nbformat": 4,
  "nbformat_minor": 0,
  "metadata": {
    "colab": {
      "provenance": [],
      "authorship_tag": "ABX9TyNQC159al+5E+Rx93tBaugH",
      "include_colab_link": true
    },
    "kernelspec": {
      "name": "python3",
      "display_name": "Python 3"
    },
    "language_info": {
      "name": "python"
    }
  },
  "cells": [
    {
      "cell_type": "markdown",
      "metadata": {
        "id": "view-in-github",
        "colab_type": "text"
      },
      "source": [
        "<a href=\"https://colab.research.google.com/github/DanielMoreira26/dfmnatal/blob/main/14_Matrizes_Introdu%C3%A7%C3%A3o.ipynb\" target=\"_parent\"><img src=\"https://colab.research.google.com/assets/colab-badge.svg\" alt=\"Open In Colab\"/></a>"
      ]
    },
    {
      "cell_type": "code",
      "execution_count": null,
      "metadata": {
        "colab": {
          "base_uri": "https://localhost:8080/"
        },
        "id": "Eeib_-zjzuOa",
        "outputId": "12f85d61-8006-439a-ab52-4da9b23993da"
      },
      "outputs": [
        {
          "output_type": "stream",
          "name": "stdout",
          "text": [
            "[1, 2, 3, 4, 5, 6]\n"
          ]
        }
      ],
      "source": [
        "M = [1,2,3,4,5,6] #Unidimensional\n",
        "print(M)\n"
      ]
    },
    {
      "cell_type": "code",
      "source": [
        "M = [[1,1,1],[1,1,1],[1,1,1]]\n",
        "print(M)\n",
        "M = [[1]*3]*3 #Bidimensional\n",
        "print(M)\n"
      ],
      "metadata": {
        "colab": {
          "base_uri": "https://localhost:8080/"
        },
        "id": "-CaEswU9040Z",
        "outputId": "36cb565a-4df8-4309-834f-48418123a732"
      },
      "execution_count": null,
      "outputs": [
        {
          "output_type": "stream",
          "name": "stdout",
          "text": [
            "[[1, 1, 1], [1, 1, 1], [1, 1, 1]]\n",
            "[[1, 1, 1], [1, 1, 1], [1, 1, 1]]\n"
          ]
        }
      ]
    },
    {
      "cell_type": "code",
      "source": [
        "M = [[1 for i in range(5)]   ]\n",
        "print(M)"
      ],
      "metadata": {
        "colab": {
          "base_uri": "https://localhost:8080/"
        },
        "id": "n4UMgydgZIwV",
        "outputId": "4cf4b806-0ecd-4b67-f5a3-2385229273f4"
      },
      "execution_count": 8,
      "outputs": [
        {
          "output_type": "stream",
          "name": "stdout",
          "text": [
            "[[1, 1, 1, 1, 1]]\n"
          ]
        }
      ]
    },
    {
      "cell_type": "code",
      "source": [
        "M = [[1 for i in range(5)]  for j in range(5) ]\n",
        "print(M)\n"
      ],
      "metadata": {
        "colab": {
          "base_uri": "https://localhost:8080/"
        },
        "id": "btlwD2PJblPP",
        "outputId": "9eae0d9a-4f5c-406c-b7f0-9a66e45895a0"
      },
      "execution_count": 10,
      "outputs": [
        {
          "output_type": "stream",
          "name": "stdout",
          "text": [
            "[[1, 1, 1, 1, 1], [1, 1, 1, 1, 1], [1, 1, 1, 1, 1], [1, 1, 1, 1, 1], [1, 1, 1, 1, 1]]\n"
          ]
        }
      ]
    },
    {
      "cell_type": "code",
      "source": [],
      "metadata": {
        "id": "OVy6DNJtcuoX"
      },
      "execution_count": null,
      "outputs": []
    },
    {
      "cell_type": "code",
      "source": [
        "#imprimir uma lista aninhada\n",
        "m = [[1 for i in range(5)]  for j in range(5) ]\n",
        "\n",
        "print(len(m))\n",
        "cont = 0\n",
        "for i in range(len(m)):\n",
        "  for j in range(len(m[i])):\n",
        "    cont+=1\n",
        "    m[i][j]=cont\n",
        "print(m)"
      ],
      "metadata": {
        "id": "3GtdyoLujXCu",
        "outputId": "93fb2c2e-a47d-454e-cef5-af14eb7ec0ab",
        "colab": {
          "base_uri": "https://localhost:8080/"
        }
      },
      "execution_count": 19,
      "outputs": [
        {
          "output_type": "stream",
          "name": "stdout",
          "text": [
            "5\n",
            "[[1, 2, 3, 4, 5], [6, 7, 8, 9, 10], [11, 12, 13, 14, 15], [16, 17, 18, 19, 20], [21, 22, 23, 24, 25]]\n"
          ]
        }
      ]
    }
  ]
}