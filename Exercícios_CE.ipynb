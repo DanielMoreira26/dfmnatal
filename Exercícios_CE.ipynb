{
  "nbformat": 4,
  "nbformat_minor": 0,
  "metadata": {
    "colab": {
      "provenance": [],
      "authorship_tag": "ABX9TyO2eX9q5stw29uIgPk3CO2r",
      "include_colab_link": true
    },
    "kernelspec": {
      "name": "python3",
      "display_name": "Python 3"
    },
    "language_info": {
      "name": "python"
    }
  },
  "cells": [
    {
      "cell_type": "markdown",
      "metadata": {
        "id": "view-in-github",
        "colab_type": "text"
      },
      "source": [
        "<a href=\"https://colab.research.google.com/github/DanielMoreira26/dfmnatal/blob/main/Exerc%C3%ADcios_CE.ipynb\" target=\"_parent\"><img src=\"https://colab.research.google.com/assets/colab-badge.svg\" alt=\"Open In Colab\"/></a>"
      ]
    },
    {
      "cell_type": "code",
      "source": [
        "numero_1 = 5\n",
        "numero_2 = 2\n",
        "\n",
        "soma = numero_1 + numero_2\n",
        "subtracao = numero_1 - numero_2\n",
        "multiplicacao = numero_1 * numero_2\n",
        "divisao = numero_1 / numero_2\n",
        "divisao_inteira = numero_1 // numero_2\n",
        "modulo = numero_1 % numero_2\n",
        "exponenciacao = numero_1 ** numero_2\n",
        "\n",
        "print(soma) # 7\n",
        "print(subtracao) # 3\n",
        "print(multiplicacao)  # 10\n",
        "print(divisao) # 2.5\n",
        "print(divisao_inteira) # 2\n",
        "print(modulo)  # 1\n",
        "print(exponenciacao) # 25"
      ],
      "metadata": {
        "id": "pDubrHf16vHj",
        "outputId": "89445503-39d5-41e4-f4ca-0d18fb7cbd8a",
        "colab": {
          "base_uri": "https://localhost:8080/"
        }
      },
      "execution_count": 1,
      "outputs": [
        {
          "output_type": "stream",
          "name": "stdout",
          "text": [
            "7\n",
            "3\n",
            "10\n",
            "2.5\n",
            "2\n",
            "1\n",
            "25\n"
          ]
        }
      ]
    },
    {
      "cell_type": "code",
      "source": [
        "numero_1 = 2\n",
        "numero_2 = 4\n",
        "\n",
        "soma = numero_1 + numero_2\n",
        "\n",
        "if soma < 10:\n",
        "    print(\"soma não é maior que 10\")\n",
        "else:\n",
        "    print(\"soma é maior ou igual a 10\")"
      ],
      "metadata": {
        "id": "3HhBzDqqQcxl",
        "outputId": "64831d53-cd68-4ba1-97aa-8f6147c43360",
        "colab": {
          "base_uri": "https://localhost:8080/"
        }
      },
      "execution_count": 2,
      "outputs": [
        {
          "output_type": "stream",
          "name": "stdout",
          "text": [
            "soma não é maior que 10\n"
          ]
        }
      ]
    },
    {
      "cell_type": "code",
      "source": [
        "soma_1 = 7 + 8\n",
        "soma_2 = 10 + 5\n",
        "\n",
        "if soma_1 == soma_2:\n",
        "    print(\"Os resultados são iguais\")\n",
        "else:\n",
        "    print(\"Os resultados são diferentes\")"
      ],
      "metadata": {
        "id": "cmL20vnhQpXP",
        "outputId": "a74b4b0f-81e9-4a46-a3ee-5b90fdca9944",
        "colab": {
          "base_uri": "https://localhost:8080/"
        }
      },
      "execution_count": 3,
      "outputs": [
        {
          "output_type": "stream",
          "name": "stdout",
          "text": [
            "Os resultados são iguais\n"
          ]
        }
      ]
    },
    {
      "cell_type": "code",
      "source": [
        "idade_lucas = 21\n",
        "idade_carolina = 19\n",
        "\n",
        "# OPERADOR OR\n",
        "if idade_lucas >= 18 or idade_carolina >= 18:\n",
        "    print(\"Pelo menos um dos dois é maior de idade\")\n",
        "else:\n",
        "    print(\"Lucas e Carolina não são maiores de idade\")\n",
        "\n",
        "# OPERADOR AND\n",
        "if idade_lucas >= 18 and idade_carolina >= 18:\n",
        "    print(\"Lucas e Carolina são maiores de idade\")\n",
        "else:\n",
        "    print(\"Pelo menos um dos dois não é maior de idade\")"
      ],
      "metadata": {
        "id": "iviT6L29QyYj",
        "outputId": "0d479c61-49ac-46ab-d374-f9275983cc6c",
        "colab": {
          "base_uri": "https://localhost:8080/"
        }
      },
      "execution_count": 4,
      "outputs": [
        {
          "output_type": "stream",
          "name": "stdout",
          "text": [
            "Pelo menos um dos dois é maior de idade\n",
            "Lucas e Carolina são maiores de idade\n"
          ]
        }
      ]
    },
    {
      "cell_type": "code",
      "source": [
        "time_carlos = 'Botafogo'\n",
        "time_luciano = 'Flamengo'\n",
        "time_fabricia = 'Botafogo'\n",
        "\n",
        "if time_carlos is time_luciano:\n",
        "    print(\"time_carlos - time_luciano = mesmo objeto\")\n",
        "else:\n",
        "    print(\"time_carlos - time_luciano = objetos diferentes\")\n",
        "\n",
        "if time_carlos is time_fabricia:\n",
        "    print(\"time_carlos - time_fabricia = mesmo objeto\")\n",
        "else:\n",
        "    print(\"time_carlos - time_fabricia = objetos diferentes\")"
      ],
      "metadata": {
        "id": "YlWaMG14Q82a",
        "outputId": "6ed65229-6aa5-44ae-95b7-dfea37df8401",
        "colab": {
          "base_uri": "https://localhost:8080/"
        }
      },
      "execution_count": 5,
      "outputs": [
        {
          "output_type": "stream",
          "name": "stdout",
          "text": [
            "time_carlos - time_luciano = objetos diferentes\n",
            "time_carlos - time_fabricia = mesmo objeto\n"
          ]
        }
      ]
    },
    {
      "cell_type": "code",
      "source": [
        "frutas = [\"banana\",\"laranja\",\"uva\",\"ameixa\"]\n",
        "\n",
        "fruta_1 = \"ameixa\"\n",
        "fruta_2 = \"melancia\"\n",
        "\n",
        "print(fruta_1 in frutas) # True\n",
        "print(fruta_2 in frutas) # False"
      ],
      "metadata": {
        "id": "Vem3vroMRCRy",
        "outputId": "7383602a-47bf-444f-9baf-564d95c9d78a",
        "colab": {
          "base_uri": "https://localhost:8080/"
        }
      },
      "execution_count": 6,
      "outputs": [
        {
          "output_type": "stream",
          "name": "stdout",
          "text": [
            "True\n",
            "False\n"
          ]
        }
      ]
    }
  ]
}