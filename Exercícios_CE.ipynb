{
  "nbformat": 4,
  "nbformat_minor": 0,
  "metadata": {
    "colab": {
      "provenance": [],
      "authorship_tag": "ABX9TyOxk3BN7kkkWk0OmBL3pVeB",
      "include_colab_link": true
    },
    "kernelspec": {
      "name": "python3",
      "display_name": "Python 3"
    },
    "language_info": {
      "name": "python"
    }
  },
  "cells": [
    {
      "cell_type": "markdown",
      "metadata": {
        "id": "view-in-github",
        "colab_type": "text"
      },
      "source": [
        "<a href=\"https://colab.research.google.com/github/DanielMoreira26/dfmnatal/blob/main/Exerc%C3%ADcios_CE.ipynb\" target=\"_parent\"><img src=\"https://colab.research.google.com/assets/colab-badge.svg\" alt=\"Open In Colab\"/></a>"
      ]
    },
    {
      "cell_type": "markdown",
      "source": [
        "Introdução"
      ],
      "metadata": {
        "id": "LxMdOd_26mxC"
      }
    },
    {
      "cell_type": "code",
      "source": [
        "print('Hello, Wordl!')\n"
      ],
      "metadata": {
        "colab": {
          "base_uri": "https://localhost:8080/"
        },
        "id": "HjTDcbVO6Y6F",
        "outputId": "e4932a27-0504-41af-81d8-0f43e65019a9"
      },
      "execution_count": 4,
      "outputs": [
        {
          "output_type": "stream",
          "name": "stdout",
          "text": [
            "Hello, Wordl!\n"
          ]
        }
      ]
    },
    {
      "cell_type": "code",
      "execution_count": 5,
      "metadata": {
        "colab": {
          "base_uri": "https://localhost:8080/"
        },
        "id": "FIF2gEmT5td7",
        "outputId": "90f8e7de-f0cd-4831-da42-a5b7b8cd7bd7"
      },
      "outputs": [
        {
          "output_type": "stream",
          "name": "stdout",
          "text": [
            "Moreira DF\n"
          ]
        }
      ],
      "source": [
        "print('Moreira DF')\n"
      ]
    },
    {
      "cell_type": "code",
      "source": [
        "type('Moreira DF')\n"
      ],
      "metadata": {
        "colab": {
          "base_uri": "https://localhost:8080/"
        },
        "id": "i7Mkz1eZ6IzQ",
        "outputId": "530e582c-efa9-4b6f-e568-90bc33578826"
      },
      "execution_count": 2,
      "outputs": [
        {
          "output_type": "execute_result",
          "data": {
            "text/plain": [
              "str"
            ]
          },
          "metadata": {},
          "execution_count": 2
        }
      ]
    },
    {
      "cell_type": "code",
      "source": [],
      "metadata": {
        "id": "pDubrHf16vHj"
      },
      "execution_count": null,
      "outputs": []
    }
  ]
}