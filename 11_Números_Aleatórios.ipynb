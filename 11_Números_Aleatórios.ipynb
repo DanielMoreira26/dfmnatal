{
  "nbformat": 4,
  "nbformat_minor": 0,
  "metadata": {
    "colab": {
      "provenance": [],
      "authorship_tag": "ABX9TyM7SrM8GljoXY/heV1zmpkU",
      "include_colab_link": true
    },
    "kernelspec": {
      "name": "python3",
      "display_name": "Python 3"
    },
    "language_info": {
      "name": "python"
    }
  },
  "cells": [
    {
      "cell_type": "markdown",
      "metadata": {
        "id": "view-in-github",
        "colab_type": "text"
      },
      "source": [
        "<a href=\"https://colab.research.google.com/github/DanielMoreira26/dfmnatal/blob/main/11_N%C3%BAmeros_Aleat%C3%B3rios.ipynb\" target=\"_parent\"><img src=\"https://colab.research.google.com/assets/colab-badge.svg\" alt=\"Open In Colab\"/></a>"
      ]
    },
    {
      "cell_type": "code",
      "execution_count": 2,
      "metadata": {
        "colab": {
          "base_uri": "https://localhost:8080/"
        },
        "id": "BlJoqePCokMi",
        "outputId": "b178abd3-8157-44d6-f0e2-0ee3a34bfff0"
      },
      "outputs": [
        {
          "output_type": "stream",
          "name": "stdout",
          "text": [
            "2\n"
          ]
        }
      ],
      "source": [
        "import random\n",
        "\n",
        "print(random.randint(1, 10))\n"
      ]
    },
    {
      "cell_type": "code",
      "source": [
        "alunos = ['Daniel', 'João', 'Beatriz', 'Maria']\n",
        "random.choice(alunos)\n",
        "print(alunos)"
      ],
      "metadata": {
        "colab": {
          "base_uri": "https://localhost:8080/"
        },
        "id": "7vXDXkkjpVO3",
        "outputId": "420a30d0-a781-40f3-8388-e88ed382b0f5"
      },
      "execution_count": 3,
      "outputs": [
        {
          "output_type": "stream",
          "name": "stdout",
          "text": [
            "['Daniel', 'João', 'Beatriz', 'Maria']\n"
          ]
        }
      ]
    },
    {
      "cell_type": "code",
      "source": [
        "alunos = ['Daniel', 'João', 'Beatriz', 'Maria']\n",
        "print(alunos)\n",
        "random.shuffle(alunos)\n",
        "print(alunos)"
      ],
      "metadata": {
        "colab": {
          "base_uri": "https://localhost:8080/"
        },
        "id": "UDxdHcsZqP3p",
        "outputId": "23ec42b2-b578-4b4f-bbca-09b92acc817a"
      },
      "execution_count": 5,
      "outputs": [
        {
          "output_type": "stream",
          "name": "stdout",
          "text": [
            "['Daniel', 'João', 'Beatriz', 'Maria']\n",
            "['Maria', 'João', 'Beatriz', 'Daniel']\n"
          ]
        }
      ]
    },
    {
      "cell_type": "markdown",
      "source": [
        "Função para embaralhar letras de uma palavra"
      ],
      "metadata": {
        "id": "DFGEV3EqqkNa"
      }
    },
    {
      "cell_type": "code",
      "source": [
        "def embaralha(palavra):\n",
        "  lista = list(palavra)\n",
        "  random.shuffle(lista)\n",
        "  return ''.join(lista)\n",
        "\n",
        "palavra = embaralha('programacao')\n",
        "print(palavra)"
      ],
      "metadata": {
        "colab": {
          "base_uri": "https://localhost:8080/"
        },
        "id": "YMOzFpR-sLh1",
        "outputId": "0d953718-d766-4453-f69d-5af69770e413"
      },
      "execution_count": 10,
      "outputs": [
        {
          "output_type": "stream",
          "name": "stdout",
          "text": [
            "amagraopcor\n"
          ]
        }
      ]
    },
    {
      "cell_type": "code",
      "source": [
        "def criptografia(msg):\n",
        "  s = ''\n",
        "  for c in msg:\n",
        "      s += chr(ord(c)+1536)\n",
        "  return s\n",
        "\n",
        "mensagem = \" a turma de info é pequena\"\n",
        "msg_criptografada = criptografia(mensagem)\n",
        "print(msg_criptografada)\n"
      ],
      "metadata": {
        "colab": {
          "base_uri": "https://localhost:8080/"
        },
        "id": "JESx7xbAuZiV",
        "outputId": "572a574c-19e8-47d8-993e-225febfba09a"
      },
      "execution_count": 15,
      "outputs": [
        {
          "output_type": "stream",
          "name": "stdout",
          "text": [
            "ؠ١ؠٴٵٲ٭١ؠ٤٥ؠ٩ٮ٦ٯؠ۩ؠٰ٥ٱٵ٥ٮ١\n"
          ]
        }
      ]
    },
    {
      "cell_type": "code",
      "source": [],
      "metadata": {
        "id": "wyg5bxzB0_fR"
      },
      "execution_count": null,
      "outputs": []
    }
  ]
}