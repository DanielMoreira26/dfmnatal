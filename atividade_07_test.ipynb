{
  "nbformat": 4,
  "nbformat_minor": 0,
  "metadata": {
    "colab": {
      "provenance": [],
      "authorship_tag": "ABX9TyO2x+moZXlRIrFJfRUNuF5k",
      "include_colab_link": true
    },
    "kernelspec": {
      "name": "python3",
      "display_name": "Python 3"
    },
    "language_info": {
      "name": "python"
    }
  },
  "cells": [
    {
      "cell_type": "markdown",
      "metadata": {
        "id": "view-in-github",
        "colab_type": "text"
      },
      "source": [
        "<a href=\"https://colab.research.google.com/github/DanielMoreira26/dfmnatal/blob/main/atividade_07_test.ipynb\" target=\"_parent\"><img src=\"https://colab.research.google.com/assets/colab-badge.svg\" alt=\"Open In Colab\"/></a>"
      ]
    },
    {
      "cell_type": "code",
      "execution_count": null,
      "metadata": {
        "id": "N-EczJCObNtw"
      },
      "outputs": [],
      "source": [
        "import unittest\n",
        "\n",
        "from Atividade_07 import produto_escalar\n",
        "from Atividade_07 import soma_diagonal\n",
        "\n",
        "class TestProdutoEscalar(unittest.TestCase):\n",
        "    def test_produto_escalar(self):\n",
        "        self.assertEqual(produto_escalar([1, 2, 3], [4, 5, 6]), 32)\n",
        "        self.assertEqual(produto_escalar([0, 0, 0], [1, 2, 3]), 0)\n",
        "        self.assertEqual(produto_escalar([1, 1, 1], [1, 1, 1]), 3)\n",
        "        self.assertEqual(produto_escalar([2, 4, 6], [3, 6, 9]), 84)\n",
        "\n",
        "\n",
        "class TestSomaDiagonal(unittest.TestCase):\n",
        "    def test_soma_diagonal(self):\n",
        "        self.assertEqual(soma_diagonal([[1, 2, 3], [4, 5, 6], [7, 8, 9]]), 15)\n",
        "        self.assertEqual(soma_diagonal([[5, 2], [3, 6]]), 11)\n",
        "        self.assertEqual(soma_diagonal([[1]]), 1)\n",
        "        self.assertEqual(soma_diagonal([[0, 1], [1, 0]]), 0)\n",
        "\n",
        "\n",
        "if __name__ == '__main__':\n",
        "    unittest.main()"
      ]
    }
  ]
}