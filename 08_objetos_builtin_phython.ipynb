{
  "nbformat": 4,
  "nbformat_minor": 0,
  "metadata": {
    "colab": {
      "provenance": [],
      "authorship_tag": "ABX9TyMBCYigHF2M2Zs0H4Ts8/VQ",
      "include_colab_link": true
    },
    "kernelspec": {
      "name": "python3",
      "display_name": "Python 3"
    },
    "language_info": {
      "name": "python"
    }
  },
  "cells": [
    {
      "cell_type": "markdown",
      "metadata": {
        "id": "view-in-github",
        "colab_type": "text"
      },
      "source": [
        "<a href=\"https://colab.research.google.com/github/DanielMoreira26/dfmnatal/blob/main/08_objetos_builtin_phython.ipynb\" target=\"_parent\"><img src=\"https://colab.research.google.com/assets/colab-badge.svg\" alt=\"Open In Colab\"/></a>"
      ]
    },
    {
      "cell_type": "code",
      "execution_count": 1,
      "metadata": {
        "colab": {
          "base_uri": "https://localhost:8080/"
        },
        "id": "fy1-U5cQz3dV",
        "outputId": "a3fc78af-65b2-404f-b800-bc4cdbcfce82"
      },
      "outputs": [
        {
          "output_type": "stream",
          "name": "stdout",
          "text": [
            "4\n",
            "<class 'str'>\n",
            "['__add__', '__class__', '__contains__', '__delattr__', '__dir__', '__doc__', '__eq__', '__format__', '__ge__', '__getattribute__', '__getitem__', '__getnewargs__', '__gt__', '__hash__', '__init__', '__init_subclass__', '__iter__', '__le__', '__len__', '__lt__', '__mod__', '__mul__', '__ne__', '__new__', '__reduce__', '__reduce_ex__', '__repr__', '__rmod__', '__rmul__', '__setattr__', '__sizeof__', '__str__', '__subclasshook__', 'capitalize', 'casefold', 'center', 'count', 'encode', 'endswith', 'expandtabs', 'find', 'format', 'format_map', 'index', 'isalnum', 'isalpha', 'isascii', 'isdecimal', 'isdigit', 'isidentifier', 'islower', 'isnumeric', 'isprintable', 'isspace', 'istitle', 'isupper', 'join', 'ljust', 'lower', 'lstrip', 'maketrans', 'partition', 'removeprefix', 'removesuffix', 'replace', 'rfind', 'rindex', 'rjust', 'rpartition', 'rsplit', 'rstrip', 'split', 'splitlines', 'startswith', 'strip', 'swapcase', 'title', 'translate', 'upper', 'zfill']\n",
            "False\n",
            "True\n",
            "False\n",
            "True\n"
          ]
        }
      ],
      "source": [
        "#Exemplo de uso de objetos built-in do Python\n",
        "s = 'spam'\n",
        "\n",
        "#tamanho de s\n",
        "print(len(s))\n",
        "\n",
        "#Tipo de classe de\n",
        "print(type(s))\n",
        "\n",
        "#atributos de objeto disponíveis para s\n",
        "print(dir(s))\n",
        "\n",
        "#testando o atributo isnumeric\n",
        "print(s.isnumeric())\n",
        "print(s.isascii())\n",
        "print(s.isdecimal())\n",
        "print(s.isprintable())"
      ]
    },
    {
      "cell_type": "code",
      "source": [
        "print(s[0])\n",
        "print(s[1:3])\n",
        "#três primeiros caracteres\n",
        "print(s[:3])\n",
        "print(s[:2])\n",
        "\n",
        "#adicionar o sufixo xpy\n",
        "(print(s + 'xyz'))\n",
        "\n",
        "#buscar o trecho pa\n",
        "print(s.find('pa'))\n",
        "\n",
        "#colocar em maiúscula\n",
        "print(s.upper())\n",
        "\n",
        "#colocar em minúsculas\n",
        "print(s.lower())\n",
        "\n",
        "#substituir um trecho, exemplo, pa por ma\n",
        "print(s.replace('pa','ma'))\n",
        "#para substitutir permanentemente, teria que acontecer\n",
        "#uma operação de atribuição\n",
        "#s = s.replace('pa','ma')\n",
        "print(s)\n",
        ""
      ],
      "metadata": {
        "colab": {
          "base_uri": "https://localhost:8080/"
        },
        "id": "8zAZZymS9H_R",
        "outputId": "bd273d0e-6b19-4b1f-e49f-dbe8d7b6d43b"
      },
      "execution_count": 14,
      "outputs": [
        {
          "output_type": "stream",
          "name": "stdout",
          "text": [
            "s\n",
            "pa\n",
            "spa\n",
            "sp\n",
            "spamxyz\n",
            "1\n",
            "SPAM\n",
            "spam\n",
            "smam\n",
            "spam\n"
          ]
        }
      ]
    },
    {
      "cell_type": "code",
      "source": [
        "l = [123, 'casa' , 3.14]\n",
        "print(type(l))\n",
        "print(dir(l))"
      ],
      "metadata": {
        "colab": {
          "base_uri": "https://localhost:8080/"
        },
        "id": "XxJHfAQh_5g5",
        "outputId": "b92b45c8-5def-4e79-f5ed-01ed2e71b0a5"
      },
      "execution_count": 16,
      "outputs": [
        {
          "output_type": "stream",
          "name": "stdout",
          "text": [
            "<class 'list'>\n",
            "['__add__', '__class__', '__class_getitem__', '__contains__', '__delattr__', '__delitem__', '__dir__', '__doc__', '__eq__', '__format__', '__ge__', '__getattribute__', '__getitem__', '__gt__', '__hash__', '__iadd__', '__imul__', '__init__', '__init_subclass__', '__iter__', '__le__', '__len__', '__lt__', '__mul__', '__ne__', '__new__', '__reduce__', '__reduce_ex__', '__repr__', '__reversed__', '__rmul__', '__setattr__', '__setitem__', '__sizeof__', '__str__', '__subclasshook__', 'append', 'clear', 'copy', 'count', 'extend', 'index', 'insert', 'pop', 'remove', 'reverse', 'sort']\n"
          ]
        }
      ]
    },
    {
      "cell_type": "code",
      "source": [
        "print(len(l))"
      ],
      "metadata": {
        "colab": {
          "base_uri": "https://localhost:8080/"
        },
        "id": "fSEJcVe4AjL7",
        "outputId": "a987b33c-78a1-42b6-b13d-bed895ac9bf2"
      },
      "execution_count": 17,
      "outputs": [
        {
          "output_type": "stream",
          "name": "stdout",
          "text": [
            "3\n"
          ]
        }
      ]
    }
  ]
}