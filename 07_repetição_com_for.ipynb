{
  "nbformat": 4,
  "nbformat_minor": 0,
  "metadata": {
    "colab": {
      "provenance": [],
      "authorship_tag": "ABX9TyMfcuphhKFyvQ8OF9B70VTR",
      "include_colab_link": true
    },
    "kernelspec": {
      "name": "python3",
      "display_name": "Python 3"
    },
    "language_info": {
      "name": "python"
    }
  },
  "cells": [
    {
      "cell_type": "markdown",
      "metadata": {
        "id": "view-in-github",
        "colab_type": "text"
      },
      "source": [
        "<a href=\"https://colab.research.google.com/github/DanielMoreira26/dfmnatal/blob/main/07_repeti%C3%A7%C3%A3o_com_for.ipynb\" target=\"_parent\"><img src=\"https://colab.research.google.com/assets/colab-badge.svg\" alt=\"Open In Colab\"/></a>"
      ]
    },
    {
      "cell_type": "code",
      "execution_count": 7,
      "metadata": {
        "colab": {
          "base_uri": "https://localhost:8080/"
        },
        "id": "OQq54NpsgSnv",
        "outputId": "5d1a2044-1270-4771-897e-5ca85c98d300"
      },
      "outputs": [
        {
          "output_type": "stream",
          "name": "stdout",
          "text": [
            "1: spam\n",
            "2: eggs\n",
            "3: bacon\n"
          ]
        }
      ],
      "source": [
        "contador = 0\n",
        "for x in ['spam', 'eggs', 'bacon']:\n",
        "  contador += 1\n",
        "  print(f\"{contador}: {x}\")\n",
        ""
      ]
    },
    {
      "cell_type": "code",
      "source": [
        "contador = 0\n",
        "for x in ['spam', 'eggs', 'bacon']:\n",
        "\n",
        "  print(f\"{contador}: {x}\")\n",
        "  contador += 1"
      ],
      "metadata": {
        "colab": {
          "base_uri": "https://localhost:8080/"
        },
        "id": "FfZxIrOvi3tP",
        "outputId": "381cd42a-90c2-49c4-8327-c72e348d06b4"
      },
      "execution_count": 8,
      "outputs": [
        {
          "output_type": "stream",
          "name": "stdout",
          "text": [
            "0: spam\n",
            "1: eggs\n",
            "2: bacon\n"
          ]
        }
      ]
    },
    {
      "cell_type": "code",
      "source": [
        "T = [(1,2), (3,4), (5,6)]\n",
        "for (a,b)in T:\n",
        "  print(a,\"e\",b)"
      ],
      "metadata": {
        "colab": {
          "base_uri": "https://localhost:8080/"
        },
        "id": "ztRRCaO2jzN1",
        "outputId": "dcede68a-4a4f-4a78-d911-0ec5031f713c"
      },
      "execution_count": 12,
      "outputs": [
        {
          "output_type": "stream",
          "name": "stdout",
          "text": [
            "1 e 2\n",
            "3 e 4\n",
            "5 e 6\n"
          ]
        }
      ]
    },
    {
      "cell_type": "code",
      "source": [
        "#Dicionário em Python\n",
        "D = {'a': 1, 'b': 2, 'c':3}\n",
        "for chave in D:\n",
        "  print(chave,\"=>\" ,D[chave])"
      ],
      "metadata": {
        "colab": {
          "base_uri": "https://localhost:8080/"
        },
        "id": "Gcy3Dzqzkrlp",
        "outputId": "7d5b227b-dea6-48fe-8ac0-bf197bf7cba7"
      },
      "execution_count": 15,
      "outputs": [
        {
          "output_type": "stream",
          "name": "stdout",
          "text": [
            "a => 1\n",
            "b => 2\n",
            "c => 3\n"
          ]
        }
      ]
    },
    {
      "cell_type": "code",
      "source": [
        "list (range(10))"
      ],
      "metadata": {
        "colab": {
          "base_uri": "https://localhost:8080/"
        },
        "id": "UX49ddzcmKX4",
        "outputId": "e4af76f0-64f7-4410-d692-50d0ffb3e0dc"
      },
      "execution_count": 17,
      "outputs": [
        {
          "output_type": "execute_result",
          "data": {
            "text/plain": [
              "[0, 1, 2, 3, 4, 5, 6, 7, 8, 9]"
            ]
          },
          "metadata": {},
          "execution_count": 17
        }
      ]
    },
    {
      "cell_type": "code",
      "source": [
        "for i in range(3):\n",
        "  print(i, \"pythons\")"
      ],
      "metadata": {
        "colab": {
          "base_uri": "https://localhost:8080/"
        },
        "id": "c9NpuPJUnJNe",
        "outputId": "3385f1ab-c5de-41c6-ea3c-241b05809274"
      },
      "execution_count": 19,
      "outputs": [
        {
          "output_type": "stream",
          "name": "stdout",
          "text": [
            "0 pythons\n",
            "1 pythons\n",
            "2 pythons\n"
          ]
        }
      ]
    },
    {
      "cell_type": "markdown",
      "source": [
        "Uso do Range"
      ],
      "metadata": {
        "id": "d5bKl-QPqoPh"
      }
    },
    {
      "cell_type": "code",
      "source": [
        "s = 'DanielMoreira'\n",
        "print(\"Tamanho da palavras\", len(s))\n",
        "for i in range(len(s)):\n",
        "  print(i, s[i], sep='-',end=' ')"
      ],
      "metadata": {
        "colab": {
          "base_uri": "https://localhost:8080/"
        },
        "id": "_qmRys0rnlM3",
        "outputId": "94cbceb8-a53b-458d-f463-2defcb2b95a4"
      },
      "execution_count": 26,
      "outputs": [
        {
          "output_type": "stream",
          "name": "stdout",
          "text": [
            "Tamanho da palavras 13\n",
            "0-D 1-a 2-n 3-i 4-e 5-l 6-M 7-o 8-r 9-e 10-i 11-r 12-a "
          ]
        }
      ]
    },
    {
      "cell_type": "markdown",
      "source": [
        "Uso do Zip"
      ],
      "metadata": {
        "id": "lumAWulQq8qw"
      }
    },
    {
      "cell_type": "code",
      "source": [
        "L1 = ['a','b','c','d']\n",
        "L2 = [1,2,3,4]\n",
        "print(list(L1))\n",
        "print(list(L2))\n",
        "compactado = zip(L1,L2)\n",
        "print(list(compactado))\n",
        "print(type(compactado)) #qual o tipo de classe ?\n",
        "print(type(list(zip(L1,L2))))\n",
        "for (x,y) in list(zip(L1,L2)):\n",
        "  print(x,\"-\",y)"
      ],
      "metadata": {
        "colab": {
          "base_uri": "https://localhost:8080/"
        },
        "id": "ZcSxaj-Nq-vp",
        "outputId": "8d279ea6-45fb-498d-b938-063c8eb25579"
      },
      "execution_count": 30,
      "outputs": [
        {
          "output_type": "stream",
          "name": "stdout",
          "text": [
            "['a', 'b', 'c', 'd']\n",
            "[1, 2, 3, 4]\n",
            "[('a', 1), ('b', 2), ('c', 3), ('d', 4)]\n",
            "<class 'zip'>\n",
            "<class 'list'>\n",
            "a - 1\n",
            "b - 2\n",
            "c - 3\n",
            "d - 4\n"
          ]
        }
      ]
    }
  ]
}