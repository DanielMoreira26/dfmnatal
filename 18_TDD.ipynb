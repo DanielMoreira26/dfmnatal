{
  "nbformat": 4,
  "nbformat_minor": 0,
  "metadata": {
    "colab": {
      "provenance": [],
      "authorship_tag": "ABX9TyNnlM9X1lOaf7+7bgHtMHZI",
      "include_colab_link": true
    },
    "kernelspec": {
      "name": "python3",
      "display_name": "Python 3"
    },
    "language_info": {
      "name": "python"
    }
  },
  "cells": [
    {
      "cell_type": "markdown",
      "metadata": {
        "id": "view-in-github",
        "colab_type": "text"
      },
      "source": [
        "<a href=\"https://colab.research.google.com/github/DanielMoreira26/dfmnatal/blob/main/18_TDD.ipynb\" target=\"_parent\"><img src=\"https://colab.research.google.com/assets/colab-badge.svg\" alt=\"Open In Colab\"/></a>"
      ]
    },
    {
      "cell_type": "code",
      "execution_count": 5,
      "metadata": {
        "id": "3r0UAxU3lnXw",
        "outputId": "a65de35c-7a03-4c1f-ba83-e3f9bf73655f",
        "colab": {
          "base_uri": "https://localhost:8080/"
        }
      },
      "outputs": [
        {
          "output_type": "stream",
          "name": "stdout",
          "text": [
            "[15, 73, 5, 16, 41, 12, 34, 75, 52, 60, 51, 87, 66, 95, 5, 89, 96, 80, 59, 23, 33, 100, 87, 41, 65, 98, 65, 40]\n",
            "[95, 70, 63, 20, 43, 100, 12, 51, 32, 86, 41, 44, 35, 79, 37, 40, 26, 56, 91, 61, 78, 34, 96, 15, 3, 21, 60, 97]\n"
          ]
        }
      ],
      "source": [
        "#TDD - o Test_Drivem Development(TDD), ou desenvolvimento Orientado a Testes,\n",
        "#é uma metodologia de desenvolvimento de sotware que enfatiza a criação e\n",
        "#execução de testes antes mesmo do desenvolvimento do código\n",
        "\n",
        "#Programa para avaliar a saída de uma função dado uma entrada\n",
        "import random\n",
        "\n",
        "#Esqueleto de uma função para gerar uma lista de números aleatórios, entre 1 e 100\n",
        "def gerar_lista_aleatoria():\n",
        "  lista = []\n",
        "  for i in range(28):\n",
        "    lista.append(random.randint(1,100))\n",
        "  return lista\n",
        "print(gerar_lista_aleatoria())\n",
        "  #pass\n",
        "  #return [random.randint(1, 100) for _ in range(28)] #codigo simplficado, com Python - List Comprehension\n",
        "\n",
        "#Esqueleto de uma função para gerar uma lista de 28 números aleatórios distintos entre 1 e 100\n",
        "def gerar_lista_aleatoria_distinta():\n",
        "  lista = random.sample(range(1,101), 28)\n",
        "  return lista\n",
        "print(gerar_lista_aleatoria_distinta())\n",
        "\n",
        "  #pass\n",
        "  #return random.sample(range(1, 101), 28)\n",
        "\n",
        "#Esqueleto de uma uma função para embaralhar a lista\n",
        "#def embaralhar_lista():\n",
        "  #pass\n"
      ]
    }
  ]
}