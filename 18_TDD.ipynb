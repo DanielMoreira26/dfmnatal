{
  "nbformat": 4,
  "nbformat_minor": 0,
  "metadata": {
    "colab": {
      "provenance": [],
      "authorship_tag": "ABX9TyNT8tUB/93+tonWdufbXJ63",
      "include_colab_link": true
    },
    "kernelspec": {
      "name": "python3",
      "display_name": "Python 3"
    },
    "language_info": {
      "name": "python"
    }
  },
  "cells": [
    {
      "cell_type": "markdown",
      "metadata": {
        "id": "view-in-github",
        "colab_type": "text"
      },
      "source": [
        "<a href=\"https://colab.research.google.com/github/DanielMoreira26/dfmnatal/blob/main/18_TDD.ipynb\" target=\"_parent\"><img src=\"https://colab.research.google.com/assets/colab-badge.svg\" alt=\"Open In Colab\"/></a>"
      ]
    },
    {
      "cell_type": "code",
      "execution_count": 2,
      "metadata": {
        "id": "3r0UAxU3lnXw",
        "outputId": "c609c192-e434-4416-aafa-4d441d06f020",
        "colab": {
          "base_uri": "https://localhost:8080/"
        }
      },
      "outputs": [
        {
          "output_type": "stream",
          "name": "stdout",
          "text": [
            "[57, 14, 97, 36, 34, 7, 10, 8, 76, 61, 82, 12, 5, 39, 15, 18, 98, 72, 97, 60, 10, 19, 94, 48, 76, 80, 95, 8]\n",
            "[85, 69, 86, 48, 1, 33, 52, 61, 44, 25, 39, 93, 62, 84, 26, 76, 4, 57, 10, 56, 73, 78, 77, 90, 51, 54, 45, 67]\n",
            "[63, 84, 67, 75, 15, 35, 19, 51, 61, 6, 94, 97, 46, 76, 99, 97, 16, 89, 94, 46, 18, 36, 6, 98, 93, 81, 76, 79]\n"
          ]
        }
      ],
      "source": [
        "#TDD - o Test_Drivem Development(TDD), ou desenvolvimento Orientado a Testes,\n",
        "#é uma metodologia de desenvolvimento de sotware que enfatiza a criação e\n",
        "#execução de testes antes mesmo do desenvolvimento do código\n",
        "\n",
        "#Programa para avaliar a saída de uma função dado uma entrada\n",
        "import random\n",
        "\n",
        "#Esqueleto de uma função para gerar uma lista de números aleatórios, entre 1 e 100\n",
        "def gerar_lista_aleatoria():\n",
        "  lista = []\n",
        "  for i in range(28):\n",
        "    lista.append(random.randint(1,100))\n",
        "  return lista\n",
        "print(gerar_lista_aleatoria())\n",
        "  #pass\n",
        "  #return [random.randint(1, 100) for _ in range(28)] #codigo simplficado, com Python - List Comprehension\n",
        "\n",
        "#Esqueleto de uma função para gerar uma lista de 28 números aleatórios distintos entre 1 e 100\n",
        "def gerar_lista_aleatoria_distintos():\n",
        "    lista = random.sample(range(1,101), 28)\n",
        "    return lista\n",
        "print(gerar_lista_aleatoria_distintos())\n",
        "  #pass\n",
        "  #return random.sample(range(1, 101), 28)\n",
        "\n",
        "#Esqueleto de uma uma função para embaralhar a lista\n",
        "def embaralhar_lista(lista): #lembrar que os alunos nao colocaram esse argumento, na escrita original\n",
        "  random.shuffle(lista)\n",
        "  return lista\n",
        "print(embaralhar_lista(gerar_lista_aleatoria()))\n",
        "#def embaralhar_lista():\n",
        "  #pass\n"
      ]
    }
  ]
}