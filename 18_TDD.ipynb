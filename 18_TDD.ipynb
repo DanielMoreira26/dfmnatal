{
  "nbformat": 4,
  "nbformat_minor": 0,
  "metadata": {
    "colab": {
      "provenance": [],
      "authorship_tag": "ABX9TyPqSVEfNF4x86KO5UlGwH+L",
      "include_colab_link": true
    },
    "kernelspec": {
      "name": "python3",
      "display_name": "Python 3"
    },
    "language_info": {
      "name": "python"
    }
  },
  "cells": [
    {
      "cell_type": "markdown",
      "metadata": {
        "id": "view-in-github",
        "colab_type": "text"
      },
      "source": [
        "<a href=\"https://colab.research.google.com/github/DanielMoreira26/dfmnatal/blob/main/18_TDD.ipynb\" target=\"_parent\"><img src=\"https://colab.research.google.com/assets/colab-badge.svg\" alt=\"Open In Colab\"/></a>"
      ]
    },
    {
      "cell_type": "code",
      "execution_count": 4,
      "metadata": {
        "id": "3r0UAxU3lnXw",
        "outputId": "735b8ecc-b844-433c-83f9-bcc1b8582aa2",
        "colab": {
          "base_uri": "https://localhost:8080/"
        }
      },
      "outputs": [
        {
          "output_type": "stream",
          "name": "stdout",
          "text": [
            "[3, 74, 40, 4, 94, 51, 56, 30, 48, 40, 19, 21, 51, 86, 47, 29, 10, 48, 18, 14, 33, 24, 50, 44, 26, 5, 87, 3]\n"
          ]
        }
      ],
      "source": [
        "#TDD - o Test_Drivem Development(TDD), ou desenvolvimento Orientado a Testes,\n",
        "#é uma metodologia de desenvolvimento de sotware que enfatiza a criação e\n",
        "#execução de testes antes mesmo do desenvolvimento do código\n",
        "#Programa para avaliar a saída de uma função dado uma entrada\n",
        "import random\n",
        "\n",
        "#Esqueleto de uma função para gerar uma lista de números aleatórios, entre 1 e 100\n",
        "def gerar_lista_aleatoria():\n",
        "  lista = []\n",
        "  for i in range(28):\n",
        "    lista.append(random.randint(1,100))\n",
        "  return lista\n",
        "print(gerar_lista_aleatoria())\n",
        "  #pass\n",
        "  #return [random.randint(1, 100) for _ in range(28)] #codigo simplficado, com Python - List Comprehension\n",
        "\n",
        "#Esqueleto de uma função para gerar uma lista de 28 números aleatórios distintos entre 1 e 100\n",
        "#def gerar_lista_aleatoria_distinta():\n",
        "  #pass\n",
        "\n",
        "#Esqueleto de uma uma função para embaralhar a lista\n",
        "#def embaralhar_lista():\n",
        "  #pass\n"
      ]
    }
  ]
}