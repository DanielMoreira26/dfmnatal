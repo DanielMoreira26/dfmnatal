{
  "nbformat": 4,
  "nbformat_minor": 0,
  "metadata": {
    "colab": {
      "provenance": [],
      "authorship_tag": "ABX9TyMLu0mgKDqdmSzgb3fDlGJx",
      "include_colab_link": true
    },
    "kernelspec": {
      "name": "python3",
      "display_name": "Python 3"
    },
    "language_info": {
      "name": "python"
    }
  },
  "cells": [
    {
      "cell_type": "markdown",
      "metadata": {
        "id": "view-in-github",
        "colab_type": "text"
      },
      "source": [
        "<a href=\"https://colab.research.google.com/github/DanielMoreira26/dfmnatal/blob/main/12_Criptografia.ipynb\" target=\"_parent\"><img src=\"https://colab.research.google.com/assets/colab-badge.svg\" alt=\"Open In Colab\"/></a>"
      ]
    },
    {
      "cell_type": "code",
      "execution_count": 11,
      "metadata": {
        "colab": {
          "base_uri": "https://localhost:8080/"
        },
        "id": "e_jVjAqdTRaG",
        "outputId": "30901304-164a-4205-c54c-c182d7711888"
      },
      "outputs": [
        {
          "output_type": "stream",
          "name": "stdout",
          "text": [
            "Digite a mensagem a ser criptografada: temos um segredo\n",
            "Mensagem criptografada: ٴ٥٭ٯٳؠٵ٭ؠٳ٥٧ٲ٥٤ٯ\n",
            "Mensagem descriptografada: ٴ٥٭ٯٳؠٵ٭ؠٳ٥٧ٲ٥٤ٯ\n"
          ]
        }
      ],
      "source": [
        "#Criptografia\n",
        "def criptografar(msg):\n",
        "  s = ''\n",
        "  #Cifra de César\n",
        "  for i in mensagem:\n",
        "    s += chr(ord(i)+1536)\n",
        "  return s\n",
        "\n",
        "def descriptografar(msg):\n",
        "  s = ''\n",
        "  for i in mensagem:\n",
        "    s += chr(ord(i)+1536)\n",
        "  return s\n",
        "\n",
        "mensagem = input(\"Digite a mensagem a ser criptografada: \")\n",
        "mensagem_criptografada = criptografar(mensagem)\n",
        "print(\"Mensagem criptografada:\", mensagem_criptografada)\n",
        "\n",
        "mensagem_descriptografada = descriptografar(mensagem_criptografada)\n",
        "print(\"Mensagem descriptografada:\", mensagem_descriptografada)"
      ]
    },
    {
      "cell_type": "markdown",
      "source": [
        "Versão professor"
      ],
      "metadata": {
        "id": "tqVKqzt-dP__"
      }
    },
    {
      "cell_type": "code",
      "source": [
        "#Criptografia\n",
        "def criptografa(msg):\n",
        "  s = \"\"\n",
        "  #Cifra de césar (adaptada)\n",
        "  for i in msg:\n",
        "    s += chr(ord(i)+1536)\n",
        "  return s\n",
        "\n",
        "\n",
        "def descriptografar(msg):\n",
        "  s = \"\"\n",
        "  for i in msg:\n",
        "    s += chr(ord(i)-1536)\n",
        "  return s\n",
        "\n",
        "mensagem = input(\"Digite a mensagem para criptografar:\")\n",
        "mensagem_criptografada = criptografa(mensagem)\n",
        "print(\"Mensagem criptografada:\", mensagem_criptografada)\n",
        "\n",
        "mensagem_descriptografada = descriptografar(mensagem_criptografada)\n",
        "print(\"Mensagem descriptografada:\", mensagem_descriptografada)"
      ],
      "metadata": {
        "colab": {
          "base_uri": "https://localhost:8080/"
        },
        "id": "17byw41QdOV4",
        "outputId": "95a288a0-cfda-4fea-e7cc-2181e094041c"
      },
      "execution_count": 12,
      "outputs": [
        {
          "output_type": "stream",
          "name": "stdout",
          "text": [
            "Digite a mensagem para criptografar:temos um segredo\n",
            "Mensagem criptografada: ٴ٥٭ٯٳؠٵ٭ؠٳ٥٧ٲ٥٤ٯ\n",
            "Mensagem descriptografada: temos um segredo\n"
          ]
        }
      ]
    }
  ]
}