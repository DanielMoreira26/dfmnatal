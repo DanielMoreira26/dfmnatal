{
  "nbformat": 4,
  "nbformat_minor": 0,
  "metadata": {
    "colab": {
      "provenance": [],
      "authorship_tag": "ABX9TyPu4OOs1KKxwxvEHyThxLr3",
      "include_colab_link": true
    },
    "kernelspec": {
      "name": "python3",
      "display_name": "Python 3"
    },
    "language_info": {
      "name": "python"
    }
  },
  "cells": [
    {
      "cell_type": "markdown",
      "metadata": {
        "id": "view-in-github",
        "colab_type": "text"
      },
      "source": [
        "<a href=\"https://colab.research.google.com/github/DanielMoreira26/dfmnatal/blob/main/Semin%C3%A1rio_de_Algoritmo_Sobre_Tratamento_de_%C3%81guas.ipynb\" target=\"_parent\"><img src=\"https://colab.research.google.com/assets/colab-badge.svg\" alt=\"Open In Colab\"/></a>"
      ]
    },
    {
      "cell_type": "code",
      "execution_count": null,
      "metadata": {
        "id": "cJmM6lHZdTO7"
      },
      "outputs": [],
      "source": [
        "#Análise dos parâmetros da qualidade da água em Natal/RN - fevereiro de 2023.\n",
        "Padrões de potabilidade = {\n",
        "'cloro residual': (0.2, 2.0), # mg/L\n",
        "'pH': (6.5, 8.5), # unidade\n",
        "'turbidez': (5.0, NTU), # NTU\n",
        "'cor aparente': (15, UH), # UH\n",
        "'coliformes totais': (0, 0), # UFC/100mL\n",
        "'escherichia coli': (0, 0), # UFC/100mL\n",
        "}\n",
        "\n",
        "amostras cloro\n",
        "leste('56a e 16r')\n",
        "\n",
        "oeste('42a e 10r')\n",
        "\n",
        "norte1('32a e 5r')\n",
        "\n",
        "norte2('26a e 8r')\n",
        "\n",
        "sul('80a e 25r')\n",
        "\n",
        "\n",
        "amostras pH\n",
        "leste('56a e 26r')\n",
        "oeste('42a e 19r')\n",
        "norte1('32a e 9r')\n",
        "norte2('26a e 5r')\n",
        "sul('80a e 40r')\n",
        "\n",
        "amostras turbidez\n",
        "leste('56a e 4r')\n",
        "oeste('42a e 5r')\n",
        "norte1('32a e 3r')\n",
        "norte2('26a e 7r')\n",
        "sul('80a e 15r')\n",
        "\n",
        "amostras cor aparente\n",
        "leste('56a e 3r')\n",
        "oeste('42a e 1r')\n",
        "norte1('32a e 5r')\n",
        "norte2('26a e 11r')\n",
        "sul('80a e 1r')\n",
        "\n",
        "amostras coliformes totais\n",
        "leste('56a e 7r')\n",
        "oeste('42a e 2r')\n",
        "norte1('32a e 6a')\n",
        "norte2('26a e 13r')\n",
        "sul('80a e 4r')\n",
        "\n",
        "amostras e. coli\n",
        "leste('56a')\n",
        "oeste('42a e 1r')\n",
        "norte1('32a')\n",
        "norte2('26a')\n",
        "sul('80a')"
      ]
    }
  ]
}