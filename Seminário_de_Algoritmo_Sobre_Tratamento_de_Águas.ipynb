{
  "nbformat": 4,
  "nbformat_minor": 0,
  "metadata": {
    "colab": {
      "provenance": [],
      "authorship_tag": "ABX9TyOlGDAG0rRbYVNf/74bosQM",
      "include_colab_link": true
    },
    "kernelspec": {
      "name": "python3",
      "display_name": "Python 3"
    },
    "language_info": {
      "name": "python"
    }
  },
  "cells": [
    {
      "cell_type": "markdown",
      "metadata": {
        "id": "view-in-github",
        "colab_type": "text"
      },
      "source": [
        "<a href=\"https://colab.research.google.com/github/DanielMoreira26/dfmnatal/blob/main/Semin%C3%A1rio_de_Algoritmo_Sobre_Tratamento_de_%C3%81guas.ipynb\" target=\"_parent\"><img src=\"https://colab.research.google.com/assets/colab-badge.svg\" alt=\"Open In Colab\"/></a>"
      ]
    },
    {
      "cell_type": "code",
      "execution_count": null,
      "metadata": {
        "id": "cJmM6lHZdTO7"
      },
      "outputs": [],
      "source": [
        "#Análise dos parâmetros da qualidade da água no município de Natal/RN no ano de 2023.\n",
        "Padrões de potabilidade\n",
        "cloro = 2 mg/L\n",
        "pH =\n",
        "turbidez = 5.0 uT\n",
        "cor aparente\n",
        "coliformes totais\n",
        "e. coli\n"
      ]
    }
  ]
}