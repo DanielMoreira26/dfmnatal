{
  "nbformat": 4,
  "nbformat_minor": 0,
  "metadata": {
    "colab": {
      "provenance": [],
      "authorship_tag": "ABX9TyPCh+0Xv3R/jWcvoJWa8uib",
      "include_colab_link": true
    },
    "kernelspec": {
      "name": "python3",
      "display_name": "Python 3"
    },
    "language_info": {
      "name": "python"
    }
  },
  "cells": [
    {
      "cell_type": "markdown",
      "metadata": {
        "id": "view-in-github",
        "colab_type": "text"
      },
      "source": [
        "<a href=\"https://colab.research.google.com/github/DanielMoreira26/dfmnatal/blob/main/Semin%C3%A1rio_de_Algoritmo_Sobre_Tratamento_de_%C3%81guas.ipynb\" target=\"_parent\"><img src=\"https://colab.research.google.com/assets/colab-badge.svg\" alt=\"Open In Colab\"/></a>"
      ]
    },
    {
      "cell_type": "code",
      "execution_count": null,
      "metadata": {
        "id": "cJmM6lHZdTO7"
      },
      "outputs": [],
      "source": [
        "#Análise dos parâmetros da qualidade da água no município de Natal/RN no ano de 2023.\n",
        "Padrões de potabilidade\n",
        "cloro = 0.2 mg/L\n",
        "pH = 6,0 a 9,5\n",
        "turbidez = 5.0 uT\n",
        "cor aparente = <= 15 uH\n",
        "coliformes totais = 100 mL de água 'Ausência'\n",
        "e. coli = 100 mL de água 'Ausência'\n",
        "\n",
        "amostras cloro\n",
        "leste('56a e 16r')\n",
        "oeste('42a e 10r')\n",
        "norte1('32a e 5r')\n",
        "norte2('26a e 8r')\n",
        "sul('80a e 25r')\n",
        "\n",
        "amostras pH\n",
        "leste()\n",
        "oeste()\n",
        "norte1()\n",
        "norte2()\n",
        "sul()\n",
        "\n",
        "amostras turbidez\n",
        "leste()\n",
        "oeste()\n",
        "norte1()\n",
        "norte2()\n",
        "sul()\n",
        "\n",
        "amostras cor aparente\n",
        "leste()\n",
        "oeste()\n",
        "norte1()\n",
        "norte2()\n",
        "sul()\n"
      ]
    }
  ]
}