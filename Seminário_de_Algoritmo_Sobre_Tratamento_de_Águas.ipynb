{
  "nbformat": 4,
  "nbformat_minor": 0,
  "metadata": {
    "colab": {
      "provenance": [],
      "authorship_tag": "ABX9TyOhX4fQdT116qQH0srNbTXy",
      "include_colab_link": true
    },
    "kernelspec": {
      "name": "python3",
      "display_name": "Python 3"
    },
    "language_info": {
      "name": "python"
    }
  },
  "cells": [
    {
      "cell_type": "markdown",
      "metadata": {
        "id": "view-in-github",
        "colab_type": "text"
      },
      "source": [
        "<a href=\"https://colab.research.google.com/github/DanielMoreira26/dfmnatal/blob/main/Semin%C3%A1rio_de_Algoritmo_Sobre_Tratamento_de_%C3%81guas.ipynb\" target=\"_parent\"><img src=\"https://colab.research.google.com/assets/colab-badge.svg\" alt=\"Open In Colab\"/></a>"
      ]
    },
    {
      "cell_type": "markdown",
      "source": [
        "#Portaria Ministério da Saúde - MS 888/21  \n",
        "Que dispõe sobre os procedimentos de controle e de vigilância da qualidade da água para consumo humano e seu padrão de potabilidade."
      ],
      "metadata": {
        "id": "cEVMvhrgP2Dj"
      }
    },
    {
      "cell_type": "markdown",
      "source": [
        "#Boletim Epidemiológico\n",
        "DOENÇAS DIARREICAS E QUALIDADE DA ÁGUA\n",
        "Secretaria Municipal de Saúde - Departamento de Vigilância em Saúde\n",
        "Prefeitura do Natal"
      ],
      "metadata": {
        "id": "y4IOM1RAQIYE"
      }
    },
    {
      "cell_type": "markdown",
      "source": [
        "#Amostras\n",
        "1 - Cloro residual (aprovadas - 236 e reprovadas - 64)\n",
        "2 - pH: (6.5, 8.5) (aprovadas - 236 e reprovadas - 99)\n",
        "3 - Turbidez (aprovadas - 236 e reprovadas - 34)\n",
        "4 - Cor aparente (aprovadas - 236 e reprovadas - 21)\n",
        "5 - Coliformes totais - (aprovadas - 236 e reprovadas - 32)\n",
        "6 - Escherichia Coli (aprovadas - 236 e reprovadas - 1)"
      ],
      "metadata": {
        "id": "o2Be87UZ0Ydn"
      }
    },
    {
      "cell_type": "code",
      "execution_count": 1,
      "metadata": {
        "id": "cJmM6lHZdTO7",
        "colab": {
          "base_uri": "https://localhost:8080/"
        },
        "outputId": "b1dd388d-b9e5-4d4a-a14f-2cc17aa39124"
      },
      "outputs": [
        {
          "output_type": "stream",
          "name": "stdout",
          "text": [
            "Digite o código do parâmetro (ou 0 para sair): 2\n",
            "Parâmetro selecionado: pH (6.5, 8.5)\n",
            "Quantidade de amostras aprovadas: 236\n",
            "Quantidade de amostras reprovadas: 99\n",
            "Digite o código do parâmetro (ou 0 para sair): 0\n",
            "Programa finalizado.\n",
            "Análise da qualidade da água para abastecimento humano:\n",
            "Percentual de amostras reprovadas: 29.55%\n",
            "Qualidade da água: Ruim\n"
          ]
        }
      ],
      "source": [
        "#Análise dos parâmetros da qualidade da água em Natal/RN - fevereiro de 2023.\n",
        "parametros = {\n",
        "1: \"Cloro Residual (0.2, 2.0) mg/L\",\n",
        "2: \"pH (6.5, 8.5)\",\n",
        "3: \"Turbidez (0.0, 5.0 NTU)\",\n",
        "4: \"Cor Aparente (0.0, 15 UH)\",\n",
        "5: \"Coliformes Totais (0, 0), UFC/100mL\",\n",
        "6: \"Escherichia_Coli (0, 0), UFC/100mL\"\n",
        "}\n",
        "\n",
        "total_amostras = 0\n",
        "total_reprovadas = 0\n",
        "\n",
        "while True:\n",
        "    codigo = int(input(\"Digite o código do parâmetro (ou 0 para sair): \"))\n",
        "    if codigo == 0:\n",
        "        print(\"Programa finalizado.\")\n",
        "        break\n",
        "    elif codigo in parametros:\n",
        "        print(\"Parâmetro selecionado:\", parametros[codigo])\n",
        "    else:\n",
        "        print(\"Código inválido. Por favor, tente novamente.\")\n",
        "        continue\n",
        "    amostras_aprovadas = int(input(\"Quantidade de amostras aprovadas: \"))\n",
        "    amostras_reprovadas = int(input(\"Quantidade de amostras reprovadas: \"))\n",
        "    total_amostras = amostras_aprovadas + amostras_reprovadas\n",
        "    percentual_reprovadas = (amostras_reprovadas / total_amostras) * 100\n",
        "\n",
        "    if percentual_reprovadas > 10:\n",
        "      qualidade_agua = \"Ruim\"\n",
        "    elif percentual_reprovadas > 5:\n",
        "      qualidade_agua = \"Regular\"\n",
        "    else:\n",
        "      qualidade_agua = \"Bom\"\n",
        "\n",
        "print(f\"Análise da qualidade da água para abastecimento humano:\")\n",
        "print(f\"Percentual de amostras reprovadas: {percentual_reprovadas:.2f}%\")\n",
        "print(f'Qualidade da água: {qualidade_agua}')\n"
      ]
    }
  ]
}