{
  "nbformat": 4,
  "nbformat_minor": 0,
  "metadata": {
    "colab": {
      "provenance": [],
      "authorship_tag": "ABX9TyOvxZAh6cFyD4zOShHJQ0MG",
      "include_colab_link": true
    },
    "kernelspec": {
      "name": "python3",
      "display_name": "Python 3"
    },
    "language_info": {
      "name": "python"
    }
  },
  "cells": [
    {
      "cell_type": "markdown",
      "metadata": {
        "id": "view-in-github",
        "colab_type": "text"
      },
      "source": [
        "<a href=\"https://colab.research.google.com/github/DanielMoreira26/dfmnatal/blob/main/Semin%C3%A1rio_de_Algoritmo_Sobre_Tratamento_de_%C3%81guas.ipynb\" target=\"_parent\"><img src=\"https://colab.research.google.com/assets/colab-badge.svg\" alt=\"Open In Colab\"/></a>"
      ]
    },
    {
      "cell_type": "markdown",
      "source": [
        "*Portaria Ministério da Saúde - MS 888/21  que dispõe sobre os procedimentos de controle e de vigilância da qualidade da água para consumo humano e seu padrão de potabilidade."
      ],
      "metadata": {
        "id": "cEVMvhrgP2Dj"
      }
    },
    {
      "cell_type": "markdown",
      "source": [
        "*Boletim Epidemiológico DOENÇAS DIARREICAS E QUALIDADE DA ÁGUA\n",
        "Secretaria Municipal de Saúde - Departamento de Vigilância em Saúde\n",
        "Prefeitura do Natal"
      ],
      "metadata": {
        "id": "y4IOM1RAQIYE"
      }
    },
    {
      "cell_type": "code",
      "execution_count": null,
      "metadata": {
        "id": "cJmM6lHZdTO7"
      },
      "outputs": [],
      "source": [
        "#Análise dos parâmetros da qualidade da água em Natal/RN - fevereiro de 2023.\n",
        "\n",
        "Amostras Cloro #cloro residual: (0.2, 2.0), # mg/L\n",
        "leste\n",
        "amostras_aprovadas = 56\n",
        "amostras_reprovadas = 16\n",
        "total_amostras = amostras_aprovadas + amostras_reprovadas\n",
        "percentual_aprovadas = (amostras_aprovadas / total_amostras) * 100\n",
        "percentual_reprovadas = (amostras_reprovadas / total_amostras) * 100\n",
        "print(f\"Percentual de amostras aprovadas: {percentual_aprovadas:.2f}%\")\n",
        "print(f\"Percentual de amostras reprovadas: {percentual_reprovadas:.2f}%\")\n",
        "\n",
        "oeste\n",
        "amostras_aprovadas = 42\n",
        "amostras_reprovadas = 10\n",
        "norte1\n",
        "amostras_aprovadas = 32\n",
        "amostras_reprovadas = 5\n",
        "norte2\n",
        "amostras_aprovadas = 26\n",
        "amostras_reprovadas = 8\n",
        "sul\n",
        "amostras_aprovadas = 80\n",
        "amostras_reprovadas = 25\n",
        "\n",
        "Amostras pH #pH: (6.5, 8.5), # unidade\n",
        "leste('56a e 26r')\n",
        "oeste('42a e 19r')\n",
        "norte1('32a e 9r')\n",
        "norte2('26a e 5r')\n",
        "sul('80a e 40r')\n",
        "\n",
        "Amostras Turbidez #turbidez: (5.0, NTU), # NTU\n",
        "leste('56a e 4r')\n",
        "oeste('42a e 5r')\n",
        "norte1('32a e 3r')\n",
        "norte2('26a e 7r')\n",
        "sul('80a e 15r')\n",
        "\n",
        "Amostras Cor Aparente #cor aparente: (15, UH), # UH\n",
        "leste('56a e 3r')\n",
        "oeste('42a e 1r')\n",
        "norte1('32a e 5r')\n",
        "norte2('26a e 11r')\n",
        "sul('80a e 1r')\n",
        "\n",
        "Amostras Coliformes Totais #coliformes totais: (0, 0), # UFC/100mL\n",
        "leste('56a e 7r')\n",
        "oeste('42a e 2r')\n",
        "norte1('32a e 6a')\n",
        "norte2('26a e 13r')\n",
        "sul('80a e 4r')\n",
        "\n",
        "Amostras Escherichia Coli #escherichia coli: (0, 0), # UFC/100mL\n",
        "leste('56a')\n",
        "oeste('42a e 1r')\n",
        "norte1('32a')\n",
        "norte2('26a')\n",
        "sul('80a')"
      ]
    }
  ]
}