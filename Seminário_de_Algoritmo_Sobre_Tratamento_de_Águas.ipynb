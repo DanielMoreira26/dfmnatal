{
  "nbformat": 4,
  "nbformat_minor": 0,
  "metadata": {
    "colab": {
      "provenance": [],
      "authorship_tag": "ABX9TyN7Jh4yH4DevaoqYyZtPHOh",
      "include_colab_link": true
    },
    "kernelspec": {
      "name": "python3",
      "display_name": "Python 3"
    },
    "language_info": {
      "name": "python"
    }
  },
  "cells": [
    {
      "cell_type": "markdown",
      "metadata": {
        "id": "view-in-github",
        "colab_type": "text"
      },
      "source": [
        "<a href=\"https://colab.research.google.com/github/DanielMoreira26/dfmnatal/blob/main/Semin%C3%A1rio_de_Algoritmo_Sobre_Tratamento_de_%C3%81guas.ipynb\" target=\"_parent\"><img src=\"https://colab.research.google.com/assets/colab-badge.svg\" alt=\"Open In Colab\"/></a>"
      ]
    },
    {
      "cell_type": "markdown",
      "source": [
        "*Portaria Ministério da Saúde - MS 888/21  que dispõe sobre os procedimentos de controle e de vigilância da qualidade da água para consumo humano e seu padrão de potabilidade."
      ],
      "metadata": {
        "id": "cEVMvhrgP2Dj"
      }
    },
    {
      "cell_type": "markdown",
      "source": [
        "*Boletim Epidemiológico DOENÇAS DIARREICAS E QUALIDADE DA ÁGUA\n",
        "Secretaria Municipal de Saúde - Departamento de Vigilância em Saúde\n",
        "Prefeitura do Natal"
      ],
      "metadata": {
        "id": "y4IOM1RAQIYE"
      }
    },
    {
      "cell_type": "code",
      "execution_count": 27,
      "metadata": {
        "id": "cJmM6lHZdTO7",
        "colab": {
          "base_uri": "https://localhost:8080/"
        },
        "outputId": "b71309a3-80e6-4f4b-b1de-c993db241c3f"
      },
      "outputs": [
        {
          "output_type": "stream",
          "name": "stdout",
          "text": [
            "Digite o código do parametro: 9\n",
            "Código inválido\n",
            "Digite o código do parametro: 1\n",
            "Parâmetro selecionado: Cloro Residual (0.2, 2.0) mg/L\n"
          ]
        }
      ],
      "source": [
        "#Análise dos parâmetros da qualidade da água em Natal/RN - fevereiro de 2023.\n",
        "parametro = {\n",
        "1: \"Cloro Residual (0.2, 2.0) mg/L\",\n",
        "2: \"Turbidez (0.0, 5.0 NTU)\",\n",
        "3: \"Cor Aparente (0.0, 15 UH)\",\n",
        "4: \"Escherichia_Coli (0, 0), UFC/100mL\",\n",
        "5: \"Coliformes Totais (0, 0), UFC/100mL\",\n",
        "6: \"pH (6.5, 8.5)\"\n",
        "}\n",
        "\n",
        "while True:\n",
        "    código = int(input(\"Digite o código do parametro: \"))\n",
        "    if código in parametro:\n",
        "      print(\"Parâmetro selecionado:\", parametro[código])\n",
        "      break\n",
        "    else:\n",
        "      print(\"Código inválido\")\n"
      ]
    }
  ]
}