{
  "nbformat": 4,
  "nbformat_minor": 0,
  "metadata": {
    "colab": {
      "provenance": [],
      "authorship_tag": "ABX9TyMrHmcWrD3MdnjjzUaxCTM9",
      "include_colab_link": true
    },
    "kernelspec": {
      "name": "python3",
      "display_name": "Python 3"
    },
    "language_info": {
      "name": "python"
    }
  },
  "cells": [
    {
      "cell_type": "markdown",
      "metadata": {
        "id": "view-in-github",
        "colab_type": "text"
      },
      "source": [
        "<a href=\"https://colab.research.google.com/github/DanielMoreira26/dfmnatal/blob/main/Semin%C3%A1rio_de_Algoritmo_Sobre_Tratamento_de_%C3%81guas.ipynb\" target=\"_parent\"><img src=\"https://colab.research.google.com/assets/colab-badge.svg\" alt=\"Open In Colab\"/></a>"
      ]
    },
    {
      "cell_type": "markdown",
      "source": [
        "*Portaria Ministério da Saúde - MS 888/21  que dispõe sobre os procedimentos de controle e de vigilância da qualidade da água para consumo humano e seu padrão de potabilidade."
      ],
      "metadata": {
        "id": "cEVMvhrgP2Dj"
      }
    },
    {
      "cell_type": "markdown",
      "source": [
        "*Boletim Epidemiológico DOENÇAS DIARREICAS E QUALIDADE DA ÁGUA\n",
        "Secretaria Municipal de Saúde - Departamento de Vigilância em Saúde\n",
        "Prefeitura do Natal"
      ],
      "metadata": {
        "id": "y4IOM1RAQIYE"
      }
    },
    {
      "cell_type": "code",
      "execution_count": 35,
      "metadata": {
        "id": "cJmM6lHZdTO7",
        "colab": {
          "base_uri": "https://localhost:8080/"
        },
        "outputId": "c24235c3-8454-4510-b535-e7d2bf8e63bc"
      },
      "outputs": [
        {
          "output_type": "stream",
          "name": "stdout",
          "text": [
            "Digite o código do parâmetro ou 0 para sair: 10\n",
            "Código inválido. Por favor, tente novamente.\n",
            "Digite o código do parâmetro ou 0 para sair: 1\n",
            "Parâmetro selecionado: Cloro Residual (0.2, 2.0) mg/L\n",
            "Deseja continuar? (S/N): s\n",
            "Digite o código do parâmetro ou 0 para sair: 6\n",
            "Parâmetro selecionado: pH (6.5, 8.5)\n",
            "Deseja continuar? (S/N): n\n",
            "Programa finalizado.\n"
          ]
        }
      ],
      "source": [
        "#Análise dos parâmetros da qualidade da água em Natal/RN - fevereiro de 2023.\n",
        "parametros = {\n",
        "1: \"Cloro Residual (0.2, 2.0) mg/L\",\n",
        "2: \"Turbidez (0.0, 5.0 NTU)\",\n",
        "3: \"Cor Aparente (0.0, 15 UH)\",\n",
        "4: \"Escherichia_Coli (0, 0), UFC/100mL\",\n",
        "5: \"Coliformes Totais (0, 0), UFC/100mL\",\n",
        "6: \"pH (6.5, 8.5)\"\n",
        "}\n",
        "\n",
        "while True:\n",
        "    codigo = int(input(\"Digite o código do parâmetro ou 0 para sair: \"))\n",
        "\n",
        "    if codigo == 0:\n",
        "        print(\"Programa finalizado.\")\n",
        "        break\n",
        "    elif codigo in parametros:\n",
        "        print(\"Parâmetro selecionado:\", parametros[codigo])\n",
        "    else:\n",
        "        print(\"Código inválido. Por favor, tente novamente.\")\n",
        "        continue\n",
        "\n",
        "    continuar = input(\"Deseja continuar? (S/N): \")\n",
        "    if continuar.lower() != \"s\":\n",
        "        print(\"Programa finalizado.\")\n",
        "        break\n"
      ]
    }
  ]
}