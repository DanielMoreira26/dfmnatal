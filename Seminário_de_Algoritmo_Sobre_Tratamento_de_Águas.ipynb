{
  "nbformat": 4,
  "nbformat_minor": 0,
  "metadata": {
    "colab": {
      "provenance": [],
      "authorship_tag": "ABX9TyPmSooz62Gdo6Uuj1NLbDlc",
      "include_colab_link": true
    },
    "kernelspec": {
      "name": "python3",
      "display_name": "Python 3"
    },
    "language_info": {
      "name": "python"
    }
  },
  "cells": [
    {
      "cell_type": "markdown",
      "metadata": {
        "id": "view-in-github",
        "colab_type": "text"
      },
      "source": [
        "<a href=\"https://colab.research.google.com/github/DanielMoreira26/dfmnatal/blob/main/Semin%C3%A1rio_de_Algoritmo_Sobre_Tratamento_de_%C3%81guas.ipynb\" target=\"_parent\"><img src=\"https://colab.research.google.com/assets/colab-badge.svg\" alt=\"Open In Colab\"/></a>"
      ]
    },
    {
      "cell_type": "markdown",
      "source": [
        "#Portaria Ministério da Saúde - MS 888/21  \n",
        "Que dispõe sobre os procedimentos de controle e de vigilância da qualidade da água para consumo humano e seu padrão de potabilidade."
      ],
      "metadata": {
        "id": "cEVMvhrgP2Dj"
      }
    },
    {
      "cell_type": "markdown",
      "source": [
        "#Boletim Epidemiológico\n",
        "DOENÇAS DIARREICAS E QUALIDADE DA ÁGUA\n",
        "Secretaria Municipal de Saúde - Departamento de Vigilância em Saúde\n",
        "Prefeitura do Natal"
      ],
      "metadata": {
        "id": "y4IOM1RAQIYE"
      }
    },
    {
      "cell_type": "markdown",
      "source": [
        "#Amostras\n",
        "1 - Cloro residual (aprovadas - 236 e reprovadas - 64)\n",
        "2 - pH: (6.5, 8.5) (aprovadas - 236 e reprovadas - 99)\n",
        "3 - Turbidez (aprovadas - 236 e reprovadas - 34)\n",
        "4 - Cor aparente (aprovadas - 236 e reprovadas - 21)\n",
        "5 - Coliformes totais - (aprovadas - 236 e reprovadas - 32)\n",
        "6 - Escherichia Coli (aprovadas - 236 e reprovadas - 1)"
      ],
      "metadata": {
        "id": "o2Be87UZ0Ydn"
      }
    },
    {
      "cell_type": "code",
      "execution_count": 2,
      "metadata": {
        "id": "cJmM6lHZdTO7",
        "colab": {
          "base_uri": "https://localhost:8080/"
        },
        "outputId": "4c70088b-2e44-456e-d55b-d796c3d902d4"
      },
      "outputs": [
        {
          "output_type": "stream",
          "name": "stdout",
          "text": [
            "Digite o código do parâmetro (ou 0 para sair): 7\n",
            "Código inválido. Por favor, tente novamente.\n",
            "Digite o código do parâmetro (ou 0 para sair): 1\n",
            "Parâmetro selecionado: Cloro Residual (0.2, 2.0) mg/L\n",
            "Quantidade de amostras aprovadas: 236\n",
            "Quantidade de amostras reprovadas: 46\n",
            "Percentual de amostras reprovadas: 16.31%\n",
            "A qualidade da água é considerada: Ruim\n",
            "\n",
            "Digite o código do parâmetro (ou 0 para sair): 6\n",
            "Parâmetro selecionado: Escherichia_Coli (0, 0), UFC/100mL\n",
            "Quantidade de amostras aprovadas: 236\n",
            "Quantidade de amostras reprovadas: 1\n",
            "Percentual de amostras reprovadas: 0.19%\n",
            "A qualidade da água é considerada: Boa\n",
            "\n",
            "Digite o código do parâmetro (ou 0 para sair): 4\n",
            "Parâmetro selecionado: Cor Aparente (0.0, 15 UH)\n",
            "Quantidade de amostras aprovadas: 236\n",
            "Quantidade de amostras reprovadas: 21\n",
            "Percentual de amostras reprovadas: 2.71%\n",
            "A qualidade da água é considerada: Boa\n",
            "\n",
            "Digite o código do parâmetro (ou 0 para sair): 0\n",
            "Programa finalizado.\n"
          ]
        }
      ],
      "source": [
        "#Análise dos parâmetros da qualidade da água em Natal/RN - fevereiro de 2023.\n",
        "parametros = {\n",
        "1: \"Cloro Residual (0.2, 2.0) mg/L\",\n",
        "2: \"pH (6.5, 8.5)\",\n",
        "3: \"Turbidez (0.0, 5.0 NTU)\",\n",
        "4: \"Cor Aparente (0.0, 15 UH)\",\n",
        "5: \"Coliformes Totais (0, 0), UFC/100mL\",\n",
        "6: \"Escherichia_Coli (0, 0), UFC/100mL\"\n",
        "}\n",
        "\n",
        "total_amostras = 0\n",
        "total_reprovadas = 0\n",
        "\n",
        "while True:\n",
        "    codigo = int(input(\"Digite o código do parâmetro (ou 0 para sair): \"))\n",
        "    if codigo == 0:\n",
        "        print(\"Programa finalizado.\")\n",
        "        break\n",
        "    elif codigo in parametros:\n",
        "        print(\"Parâmetro selecionado:\", parametros[codigo])\n",
        "    else:\n",
        "        print(\"Código inválido. Por favor, tente novamente.\")\n",
        "        continue\n",
        "\n",
        "    amostras_aprovadas = int(input(\"Quantidade de amostras aprovadas: \"))\n",
        "    amostras_reprovadas = int(input(\"Quantidade de amostras reprovadas: \"))\n",
        "\n",
        "    total_amostras += amostras_aprovadas + amostras_reprovadas\n",
        "    total_reprovadas += amostras_reprovadas\n",
        "\n",
        "    percentual_reprovadas = (amostras_reprovadas / total_amostras) * 100\n",
        "\n",
        "    # Avaliação da qualidade da água\n",
        "    if percentual_reprovadas <= 3:\n",
        "        qualidade_agua = \"Boa\"\n",
        "    elif percentual_reprovadas <= 5:\n",
        "        qualidade_agua = \"Regular\"\n",
        "    else:\n",
        "        qualidade_agua = \"Ruim\"\n",
        "\n",
        "    print(f\"Percentual de amostras reprovadas: {percentual_reprovadas:.2f}%\")\n",
        "    print(f\"A qualidade da água é considerada: {qualidade_agua}\\n\")\n"
      ]
    }
  ]
}