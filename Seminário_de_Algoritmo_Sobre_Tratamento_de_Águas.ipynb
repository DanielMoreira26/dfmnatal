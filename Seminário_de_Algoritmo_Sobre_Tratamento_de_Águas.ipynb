{
  "nbformat": 4,
  "nbformat_minor": 0,
  "metadata": {
    "colab": {
      "provenance": [],
      "authorship_tag": "ABX9TyP5OmtN4tUbSX/4OWI1ERiF",
      "include_colab_link": true
    },
    "kernelspec": {
      "name": "python3",
      "display_name": "Python 3"
    },
    "language_info": {
      "name": "python"
    }
  },
  "cells": [
    {
      "cell_type": "markdown",
      "metadata": {
        "id": "view-in-github",
        "colab_type": "text"
      },
      "source": [
        "<a href=\"https://colab.research.google.com/github/DanielMoreira26/dfmnatal/blob/main/Semin%C3%A1rio_de_Algoritmo_Sobre_Tratamento_de_%C3%81guas.ipynb\" target=\"_parent\"><img src=\"https://colab.research.google.com/assets/colab-badge.svg\" alt=\"Open In Colab\"/></a>"
      ]
    },
    {
      "cell_type": "markdown",
      "source": [
        "*Portaria Ministério da Saúde - MS 888/21  que dispõe sobre os procedimentos de controle e de vigilância da qualidade da água para consumo humano e seu padrão de potabilidade."
      ],
      "metadata": {
        "id": "cEVMvhrgP2Dj"
      }
    },
    {
      "cell_type": "markdown",
      "source": [
        "*Boletim Epidemiológico DOENÇAS DIARREICAS E QUALIDADE DA ÁGUA\n",
        "Secretaria Municipal de Saúde - Departamento de Vigilância em Saúde\n",
        "Prefeitura do Natal"
      ],
      "metadata": {
        "id": "y4IOM1RAQIYE"
      }
    },
    {
      "cell_type": "code",
      "execution_count": 5,
      "metadata": {
        "id": "cJmM6lHZdTO7",
        "colab": {
          "base_uri": "https://localhost:8080/"
        },
        "outputId": "4e6c3a4c-952d-4b54-849f-1b1d9e521928"
      },
      "outputs": [
        {
          "output_type": "stream",
          "name": "stdout",
          "text": [
            "Digite o código do parametros: 1\n",
            "cloro_residual\n",
            "Informe o número de amostras aprovadas: 236\n",
            "Informe o número de amostras reprovadas: 64\n",
            "Análise da qualidade da água para abastecimento humano:\n",
            "Total de amostras: 300\n",
            "Percentual de amostras reprovadas: 21.33%\n",
            "Qualidade da água: Ruim\n"
          ]
        }
      ],
      "source": [
        "#Análise dos parâmetros da qualidade da água em Natal/RN - fevereiro de 2023.\n",
        "#cloro residual: (0.2, 2.0), # mg/L\n",
        "parametros = {\n",
        "1: \"cloro_residual\",\n",
        "2: \"turbidez\",\n",
        "3: \"cor_aparente\",\n",
        "4: \"Escherichia_Coli\",\n",
        "5: \"coliformes_totais\",\n",
        "6: \"pH\"\n",
        "}\n",
        "código = int(input(\"Digite o código do parametros: \"))\n",
        "if código in parametros:\n",
        "    print(parametros[código])\n",
        "else:\n",
        "    print(\"Código inválido\")\n",
        "\n",
        "amostras_aprovadas = int(input(\"Informe o número de amostras aprovadas: \"))\n",
        "amostras_reprovadas = int(input(\"Informe o número de amostras reprovadas: \"))\n",
        "total_amostras = amostras_aprovadas + amostras_reprovadas\n",
        "percentual_reprovadas = (amostras_reprovadas / total_amostras) * 100\n",
        "\n",
        "if percentual_reprovadas > 20:\n",
        "  qualidade_agua = \"Ruim\"\n",
        "elif percentual_reprovadas > 10:\n",
        "  qualidade_agua = \"Regular\"\n",
        "else:\n",
        "  qualidade_agua = \"Bom\"\n",
        "\n",
        "print(f\"Análise da qualidade da água para abastecimento humano:\")\n",
        "print(f\"Total de amostras: {total_amostras}\")\n",
        "print(f\"Percentual de amostras reprovadas: {percentual_reprovadas:.2f}%\")\n",
        "print(f'Qualidade da água: {qualidade_agua}')\n"
      ]
    }
  ]
}