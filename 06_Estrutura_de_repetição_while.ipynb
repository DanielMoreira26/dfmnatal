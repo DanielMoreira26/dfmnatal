{
  "nbformat": 4,
  "nbformat_minor": 0,
  "metadata": {
    "colab": {
      "provenance": [],
      "authorship_tag": "ABX9TyMBEEsJU1a6SPQ+7WVFuPn/",
      "include_colab_link": true
    },
    "kernelspec": {
      "name": "python3",
      "display_name": "Python 3"
    },
    "language_info": {
      "name": "python"
    }
  },
  "cells": [
    {
      "cell_type": "markdown",
      "metadata": {
        "id": "view-in-github",
        "colab_type": "text"
      },
      "source": [
        "<a href=\"https://colab.research.google.com/github/DanielMoreira26/dfmnatal/blob/main/06_Estrutura_de_repeti%C3%A7%C3%A3o_while.ipynb\" target=\"_parent\"><img src=\"https://colab.research.google.com/assets/colab-badge.svg\" alt=\"Open In Colab\"/></a>"
      ]
    },
    {
      "cell_type": "code",
      "execution_count": null,
      "metadata": {
        "colab": {
          "base_uri": "https://localhost:8080/"
        },
        "id": "83TqSSz3cXzu",
        "outputId": "5c2dcbe1-3573-4506-8162-6e81770b882d"
      },
      "outputs": [
        {
          "output_type": "stream",
          "name": "stdout",
          "text": [
            "Daniel Moreira aniel Moreira niel Moreira iel Moreira el Moreira l Moreira  Moreira Moreira oreira reira eira ira ra a "
          ]
        }
      ],
      "source": [
        "\n",
        "x = 'Daniel Moreira'\n",
        "while x:\n",
        "  print(x, end=' ')\n",
        "  x = x [1:]\n",
        "\n"
      ]
    },
    {
      "cell_type": "code",
      "source": [
        "x = 10\n",
        "while x:\n",
        "  #print(\"Valor de x: \") #informação de debbuging (depuração)\n",
        "  #print(x)#informação de debbuging (depuração)\n",
        "  #print(\"Resultado divisão\")#informação de debbuging (depuração)\n",
        "  a= (x % 2)\n",
        "  #print(a)#informação de debbuging (depuração)\n",
        "  x-=1\n",
        "  #if x % 2 != 0: #comparação da diferença, quando o resto da\n",
        "                  #divisao, for diferente de 0\n",
        "  #if x % 2 == 1: #comparação da igualdade, se o resto da divisao\n",
        "                 #for igual a 1 -> contador de pares\n",
        "  if x % 2 != 1: #comparação da diferença, quando o resto da\n",
        "                  #divisao, for diferente de 1 -> contador de impares\n",
        "    continue\n",
        "  print(x,end=' ')"
      ],
      "metadata": {
        "colab": {
          "base_uri": "https://localhost:8080/"
        },
        "id": "l2fUNUlkjHcn",
        "outputId": "1c018974-b2ab-45f4-e1ba-d2588e5a3588"
      },
      "execution_count": null,
      "outputs": [
        {
          "output_type": "stream",
          "name": "stdout",
          "text": [
            "9 7 5 3 1 "
          ]
        }
      ]
    },
    {
      "cell_type": "markdown",
      "source": [
        "Verificador de números primos"
      ],
      "metadata": {
        "id": "E0dZFLGQwZO5"
      }
    },
    {
      "cell_type": "code",
      "source": [
        "# O algoritmo verifica se um número Y\n",
        "# é primo ao tentar dividir Y\n",
        "# por todos os números inteiros menores que Y\n",
        "# e maior que 1, imprimindo os fatores de\n",
        "# y ou indicando que\n",
        "# y é primo.\n",
        "y=3\n",
        "x = y // 2\n",
        "while x>1:\n",
        "  if y % x == 0:\n",
        "    print('Composto: ',y, ' tem fator', x)\n",
        "    break\n",
        "  x-=1\n",
        "else:\n",
        "  print(y, \"Número primo\")"
      ],
      "metadata": {
        "id": "fcoBjq3lwcrY",
        "outputId": "eee36a9b-3f80-4e5e-daa8-a8863f3993d1",
        "colab": {
          "base_uri": "https://localhost:8080/"
        }
      },
      "execution_count": null,
      "outputs": [
        {
          "output_type": "stream",
          "name": "stdout",
          "text": [
            "3 Número primo\n"
          ]
        }
      ]
    },
    {
      "cell_type": "markdown",
      "source": [
        "Gerador de números primos até limite"
      ],
      "metadata": {
        "id": "LBjylzwewhq4"
      }
    },
    {
      "cell_type": "code",
      "source": [
        "# O algoritmo verifica se um número Y\n",
        "# é primo ao tentar dividir Y\n",
        "# por todos os números inteiros menores que Y\n",
        "# e maior que 1, imprimindo os fatores de\n",
        "# y ou indicando que\n",
        "# y é primo.\n",
        "limite = int(input(\"Digite o limite: \"))\n",
        "for y in range(2,limite+1):\n",
        "  x = y // 2\n",
        "  while x>1:\n",
        "    if y % x == 0:\n",
        "      print('Composto: ',y, ' tem fator', x)\n",
        "      break\n",
        "    x-=1\n",
        "  else:\n",
        "    print(y, \"Número primo\")"
      ],
      "metadata": {
        "id": "upM9i3Dowk0o",
        "outputId": "61c7c4b3-c5b0-4938-d46b-ed7f1f0cd9bb",
        "colab": {
          "base_uri": "https://localhost:8080/"
        }
      },
      "execution_count": 1,
      "outputs": [
        {
          "output_type": "stream",
          "name": "stdout",
          "text": [
            "Digite o limite: 50\n",
            "2 Número primo\n",
            "3 Número primo\n",
            "Composto:  4  tem fator 2\n",
            "5 Número primo\n",
            "Composto:  6  tem fator 3\n",
            "7 Número primo\n",
            "Composto:  8  tem fator 4\n",
            "Composto:  9  tem fator 3\n",
            "Composto:  10  tem fator 5\n",
            "11 Número primo\n",
            "Composto:  12  tem fator 6\n",
            "13 Número primo\n",
            "Composto:  14  tem fator 7\n",
            "Composto:  15  tem fator 5\n",
            "Composto:  16  tem fator 8\n",
            "17 Número primo\n",
            "Composto:  18  tem fator 9\n",
            "19 Número primo\n",
            "Composto:  20  tem fator 10\n",
            "Composto:  21  tem fator 7\n",
            "Composto:  22  tem fator 11\n",
            "23 Número primo\n",
            "Composto:  24  tem fator 12\n",
            "Composto:  25  tem fator 5\n",
            "Composto:  26  tem fator 13\n",
            "Composto:  27  tem fator 9\n",
            "Composto:  28  tem fator 14\n",
            "29 Número primo\n",
            "Composto:  30  tem fator 15\n",
            "31 Número primo\n",
            "Composto:  32  tem fator 16\n",
            "Composto:  33  tem fator 11\n",
            "Composto:  34  tem fator 17\n",
            "Composto:  35  tem fator 7\n",
            "Composto:  36  tem fator 18\n",
            "37 Número primo\n",
            "Composto:  38  tem fator 19\n",
            "Composto:  39  tem fator 13\n",
            "Composto:  40  tem fator 20\n",
            "41 Número primo\n",
            "Composto:  42  tem fator 21\n",
            "43 Número primo\n",
            "Composto:  44  tem fator 22\n",
            "Composto:  45  tem fator 15\n",
            "Composto:  46  tem fator 23\n",
            "47 Número primo\n",
            "Composto:  48  tem fator 24\n",
            "Composto:  49  tem fator 7\n",
            "Composto:  50  tem fator 25\n"
          ]
        }
      ]
    }
  ]
}