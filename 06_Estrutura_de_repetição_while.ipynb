{
  "nbformat": 4,
  "nbformat_minor": 0,
  "metadata": {
    "colab": {
      "provenance": [],
      "authorship_tag": "ABX9TyOllnXZ13gn2aHpl9jO4i9x",
      "include_colab_link": true
    },
    "kernelspec": {
      "name": "python3",
      "display_name": "Python 3"
    },
    "language_info": {
      "name": "python"
    }
  },
  "cells": [
    {
      "cell_type": "markdown",
      "metadata": {
        "id": "view-in-github",
        "colab_type": "text"
      },
      "source": [
        "<a href=\"https://colab.research.google.com/github/DanielMoreira26/dfmnatal/blob/main/06_Estrutura_de_repeti%C3%A7%C3%A3o_while.ipynb\" target=\"_parent\"><img src=\"https://colab.research.google.com/assets/colab-badge.svg\" alt=\"Open In Colab\"/></a>"
      ]
    },
    {
      "cell_type": "code",
      "execution_count": 16,
      "metadata": {
        "colab": {
          "base_uri": "https://localhost:8080/"
        },
        "id": "83TqSSz3cXzu",
        "outputId": "5c2dcbe1-3573-4506-8162-6e81770b882d"
      },
      "outputs": [
        {
          "output_type": "stream",
          "name": "stdout",
          "text": [
            "Daniel Moreira aniel Moreira niel Moreira iel Moreira el Moreira l Moreira  Moreira Moreira oreira reira eira ira ra a "
          ]
        }
      ],
      "source": [
        "\n",
        "x = 'Daniel Moreira'\n",
        "while x:\n",
        "  print(x, end=' ')\n",
        "  x = x [1:]\n",
        "\n"
      ]
    }
  ]
}