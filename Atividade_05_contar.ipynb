{
  "nbformat": 4,
  "nbformat_minor": 0,
  "metadata": {
    "colab": {
      "provenance": [],
      "authorship_tag": "ABX9TyPUoQUBFZuPOSxrKtkUQ4xG",
      "include_colab_link": true
    },
    "kernelspec": {
      "name": "python3",
      "display_name": "Python 3"
    },
    "language_info": {
      "name": "python"
    }
  },
  "cells": [
    {
      "cell_type": "markdown",
      "metadata": {
        "id": "view-in-github",
        "colab_type": "text"
      },
      "source": [
        "<a href=\"https://colab.research.google.com/github/DanielMoreira26/dfmnatal/blob/main/Atividade_05_contar.ipynb\" target=\"_parent\"><img src=\"https://colab.research.google.com/assets/colab-badge.svg\" alt=\"Open In Colab\"/></a>"
      ]
    },
    {
      "cell_type": "code",
      "execution_count": null,
      "metadata": {
        "id": "3GutK3jKqhS9"
      },
      "outputs": [],
      "source": [
        "def contar_caracteres(s):\n",
        "\"\"\"\n",
        "Conta a frequência de cada caractere na string `s`.\n",
        "\n",
        "Args:\n",
        "s (str): A string a ser analisada.\n",
        "\n",
        "Returns:\n",
        "dict: Um dicionário onde as chaves são os caracteres e os valores\n",
        "são as contagens de cada caractere na string.\n",
        "\"\"\"\n",
        "pass"
      ]
    }
  ]
}