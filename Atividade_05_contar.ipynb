{
  "nbformat": 4,
  "nbformat_minor": 0,
  "metadata": {
    "colab": {
      "provenance": [],
      "authorship_tag": "ABX9TyOCbFOMa63S1xPD7onGT1tc",
      "include_colab_link": true
    },
    "kernelspec": {
      "name": "python3",
      "display_name": "Python 3"
    },
    "language_info": {
      "name": "python"
    }
  },
  "cells": [
    {
      "cell_type": "markdown",
      "metadata": {
        "id": "view-in-github",
        "colab_type": "text"
      },
      "source": [
        "<a href=\"https://colab.research.google.com/github/DanielMoreira26/dfmnatal/blob/main/Atividade_05_contar.ipynb\" target=\"_parent\"><img src=\"https://colab.research.google.com/assets/colab-badge.svg\" alt=\"Open In Colab\"/></a>"
      ]
    },
    {
      "cell_type": "code",
      "execution_count": 1,
      "metadata": {
        "id": "3GutK3jKqhS9"
      },
      "outputs": [],
      "source": [
        "def contar_caracteres(palavra):\n",
        "    contagem = {}\n",
        "    for char in palavra:\n",
        "        if char in contagem:\n",
        "            contagem[char] += 1\n",
        "        else:\n",
        "            contagem[char] = 1\n",
        "    return contagem\n",
        "\n",
        "#def contar_caracteres(palavra):\n",
        "#  pass"
      ]
    }
  ]
}