{
  "nbformat": 4,
  "nbformat_minor": 0,
  "metadata": {
    "colab": {
      "provenance": [],
      "authorship_tag": "ABX9TyPmGQkReEHtPUQIS94rgXN9",
      "include_colab_link": true
    },
    "kernelspec": {
      "name": "python3",
      "display_name": "Python 3"
    },
    "language_info": {
      "name": "python"
    }
  },
  "cells": [
    {
      "cell_type": "markdown",
      "metadata": {
        "id": "view-in-github",
        "colab_type": "text"
      },
      "source": [
        "<a href=\"https://colab.research.google.com/github/DanielMoreira26/dfmnatal/blob/main/Semin%C3%A1rio_2S.ipynb\" target=\"_parent\"><img src=\"https://colab.research.google.com/assets/colab-badge.svg\" alt=\"Open In Colab\"/></a>"
      ]
    },
    {
      "cell_type": "code",
      "execution_count": null,
      "metadata": {
        "id": "TICX5W9_PWVz"
      },
      "outputs": [],
      "source": [
        "Amostras Turbidez #turbidez: (5.0, NTU), # NTU\n",
        "leste('56a e 4r')\n",
        "oeste('42a e 5r')\n",
        "norte1('32a e 3r')\n",
        "norte2('26a e 7r')\n",
        "sul('80a e 15r')\n",
        "\n",
        "Amostras Cor Aparente #cor aparente: (15, UH), # UH\n",
        "leste('56a e 3r')\n",
        "oeste('42a e 1r')\n",
        "norte1('32a e 5r')\n",
        "norte2('26a e 11r')\n",
        "sul('80a e 1r')\n",
        "\n",
        "Amostras Escherichia Coli #escherichia coli: (0, 0), # UFC/100mL\n",
        "leste('56a')\n",
        "oeste('42a e 1r')\n",
        "norte1('32a')\n",
        "norte2('26a')\n",
        "sul('80a')\n",
        "\n",
        "oeste\n",
        "amostras_aprovadas = 42\n",
        "amostras_reprovadas = 10\n",
        "norte1\n",
        "amostras_aprovadas = 32\n",
        "amostras_reprovadas = 5\n",
        "norte2\n",
        "amostras_aprovadas = 26\n",
        "amostras_reprovadas = 8\n",
        "sul\n",
        "amostras_aprovadas = 80\n",
        "amostras_reprovadas = 25\n",
        "\n",
        "Amostras pH #pH: (6.5, 8.5), # unidade\n",
        "leste('56a e 26r')\n",
        "oeste('42a e 19r')\n",
        "norte1('32a e 9r')\n",
        "norte2('26a e 5r')\n",
        "sul('80a e 40r')\n",
        "\n",
        "Amostras Coliformes Totais #coliformes totais: (0, 0), # UFC/100mL\n",
        "leste('56a e 7r')\n",
        "oeste('42a e 2r')\n",
        "norte1('32a e 6a')\n",
        "norte2('26a e 13r')\n",
        "sul('80a e 4r')"
      ]
    }
  ]
}