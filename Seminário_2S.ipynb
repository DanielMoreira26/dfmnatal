{
  "nbformat": 4,
  "nbformat_minor": 0,
  "metadata": {
    "colab": {
      "provenance": [],
      "authorship_tag": "ABX9TyP4Y2uH92TYXJxVXsss2GrU",
      "include_colab_link": true
    },
    "kernelspec": {
      "name": "python3",
      "display_name": "Python 3"
    },
    "language_info": {
      "name": "python"
    }
  },
  "cells": [
    {
      "cell_type": "markdown",
      "metadata": {
        "id": "view-in-github",
        "colab_type": "text"
      },
      "source": [
        "<a href=\"https://colab.research.google.com/github/DanielMoreira26/dfmnatal/blob/main/Semin%C3%A1rio_2S.ipynb\" target=\"_parent\"><img src=\"https://colab.research.google.com/assets/colab-badge.svg\" alt=\"Open In Colab\"/></a>"
      ]
    },
    {
      "cell_type": "code",
      "execution_count": 5,
      "metadata": {
        "id": "TICX5W9_PWVz",
        "outputId": "62ae3b83-7902-4866-9b63-3567b40e8340",
        "colab": {
          "base_uri": "https://localhost:8080/"
        }
      },
      "outputs": [
        {
          "output_type": "stream",
          "name": "stdout",
          "text": [
            "Digite o código do parâmetro (1-6) para ver detalhes ou 0 para sair: 0\n",
            "Programa finalizado.\n"
          ]
        }
      ],
      "source": [
        "# Dados das análises\n",
        "dados = {\n",
        "    'cloro_residual': {\n",
        "        'leste': {'aprovado': 56, 'reprovado': 16},\n",
        "        'oeste': {'aprovado': 42, 'reprovado': 10},\n",
        "        'norte1': {'aprovado': 32, 'reprovado': 5},\n",
        "        'norte2': {'aprovado': 26, 'reprovado': 8},\n",
        "        'sul': {'aprovado': 80, 'reprovado': 25}\n",
        "    },\n",
        "    'turbidez': {\n",
        "        'leste': {'aprovado': 56, 'reprovado': 4},\n",
        "        'oeste': {'aprovado': 42, 'reprovado': 5},\n",
        "        'norte1': {'aprovado': 32, 'reprovado': 3},\n",
        "        'norte2': {'aprovado': 26, 'reprovado': 7},\n",
        "        'sul': {'aprovado': 80, 'reprovado': 15}\n",
        "    },\n",
        "    'cor_aparente': {\n",
        "        'leste': {'aprovado': 56, 'reprovado': 3},\n",
        "        'oeste': {'aprovado': 42, 'reprovado': 1},\n",
        "        'norte1': {'aprovado': 32, 'reprovado': 5},\n",
        "        'norte2': {'aprovado': 26, 'reprovado': 11},\n",
        "        'sul': {'aprovado': 80, 'reprovado': 1}\n",
        "    },\n",
        "    'escherichia_coli': {\n",
        "        'leste': {'aprovado': 56, 'reprovado': 0},\n",
        "        'oeste': {'aprovado': 42, 'reprovado': 1},\n",
        "        'norte1': {'aprovado': 32, 'reprovado': 0},\n",
        "        'norte2': {'aprovado': 26, 'reprovado': 0},\n",
        "        'sul': {'aprovado': 80, 'reprovado': 0}\n",
        "    },\n",
        "    'pH': {\n",
        "        'leste': {'aprovado': 56, 'reprovado': 26},\n",
        "        'oeste': {'aprovado': 42, 'reprovado': 19},\n",
        "        'norte1': {'aprovado': 32, 'reprovado': 9},\n",
        "        'norte2': {'aprovado': 26, 'reprovado': 5},\n",
        "        'sul': {'aprovado': 80, 'reprovado': 40}\n",
        "    },\n",
        "    'coliformes_totais': {\n",
        "        'leste': {'aprovado': 56, 'reprovado': 7},\n",
        "        'oeste': {'aprovado': 42, 'reprovado': 2},\n",
        "        'norte1': {'aprovado': 32, 'reprovado': 6},\n",
        "        'norte2': {'aprovado': 26, 'reprovado': 13},\n",
        "        'sul': {'aprovado': 80, 'reprovado': 4}\n",
        "    }\n",
        "}\n",
        "\n",
        "# Informações dos parâmetros\n",
        "parametros = {\n",
        "    1: \"Cloro Residual (0.2, 2.0) mg/L\",\n",
        "    2: \"pH (6.5, 8.5)\",\n",
        "    3: \"Turbidez (0.0, 5.0 NTU)\",\n",
        "    4: \"Cor Aparente (0.0, 15 UH)\",\n",
        "    5: \"Coliformes Totais (0, 0), UFC/100mL\",\n",
        "    6: \"Escherichia Coli (0, 0), UFC/100mL\"\n",
        "}\n",
        "\n",
        "def exibir_dados_parametro(parametro):\n",
        "    \"\"\"\n",
        "    Exibe os dados de um parâmetro específico para todas as regiões.\n",
        "    \"\"\"\n",
        "    parametro_chave = list(parametros.keys())[parametro - 1]\n",
        "    parametro_nome = list(parametros.values())[parametro - 1]\n",
        "    parametro_chave_str = list(dados.keys())[parametro_chave - 1]\n",
        "\n",
        "    print(f\"Dados para o parâmetro '{parametro_nome}':\")\n",
        "    if parametro_chave_str in dados:\n",
        "        for regiao, resultados in dados[parametro_chave_str].items():\n",
        "            aprovados = resultados['aprovado']\n",
        "            reprovados = resultados['reprovado']\n",
        "            print(f\"{regiao.capitalize()}: Aprovados - {aprovados}, Reprovados - {reprovados}\")\n",
        "    else:\n",
        "        print(f\"Dados para o parâmetro {parametro_chave_str} não encontrados.\")\n",
        "\n",
        "# Função principal para interação com o usuário\n",
        "def main():\n",
        "    total_amostras = 0\n",
        "    total_reprovadas = 0\n",
        "\n",
        "    while True:\n",
        "        codigo = int(input(\"Digite o código do parâmetro (1-6) para ver detalhes ou 0 para sair: \"))\n",
        "        if codigo == 0:\n",
        "            print(\"Programa finalizado.\")\n",
        "            break\n",
        "        elif codigo in parametros:\n",
        "            exibir_dados_parametro(codigo)\n",
        "\n",
        "            amostras_aprovadas = int(input(\"Quantidade de amostras aprovadas: \"))\n",
        "            amostras_reprovadas = int(input(\"Quantidade de amostras reprovadas: \"))\n",
        "\n",
        "            total_amostras += amostras_aprovadas + amostras_reprovadas\n",
        "            total_reprovadas += amostras_reprovadas\n",
        "\n",
        "            percentual_reprovadas = (amostras_reprovadas / total_amostras) * 100\n",
        "\n",
        "            # Avaliação da qualidade da água\n",
        "            if percentual_reprovadas <= 3:\n",
        "                qualidade_agua = \"Boa\"\n",
        "            elif percentual_reprovadas <= 5:\n",
        "                qualidade_agua = \"Regular\"\n",
        "            else:\n",
        "                qualidade_agua = \"Ruim\"\n",
        "\n",
        "            print(f\"Percentual de amostras reprovadas: {percentual_reprovadas:.2f}%\")\n",
        "            print(f\"A qualidade da água é considerada: {qualidade_agua}\\n\")\n",
        "        else:\n",
        "            print(\"Código inválido. Por favor, tente novamente.\")\n",
        "\n",
        "if __name__ == \"__main__\":\n",
        "    main()\n"
      ]
    }
  ]
}