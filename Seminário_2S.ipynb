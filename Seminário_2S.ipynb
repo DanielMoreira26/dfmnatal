{
  "nbformat": 4,
  "nbformat_minor": 0,
  "metadata": {
    "colab": {
      "provenance": [],
      "authorship_tag": "ABX9TyNVMHJLLkvJlLe3sOl7GW9a",
      "include_colab_link": true
    },
    "kernelspec": {
      "name": "python3",
      "display_name": "Python 3"
    },
    "language_info": {
      "name": "python"
    }
  },
  "cells": [
    {
      "cell_type": "markdown",
      "metadata": {
        "id": "view-in-github",
        "colab_type": "text"
      },
      "source": [
        "<a href=\"https://colab.research.google.com/github/DanielMoreira26/dfmnatal/blob/main/Semin%C3%A1rio_2S.ipynb\" target=\"_parent\"><img src=\"https://colab.research.google.com/assets/colab-badge.svg\" alt=\"Open In Colab\"/></a>"
      ]
    },
    {
      "cell_type": "code",
      "execution_count": 2,
      "metadata": {
        "id": "TICX5W9_PWVz",
        "outputId": "f78090b6-07da-44a6-b709-ad9f015f25dd",
        "colab": {
          "base_uri": "https://localhost:8080/"
        }
      },
      "outputs": [
        {
          "output_type": "stream",
          "name": "stdout",
          "text": [
            "Dados para a região leste:\n",
            "Cloro residual: Aprovados - 56, Reprovados - 16\n",
            "Turbidez: Aprovados - 56, Reprovados - 4\n",
            "Cor aparente: Aprovados - 56, Reprovados - 3\n",
            "Escherichia coli: Aprovados - 56, Reprovados - 0\n",
            "Ph: Aprovados - 56, Reprovados - 26\n",
            "Coliformes totais: Aprovados - 56, Reprovados - 7\n",
            "Dados para o parâmetro Turbidez:\n",
            "Leste: Aprovados - 56, Reprovados - 4\n",
            "Oeste: Aprovados - 42, Reprovados - 5\n",
            "Norte1: Aprovados - 32, Reprovados - 3\n",
            "Norte2: Aprovados - 26, Reprovados - 7\n",
            "Sul: Aprovados - 80, Reprovados - 15\n"
          ]
        }
      ],
      "source": [
        "# Dados das análises\n",
        "dados = {\n",
        "    #cloro residual: (0.2, 2.0), # mg/L Aprovadas - 236 Reprovadas - 64\n",
        "    'cloro_residual': {\n",
        "        'leste': {'aprovado': 56, 'reprovado': 16},\n",
        "        'oeste': {'aprovado': 42, 'reprovado': 10},\n",
        "        'norte1': {'aprovado': 32, 'reprovado': 5},\n",
        "        'norte2': {'aprovado': 26, 'reprovado': 8},\n",
        "        'sul': {'aprovado': 80, 'reprovado': 25}\n",
        "    },\n",
        "    #turbidez: (5.0, NTU), # NTU Aprovada - 236 Reprovadas - 34\n",
        "    'turbidez': {\n",
        "        'leste': {'aprovado': 56, 'reprovado': 4},\n",
        "        'oeste': {'aprovado': 42, 'reprovado': 5},\n",
        "        'norte1': {'aprovado': 32, 'reprovado': 3},\n",
        "        'norte2': {'aprovado': 26, 'reprovado': 7},\n",
        "        'sul': {'aprovado': 80, 'reprovado': 15}\n",
        "    },\n",
        "    #cor aparente: (15, UH), # UH Aprovadas - 236 Reprovadas - 21\n",
        "    'cor_aparente': {\n",
        "        'leste': {'aprovado': 56, 'reprovado': 3},\n",
        "        'oeste': {'aprovado': 42, 'reprovado': 1},\n",
        "        'norte1': {'aprovado': 32, 'reprovado': 5},\n",
        "        'norte2': {'aprovado': 26, 'reprovado': 11},\n",
        "        'sul': {'aprovado': 80, 'reprovado': 1}\n",
        "    },\n",
        "    #escherichia coli: (0, 0), # UFC/100mL Aprovadas - 236 Reprovadas - 1\n",
        "    'escherichia_coli': {\n",
        "        'leste': {'aprovado': 56, 'reprovado': 0},\n",
        "        'oeste': {'aprovado': 42, 'reprovado': 1},\n",
        "        'norte1': {'aprovado': 32, 'reprovado': 0},\n",
        "        'norte2': {'aprovado': 26, 'reprovado': 0},\n",
        "        'sul': {'aprovado': 80, 'reprovado': 0}\n",
        "    },\n",
        "    #pH: (6.5, 8.5), # unidade Aprovadas - 236 Reprovadas - 99\n",
        "    'pH': {\n",
        "        'leste': {'aprovado': 56, 'reprovado': 26},\n",
        "        'oeste': {'aprovado': 42, 'reprovado': 19},\n",
        "        'norte1': {'aprovado': 32, 'reprovado': 9},\n",
        "        'norte2': {'aprovado': 26, 'reprovado': 5},\n",
        "        'sul': {'aprovado': 80, 'reprovado': 40}\n",
        "    },\n",
        "    #pH: (6.5, 8.5), # unidade Aprovadas - 236 Reprovadas - 99\n",
        "    'coliformes_totais': {\n",
        "        'leste': {'aprovado': 56, 'reprovado': 7},\n",
        "        'oeste': {'aprovado': 42, 'reprovado': 2},\n",
        "        'norte1': {'aprovado': 32, 'reprovado': 6},\n",
        "        'norte2': {'aprovado': 26, 'reprovado': 13},\n",
        "        'sul': {'aprovado': 80, 'reprovado': 4}\n",
        "    }\n",
        "}\n",
        "\n",
        "# Função para exibir dados de uma região específica\n",
        "def exibir_dados_regiao(regiao):\n",
        "    print(f\"Dados para a região {regiao}:\")\n",
        "    for parametro, resultados in dados.items():\n",
        "        if regiao in resultados:\n",
        "            aprovados = resultados[regiao]['aprovado']\n",
        "            reprovados = resultados[regiao]['reprovado']\n",
        "            print(f\"{parametro.replace('_', ' ').capitalize()}: Aprovados - {aprovados}, Reprovados - {reprovados}\")\n",
        "        else:\n",
        "            print(f\"Dados para o parâmetro {parametro} não encontrados para a região {regiao}.\")\n",
        "\n",
        "# Função para exibir dados de um parâmetro específico\n",
        "def exibir_dados_parametro(parametro):\n",
        "    print(f\"Dados para o parâmetro {parametro.replace('_', ' ').capitalize()}:\")\n",
        "    if parametro in dados:\n",
        "        for regiao, resultados in dados[parametro].items():\n",
        "            aprovados = resultados['aprovado']\n",
        "            reprovados = resultados['reprovado']\n",
        "            print(f\"{regiao.capitalize()}: Aprovados - {aprovados}, Reprovados - {reprovados}\")\n",
        "    else:\n",
        "        print(f\"Dados para o parâmetro {parametro} não encontrados.\")\n",
        "\n",
        "# Exemplo de uso\n",
        "exibir_dados_regiao('leste')\n",
        "exibir_dados_parametro('turbidez')\n"
      ]
    }
  ]
}