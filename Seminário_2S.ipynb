{
  "nbformat": 4,
  "nbformat_minor": 0,
  "metadata": {
    "colab": {
      "provenance": [],
      "authorship_tag": "ABX9TyPM1/N5Q4m6QlCFQ/iWwhQP",
      "include_colab_link": true
    },
    "kernelspec": {
      "name": "python3",
      "display_name": "Python 3"
    },
    "language_info": {
      "name": "python"
    }
  },
  "cells": [
    {
      "cell_type": "markdown",
      "metadata": {
        "id": "view-in-github",
        "colab_type": "text"
      },
      "source": [
        "<a href=\"https://colab.research.google.com/github/DanielMoreira26/dfmnatal/blob/main/Semin%C3%A1rio_2S.ipynb\" target=\"_parent\"><img src=\"https://colab.research.google.com/assets/colab-badge.svg\" alt=\"Open In Colab\"/></a>"
      ]
    },
    {
      "cell_type": "code",
      "execution_count": null,
      "metadata": {
        "id": "TICX5W9_PWVz"
      },
      "outputs": [],
      "source": [
        "amostras_turbidez #turbidez: (5.0, NTU), # NTU\n",
        "leste('56a e 4r')\n",
        "oeste('42a e 5r')\n",
        "norte1('32a e 3r')\n",
        "norte2('26a e 7r')\n",
        "sul('80a e 15r')\n",
        "\n",
        "amostras_cor_aparente #cor aparente: (15, UH), # UH\n",
        "leste('56a e 3r')\n",
        "oeste('42a e 1r')\n",
        "norte1('32a e 5r')\n",
        "norte2('26a e 11r')\n",
        "sul('80a e 1r')\n",
        "\n",
        "amostras_escherichia_coli #escherichia coli: (0, 0), # UFC/100mL\n",
        "leste('56a')\n",
        "oeste('42a e 1r')\n",
        "norte1('32a')\n",
        "norte2('26a')\n",
        "sul('80a')\n",
        "\n",
        "amostras_ph #pH: (6.5, 8.5), # unidade\n",
        "leste('56a e 26r')\n",
        "oeste('42a e 19r')\n",
        "norte1('32a e 9r')\n",
        "norte2('26a e 5r')\n",
        "sul('80a e 40r')\n",
        "\n",
        "amostras_oliformes_totais #coliformes totais: (0, 0), # UFC/100mL\n",
        "leste('56a e 7r')\n",
        "oeste('42a e 2r')\n",
        "norte1('32a e 6a')\n",
        "norte2('26a e 13r')\n",
        "sul('80a e 4r')\n",
        "\n",
        "#Análise dos parâmetros da qualidade da água em Natal/RN - fevereiro de 2023.\n",
        "#cloro residual: (0.2, 2.0), # mg/L\n",
        "amostras_aprovadas = 236\n",
        "amostras_reprovadas = 64\n",
        "total_amostras = amostras_aprovadas + amostras_reprovadas\n",
        "percentual_aprovadas = (amostras_aprovadas / total_amostras) * 100\n",
        "percentual_reprovadas = (amostras_reprovadas / total_amostras) * 100\n",
        "print(f\"Percentual de amostras aprovadas: {percentual_aprovadas:.2f}%\")\n",
        "print(f\"Percentual de amostras reprovadas: {percentual_reprovadas:.2f}%\")"
      ]
    }
  ]
}