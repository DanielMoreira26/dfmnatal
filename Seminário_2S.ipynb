{
  "nbformat": 4,
  "nbformat_minor": 0,
  "metadata": {
    "colab": {
      "provenance": [],
      "authorship_tag": "ABX9TyNXQczAfmxkDf6ntbNVhvp0",
      "include_colab_link": true
    },
    "kernelspec": {
      "name": "python3",
      "display_name": "Python 3"
    },
    "language_info": {
      "name": "python"
    }
  },
  "cells": [
    {
      "cell_type": "markdown",
      "metadata": {
        "id": "view-in-github",
        "colab_type": "text"
      },
      "source": [
        "<a href=\"https://colab.research.google.com/github/DanielMoreira26/dfmnatal/blob/main/Semin%C3%A1rio_2S.ipynb\" target=\"_parent\"><img src=\"https://colab.research.google.com/assets/colab-badge.svg\" alt=\"Open In Colab\"/></a>"
      ]
    },
    {
      "cell_type": "code",
      "execution_count": null,
      "metadata": {
        "id": "TICX5W9_PWVz"
      },
      "outputs": [],
      "source": [
        "#cloro residual: (0.2, 2.0), # mg/L Aprovadas - 236 Reprovadas - 64\n",
        "leste('56a e 16r')\n",
        "oeste('42a e 10r')\n",
        "norte1('32a e 5r')\n",
        "norte2('26a e 8r')\n",
        "sul('80a e 25r')\n",
        "\n",
        "#turbidez: (5.0, NTU), # NTU Aprovadas -  Reprovadas - 34\n",
        "leste('56a e 4r')\n",
        "oeste('42a e 5r')\n",
        "norte1('32a e 3r')\n",
        "norte2('26a e 7r')\n",
        "sul('80a e 15r')\n",
        "\n",
        "#cor aparente: (15, UH), # UH Aprovadas -  Reprovadas - 21\n",
        "leste('56a e 3r')\n",
        "oeste('42a e 1r')\n",
        "norte1('32a e 5r')\n",
        "norte2('26a e 11r')\n",
        "sul('80a e 1r')\n",
        "\n",
        "#escherichia coli: (0, 0), # UFC/100mL Aprovadas - 236  Reprovadas -1\n",
        "leste('56a')\n",
        "oeste('42a e 1r')\n",
        "norte1('32a')\n",
        "norte2('26a')\n",
        "sul('80a')\n",
        "\n",
        "#pH: (6.5, 8.5), # unidade Aprovadas - 236  Reprovadas - 99\n",
        "leste('56a e 26r')\n",
        "oeste('42a e 19r')\n",
        "norte1('32a e 9r')\n",
        "norte2('26a e 5r')\n",
        "sul('80a e 40r')\n",
        "\n",
        "#coliformes totais: (0, 0), # UFC/100mL Aprovadas -  Reprovadas - 32\n",
        "leste('56a e 7r')\n",
        "oeste('42a e 2r')\n",
        "norte1('32a e 6a')\n",
        "norte2('26a e 13r')\n",
        "sul('80a e 4r')\n",
        "\n",
        "amostras_aprovadas = int(input(\"Informe o número de amostras aprovadas: \"))\n",
        "amostras_reprovadas = int(input(\"Informe o número de amostras reprovadas: \"))\n",
        "total_amostras = amostras_aprovadas + amostras_reprovadas\n",
        "percentual_reprovadas = (amostras_reprovadas / total_amostras) * 100\n",
        "\n",
        "if percentual_reprovadas > 20:\n",
        "  qualidade_agua = \"Ruim\"\n",
        "elif percentual_reprovadas > 10:\n",
        "  qualidade_agua = \"Regular\"\n",
        "else:\n",
        "  qualidade_agua = \"Bom\"\n",
        "\n",
        "print(f\"Análise da qualidade da água para abastecimento humano:\")\n",
        "print(f\"Total de amostras: {total_amostras}\")\n",
        "print(f\"Percentual de amostras reprovadas: {percentual_reprovadas:.2f}%\")\n",
        "print(f'Qualidade da água: {qualidade_agua}')"
      ]
    }
  ]
}