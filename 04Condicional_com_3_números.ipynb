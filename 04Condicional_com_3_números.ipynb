{
  "nbformat": 4,
  "nbformat_minor": 0,
  "metadata": {
    "colab": {
      "provenance": [],
      "authorship_tag": "ABX9TyNIZ6+iARcDGlYRCV2axUzr",
      "include_colab_link": true
    },
    "kernelspec": {
      "name": "python3",
      "display_name": "Python 3"
    },
    "language_info": {
      "name": "python"
    }
  },
  "cells": [
    {
      "cell_type": "markdown",
      "metadata": {
        "id": "view-in-github",
        "colab_type": "text"
      },
      "source": [
        "<a href=\"https://colab.research.google.com/github/DanielMoreira26/dfmnatal/blob/main/04Condicional_com_3_n%C3%BAmeros.ipynb\" target=\"_parent\"><img src=\"https://colab.research.google.com/assets/colab-badge.svg\" alt=\"Open In Colab\"/></a>"
      ]
    },
    {
      "cell_type": "code",
      "execution_count": null,
      "metadata": {
        "colab": {
          "base_uri": "https://localhost:8080/"
        },
        "id": "pb0Civi0u7Xv",
        "outputId": "32494a4d-1aee-4bd0-9448-4a56c64cb357"
      },
      "outputs": [
        {
          "output_type": "stream",
          "name": "stdout",
          "text": [
            "40\n"
          ]
        }
      ],
      "source": [
        "#Crie um código que, a partir de 3 variáveis\n",
        "#'a','b' e 'c' númericas imprimar a maior delas\n",
        "a=20\n",
        "b=40\n",
        "c=30\n",
        "\n",
        "if a < b:\n",
        "  if b < c:\n",
        "    print(c)\n",
        "  else:\n",
        "    print(b)\n",
        "else:\n",
        "  if a < c:\n",
        "    print(c)\n",
        "  else:\n",
        "    print(a)"
      ]
    },
    {
      "cell_type": "markdown",
      "source": [],
      "metadata": {
        "id": "dNkNfW5My9EO"
      }
    },
    {
      "cell_type": "code",
      "source": [
        "#Simplificando com funções do python\n",
        "a=10\n",
        "b=20\n",
        "c=30\n",
        "d=40\n",
        "e=15\n",
        "\n",
        "print(max(a,b,c,d,e))"
      ],
      "metadata": {
        "colab": {
          "base_uri": "https://localhost:8080/"
        },
        "id": "sHdMlMbky-sl",
        "outputId": "68ecb288-a5dc-4bbe-d160-98c16379c92c"
      },
      "execution_count": null,
      "outputs": [
        {
          "output_type": "stream",
          "name": "stdout",
          "text": [
            "40\n"
          ]
        }
      ]
    },
    {
      "cell_type": "code",
      "source": [
        "a=70\n",
        "b=60\n",
        "c=80\n",
        "\n",
        "if a < b:\n",
        "  if b < c:\n",
        "    print(c)\n",
        "  else:\n",
        "    print(b)\n",
        "else:\n",
        "  if a < c:\n",
        "    print(c)\n",
        "  else:\n",
        "    print(a)"
      ],
      "metadata": {
        "id": "SnK3MW8hh40L",
        "outputId": "ecd94cd2-a792-4796-d092-6846c8b9d9bc",
        "colab": {
          "base_uri": "https://localhost:8080/"
        }
      },
      "execution_count": 1,
      "outputs": [
        {
          "output_type": "stream",
          "name": "stdout",
          "text": [
            "80\n"
          ]
        }
      ]
    }
  ]
}