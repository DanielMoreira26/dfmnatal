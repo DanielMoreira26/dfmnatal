{
  "nbformat": 4,
  "nbformat_minor": 0,
  "metadata": {
    "colab": {
      "provenance": [],
      "authorship_tag": "ABX9TyO8wDncHYZ5/f0lItivTVR7",
      "include_colab_link": true
    },
    "kernelspec": {
      "name": "python3",
      "display_name": "Python 3"
    },
    "language_info": {
      "name": "python"
    }
  },
  "cells": [
    {
      "cell_type": "markdown",
      "metadata": {
        "id": "view-in-github",
        "colab_type": "text"
      },
      "source": [
        "<a href=\"https://colab.research.google.com/github/DanielMoreira26/dfmnatal/blob/main/Atividade_05_Exerc%C3%ADcios.ipynb\" target=\"_parent\"><img src=\"https://colab.research.google.com/assets/colab-badge.svg\" alt=\"Open In Colab\"/></a>"
      ]
    },
    {
      "cell_type": "markdown",
      "source": [
        "1. Crie um programa que leia um número inteiro. Quando este for negativo,\n",
        "some-o com 100; quando positivo, apenas faça sua impressão."
      ],
      "metadata": {
        "id": "4VvVcu53r8gz"
      }
    },
    {
      "cell_type": "code",
      "source": [
        "número = int(input(\"Digite um número inteiro: \"))\n",
        "if número < 0:\n",
        "    número = número + 100\n",
        "print(número)"
      ],
      "metadata": {
        "id": "s2x2Yqs4r9zG",
        "colab": {
          "base_uri": "https://localhost:8080/"
        },
        "outputId": "9cc1456e-c190-42e2-82c6-24e11203a549"
      },
      "execution_count": null,
      "outputs": [
        {
          "output_type": "stream",
          "name": "stdout",
          "text": [
            "Digite um número inteiro: -90\n",
            "10\n"
          ]
        }
      ]
    },
    {
      "cell_type": "markdown",
      "source": [
        "2. Crie um programa que leia o código de um curso do IFRN, Campus\n",
        "Natal Central, e indique o nome do curso de acordo com a tabela abaixo. Se o\n",
        "programa ler um código inexistente no Instituto, uma mensagem de alerta deve\n",
        "ser informada ao usuário.\n",
        "Código Curso\n",
        "1 Técnico em Informática\n",
        "Subseqüente\n",
        "2 Técnico em Informática EJA\n",
        "3 Técnico em Cooperativismo\n",
        "4 Técnico em Cooperativismo EJA\n",
        "5 Licenciatura em Física"
      ],
      "metadata": {
        "id": "DJTYkYCQr-r6"
      }
    },
    {
      "cell_type": "code",
      "source": [
        "curso = {\n",
        "1: \"Técnico em Informática\",\n",
        "2: \"Técnico em Informática EJA\",\n",
        "3: \"Técnico em Cooperativismo\",\n",
        "4: \"Técnico em Cooperativismo EJA\",\n",
        "5: \"Licenciatura em Física\"\n",
        "}\n",
        "código = int(input(\"Digite o código do curso: \"))\n",
        "if código in curso:\n",
        "    print(curso[código])\n",
        "else:\n",
        "    print(\"Código inválido\")\n"
      ],
      "metadata": {
        "id": "vkiDPrJXsTIY",
        "colab": {
          "base_uri": "https://localhost:8080/"
        },
        "outputId": "bee3503b-a5e3-4081-d90f-f3868f2a7807"
      },
      "execution_count": null,
      "outputs": [
        {
          "output_type": "stream",
          "name": "stdout",
          "text": [
            "Digite o código do curso: 2\n",
            "Técnico em Informática EJA\n"
          ]
        }
      ]
    },
    {
      "cell_type": "markdown",
      "source": [
        "3. Leia duas strings e informe o conteúdo delas\n",
        "seguido do seu comprimento.\n",
        "3a. Crie uma variável res1 que informa se as duas\n",
        "strings possuem o mesmo comprimento.\n",
        "Observe o exemplo:\n",
        "● Compara duas strings\n",
        "● string1: Brasil Hexa 2006\n",
        "● string2: Brasil! Hexa 2006!\n",
        "● Tamanho de \"Brasil Hexa 2006\": 16 caracteres\n",
        "● Tamanho de \"Brasil! Hexa 2006!\": 18 caracteres"
      ],
      "metadata": {
        "id": "Rtt-EnbqsZt-"
      }
    },
    {
      "cell_type": "code",
      "source": [
        "time1 = input(\"Digite o primeiro time: \")\n",
        "time2 = input(\"Digite o segundo time: \")\n",
        "print(\"Conteúdo do primeiro time:\", time1)\n",
        "print(\"Conteúdo do segundo time:\", time2)\n",
        "print(\"Comprimento do primeiro time:\", len(time1))\n",
        "print(\"Comprimento do segundo time:\", len(time2))\n",
        "res1 = len(time1) == len(time2)\n",
        "if res1:\n",
        "    print(\"Os times possuem o mesmo comprimento\")\n",
        "else:\n",
        "    print(\"Os times não possuem o mesmo comprimento\")"
      ],
      "metadata": {
        "id": "Y5pmI9YOsddw",
        "colab": {
          "base_uri": "https://localhost:8080/"
        },
        "outputId": "f25f062c-3e66-4a4d-abc1-74583f92e94f"
      },
      "execution_count": 12,
      "outputs": [
        {
          "output_type": "stream",
          "name": "stdout",
          "text": [
            "Digite o primeiro time: Clube de Regatas Brasil\n",
            "Digite o segundo time: Clube de Regatas Vasco da Gama\n",
            "Conteúdo do primeiro time: Clube de Regatas Brasil\n",
            "Conteúdo do segundo time: Clube de Regatas Vasco da Gama\n",
            "Comprimento do primeiro time: 23\n",
            "Comprimento do segundo time: 30\n",
            "Os times não possuem o mesmo comprimento\n"
          ]
        }
      ]
    },
    {
      "cell_type": "markdown",
      "source": [
        "3b. Crie uma variável res2 que informa se as duasstrings são iguais ou diferentes no conteúdo.\n",
        "Observe o exemplo:\n",
        "● Compara duas strings\n",
        "● string1: Brasil Hexa 2006\n",
        "● string2: Brasil! Hexa 2006!\n",
        "● Res1 = len(string1) == len(string2)\n",
        "● Res2 = (string1 == string2)"
      ],
      "metadata": {
        "id": "T0Ng0-a7seEu"
      }
    },
    {
      "cell_type": "code",
      "source": [
        "atos_administrativos1 = \"Efeito Vinculante\"\n",
        "atos_administrativos2 = \"Efeito Discricionário\"\n",
        "\n",
        "res2 = (atos_administrativos1 == atos_administrativos2)\n",
        "\n",
        "print(\"Os Atos são iguais?\" if res2 else \"Os Atos são diferentes\")\n"
      ],
      "metadata": {
        "id": "ra_rCgwFsh-2",
        "colab": {
          "base_uri": "https://localhost:8080/"
        },
        "outputId": "550b071a-834a-459a-d630-c758c040c0ea"
      },
      "execution_count": 7,
      "outputs": [
        {
          "output_type": "stream",
          "name": "stdout",
          "text": [
            "Os Atos são diferentes\n"
          ]
        }
      ]
    },
    {
      "cell_type": "markdown",
      "source": [
        "4. Faça um programa que ler uma string e cortaos dois primeiros caracteres e os dois últimos\n",
        "Exemplo:\n",
        "● B = “0123456789”\n",
        "● Resultado = “234567”"
      ],
      "metadata": {
        "id": "IFpg2Gmqsipf"
      }
    },
    {
      "cell_type": "code",
      "source": [
        "minha_lista = \"0123456789\"\n",
        "nova_lista = minha_lista[2:-2]\n",
        "\n",
        "print(\"nova_lista:\", nova_lista)"
      ],
      "metadata": {
        "colab": {
          "base_uri": "https://localhost:8080/"
        },
        "id": "GbwewR_BDcMR",
        "outputId": "5f26a826-494a-4a09-c6f2-63e851a40f3e"
      },
      "execution_count": 6,
      "outputs": [
        {
          "output_type": "stream",
          "name": "stdout",
          "text": [
            "nova_lista: 234567\n"
          ]
        }
      ]
    }
  ]
}