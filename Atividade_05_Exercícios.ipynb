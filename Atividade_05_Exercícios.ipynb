{
  "nbformat": 4,
  "nbformat_minor": 0,
  "metadata": {
    "colab": {
      "provenance": [],
      "authorship_tag": "ABX9TyMSDYNN8iKVue5qPtVZD/MJ",
      "include_colab_link": true
    },
    "kernelspec": {
      "name": "python3",
      "display_name": "Python 3"
    },
    "language_info": {
      "name": "python"
    }
  },
  "cells": [
    {
      "cell_type": "markdown",
      "metadata": {
        "id": "view-in-github",
        "colab_type": "text"
      },
      "source": [
        "<a href=\"https://colab.research.google.com/github/DanielMoreira26/dfmnatal/blob/main/Atividade_05_Exerc%C3%ADcios.ipynb\" target=\"_parent\"><img src=\"https://colab.research.google.com/assets/colab-badge.svg\" alt=\"Open In Colab\"/></a>"
      ]
    },
    {
      "cell_type": "markdown",
      "source": [
        "1. Crie um programa que leia um número inteiro. Quando este for negativo,\n",
        "some-o com 100; quando positivo, apenas faça sua impressão."
      ],
      "metadata": {
        "id": "4VvVcu53r8gz"
      }
    },
    {
      "cell_type": "code",
      "source": [],
      "metadata": {
        "id": "s2x2Yqs4r9zG"
      },
      "execution_count": null,
      "outputs": []
    },
    {
      "cell_type": "markdown",
      "source": [
        "2. Crie um programa que leia o código de um curso do IFRN, Campus\n",
        "Natal Central, e indique o nome do curso de acordo com a tabela abaixo. Se o\n",
        "programa ler um código inexistente no Instituto, uma mensagem de alerta deve\n",
        "ser informada ao usuário.\n",
        "Código Curso\n",
        "1 Técnico em Informática\n",
        "Subseqüente\n",
        "2 Técnico em Informática EJA\n",
        "3 Técnico em Cooperativismo\n",
        "4 Técnico em Cooperativismo EJA\n",
        "5 Licenciatura em Física"
      ],
      "metadata": {
        "id": "DJTYkYCQr-r6"
      }
    },
    {
      "cell_type": "code",
      "source": [],
      "metadata": {
        "id": "vkiDPrJXsTIY"
      },
      "execution_count": null,
      "outputs": []
    },
    {
      "cell_type": "markdown",
      "source": [
        "3. Leia duas strings e informe o conteúdo delas\n",
        "seguido do seu comprimento.\n",
        "3a. Crie uma variável res1 que informa se as duas\n",
        "strings possuem o mesmo comprimento.\n",
        "Observe o exemplo:\n",
        "● Compara duas strings\n",
        "● string1: Brasil Hexa 2006\n",
        "● string2: Brasil! Hexa 2006!\n",
        "● Tamanho de \"Brasil Hexa 2006\": 16 caracteres\n",
        "● Tamanho de \"Brasil! Hexa 2006!\": 18 caracteres"
      ],
      "metadata": {
        "id": "Rtt-EnbqsZt-"
      }
    },
    {
      "cell_type": "code",
      "source": [],
      "metadata": {
        "id": "Y5pmI9YOsddw"
      },
      "execution_count": null,
      "outputs": []
    },
    {
      "cell_type": "markdown",
      "source": [
        "3b. Crie uma variável res2 que informa se as duasstrings são iguais ou diferentes no conteúdo.\n",
        "Observe o exemplo:\n",
        "● Compara duas strings\n",
        "● string1: Brasil Hexa 2006\n",
        "● string2: Brasil! Hexa 2006!\n",
        "● Res1 = len(string1) == len(string2)\n",
        "● Res2 = (string1 == string2)"
      ],
      "metadata": {
        "id": "T0Ng0-a7seEu"
      }
    },
    {
      "cell_type": "code",
      "source": [],
      "metadata": {
        "id": "ra_rCgwFsh-2"
      },
      "execution_count": null,
      "outputs": []
    },
    {
      "cell_type": "markdown",
      "source": [
        "4. Faça um programa que ler uma string e cortaos dois primeiros caracteres e os dois últimos\n",
        "Exemplo:\n",
        "● B = “0123456789”\n",
        "● Resultado = “234567”"
      ],
      "metadata": {
        "id": "IFpg2Gmqsipf"
      }
    },
    {
      "cell_type": "code",
      "source": [],
      "metadata": {
        "id": "E8JysMYWsmBz"
      },
      "execution_count": null,
      "outputs": []
    }
  ]
}