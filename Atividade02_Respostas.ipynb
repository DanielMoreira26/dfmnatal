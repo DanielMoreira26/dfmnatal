{
  "nbformat": 4,
  "nbformat_minor": 0,
  "metadata": {
    "colab": {
      "provenance": [],
      "authorship_tag": "ABX9TyP+y1RDBG7EtNI493vhaB94",
      "include_colab_link": true
    },
    "kernelspec": {
      "name": "python3",
      "display_name": "Python 3"
    },
    "language_info": {
      "name": "python"
    }
  },
  "cells": [
    {
      "cell_type": "markdown",
      "metadata": {
        "id": "view-in-github",
        "colab_type": "text"
      },
      "source": [
        "<a href=\"https://colab.research.google.com/github/DanielMoreira26/dfmnatal/blob/main/Atividade02_Respostas.ipynb\" target=\"_parent\"><img src=\"https://colab.research.google.com/assets/colab-badge.svg\" alt=\"Open In Colab\"/></a>"
      ]
    },
    {
      "cell_type": "markdown",
      "source": [
        "Questão 01:\n",
        "Como você faria para garantir que as notas inseridas pelo usuário estejam dentro de um intervalo válido (por exemplo, entre 0 e 10)?"
      ],
      "metadata": {
        "id": "VZsSxJ8vs3ai"
      }
    },
    {
      "cell_type": "code",
      "source": [
        "print(\"Calculadora de média ponderada do IFRN\")\n",
        "\n",
        "#Flag de validade da nota\n",
        "invalido = 0\n",
        "\n",
        "#Float, tipagem explícita, para garantir número fracionário\n",
        "n1 = float( input(\"Digite a nota 1(com peso 2): \") )\n",
        "if 0 <= n1 <= 10:\n",
        "  print(\"Valor no intervalo\")\n",
        "else:\n",
        "  print(\"Nota inválida. Por favor, digite um valor entre 0 e 10.\")\n",
        "  invalido = 1\n",
        "\n",
        "if invalido == 0:\n",
        "  n2 = float( input(\"Digite a nota 2(com peso 3): \") )\n",
        "  if 0 <= n2 <= 10:\n",
        "    print(\"Valor no intervalo\")\n",
        "  else:\n",
        "    print(\"Nota inválida. Por favor, digite um valor entre 0 e 10.\")\n",
        "    invalido = 1\n",
        "\n",
        "if invalido == 0:\n",
        "  #calculo de media ponderada\n",
        "  media = (n1 * 2 + n2 * 3) / 5\n",
        "\n",
        "  #impressão da média\n",
        "  print(f\"A média ponderada das notas é: {media:.2f}\")\n",
        "\n",
        "  #apresentar se o aluno foi aprovado ou não\n",
        "  if media >= 6:\n",
        "    print(\"Aprovado\")\n",
        "  else:\n",
        "    if media >= 2:\n",
        "      print(\"Prova final\")\n",
        "    else:\n",
        "      print(\"Reprovado\")"
      ],
      "metadata": {
        "colab": {
          "base_uri": "https://localhost:8080/"
        },
        "id": "viXFIjYgtUT-",
        "outputId": "b91c1b85-1e13-484e-98a6-26ed9c9ced97"
      },
      "execution_count": 4,
      "outputs": [
        {
          "output_type": "stream",
          "name": "stdout",
          "text": [
            "Calculadora de média ponderada do IFRN\n",
            "Digite a nota 1(com peso 2): 60\n",
            "Nota inválida. Por favor, digite um valor entre 0 e 10.\n"
          ]
        }
      ]
    },
    {
      "cell_type": "markdown",
      "source": [
        "Questão 02:\n",
        "Como você poderia permitir que o usuário personalize os pesos das notas, em vez de usar pesos fixos (por exemplo, permitir que o usuário defina o peso para cada nota inserida)?"
      ],
      "metadata": {
        "id": "bF2RlSFvs40J"
      }
    },
    {
      "cell_type": "code",
      "source": [
        "print(\"Calculadora de média ponderada do IFRN\")\n",
        "\n",
        "#Flag de validade da nota\n",
        "invalido = 0\n",
        "\n",
        "#Float, tipagem explícita, para garantir número fracionário\n",
        "peso_n1 = float( input(\"Digite o peso da nota 1: \"))\n",
        "n1 = float( input(\"Digite a nota 1: \") )\n",
        "if 0 <= n1 <= 10:\n",
        "  print(\"Valor no intervalo\")\n",
        "else:\n",
        "  print(\"Nota inválida. Por favor, digite um valor entre 0 e 10.\")\n",
        "  invalido = 1\n",
        "\n",
        "if invalido == 0:\n",
        "  peso_n2 = float( input(\"Digite o peso da nota 2: \"))\n",
        "  n2 = float( input(\"Digite a nota 2: \") )\n",
        "  if 0 <= n2 <= 10:\n",
        "    print(\"Valor no intervalo\")\n",
        "  else:\n",
        "    print(\"Nota inválida. Por favor, digite um valor entre 0 e 10.\")\n",
        "    invalido = 1\n",
        "\n",
        "if invalido == 0:\n",
        "  #calculo de media ponderada\n",
        "  media = (n1 * peso_n1 + n2 * peso_n2) / (peso_n1 + peso_n2)\n",
        "\n",
        "  #impressão da média\n",
        "  print(f\"A média ponderada das notas é: {media:.2f}\")\n",
        "\n",
        "  #apresentar se o aluno foi aprovado ou não\n",
        "  if media >= 6:\n",
        "    print(\"Aprovado\")\n",
        "  else:\n",
        "    if media >= 2:\n",
        "      print(\"Prova final\")\n",
        "    else:\n",
        "      print(\"Reprovado\")\n",
        "\n"
      ],
      "metadata": {
        "colab": {
          "base_uri": "https://localhost:8080/"
        },
        "id": "KvQ0DktBtWSe",
        "outputId": "917a55e7-376d-4b20-a64a-7e656682caab"
      },
      "execution_count": 5,
      "outputs": [
        {
          "output_type": "stream",
          "name": "stdout",
          "text": [
            "Calculadora de média ponderada do IFRN\n",
            "Digite o peso da nota 1: 2\n",
            "Digite a nota 1: 8.6\n",
            "Valor no intervalo\n",
            "Digite o peso da nota 2: 3\n",
            "Digite a nota 2: 7.8\n",
            "Valor no intervalo\n",
            "A média ponderada das notas é: 8.12\n",
            "Aprovado\n"
          ]
        }
      ]
    }
  ]
}