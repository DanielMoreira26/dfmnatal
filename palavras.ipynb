{
  "nbformat": 4,
  "nbformat_minor": 0,
  "metadata": {
    "colab": {
      "provenance": [],
      "authorship_tag": "ABX9TyNTizAAmaVpQRLjROmCI63N",
      "include_colab_link": true
    },
    "kernelspec": {
      "name": "python3",
      "display_name": "Python 3"
    },
    "language_info": {
      "name": "python"
    }
  },
  "cells": [
    {
      "cell_type": "markdown",
      "metadata": {
        "id": "view-in-github",
        "colab_type": "text"
      },
      "source": [
        "<a href=\"https://colab.research.google.com/github/DanielMoreira26/dfmnatal/blob/main/palavras.ipynb\" target=\"_parent\"><img src=\"https://colab.research.google.com/assets/colab-badge.svg\" alt=\"Open In Colab\"/></a>"
      ]
    },
    {
      "cell_type": "code",
      "execution_count": null,
      "metadata": {
        "id": "zwDQKTnInYzh"
      },
      "outputs": [],
      "source": [
        "palavras = [\n",
        "  'Abacaxi',\n",
        "  'Abóbora',\n",
        "  'Peixe',\n",
        "  'Batata',\n",
        "  'Queijo',\n",
        "  'Zumbi',\n",
        "  'Computador',\n",
        "  'Mouse',\n",
        "  'Teclado',\n",
        "  'Fio',\n",
        "  'Monitor',\n",
        "  'Bola',\n",
        "  'Microfone',\n",
        "  'Livro',\n",
        "  'Fone',\n",
        "  'Telefone',\n",
        "  'Flor',\n",
        "  'Câmera',\n",
        "  'Suporte',\n",
        "  'Espada',\n",
        "  'Machado'\n",
        "]"
      ]
    }
  ]
}